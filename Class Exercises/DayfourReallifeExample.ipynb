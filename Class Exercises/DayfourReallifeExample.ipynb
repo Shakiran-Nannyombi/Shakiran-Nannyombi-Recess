{
 "cells": [
  {
   "cell_type": "code",
   "execution_count": 2,
   "id": "14c58032-edc8-44f1-82c3-34b8586468c4",
   "metadata": {},
   "outputs": [
    {
     "name": "stdout",
     "output_type": "stream",
     "text": [
      "Account SAV055555 Balance: 100000\n",
      "Interest of 5000.0 added. New balance: 105000.0\n",
      "Withdrew 20000. New balance: 85000.0\n",
      "LB___________________________\n",
      "Account CUR059888 Balance: 50000\n",
      "Exceeded the overdraft limit.\n",
      "Withdrew: 45000. New balance: 5000\n"
     ]
    }
   ],
   "source": [
    "# Real world scenario or Problems\n",
    "# bank Accounts: Saving account and current account inherit from bank account\n",
    "# deposit, withdraw, display balance, types of accounts\n",
    "\n",
    "# Superclass\n",
    "class BankAccount:\n",
    "    def __init__(self, account_number, balance):\n",
    "        self.account_number = account_number\n",
    "        self.balance = balance\n",
    "\n",
    "    def deposit(self, amount):\n",
    "        self.balance += amount\n",
    "        print(f\"Deposited {amount}. New balance: {self.balance}\")\n",
    "\n",
    "    def withdraw(self, amount):\n",
    "        if amount <= self.balance:\n",
    "            self.balance -= amount\n",
    "            print(f\"Withdrew {amount}. New balance: {self.balance}\")\n",
    "        else:\n",
    "            print(\"Insufficient funds.\")\n",
    "\n",
    "    def display_balance(self):\n",
    "        print(f\"Account {self.account_number} Balance: {self.balance}\")\n",
    "\n",
    "# Subclass: Savings Account\n",
    "class SavingAccount(BankAccount):\n",
    "    def __init__(self, account_number, balance, interest_rate):\n",
    "        super().__init__(account_number, balance)\n",
    "        self.interest_rate = interest_rate\n",
    "\n",
    "    def add_interest(self):\n",
    "        interest = self.balance * self.interest_rate / 100\n",
    "        self.balance += interest\n",
    "        print(f\"Interest of {interest} added. New balance: {self.balance}\")\n",
    "\n",
    "# Subclass: Current Account\n",
    "class CurrentAccount(BankAccount):\n",
    "    def __init__(self, account_number, balance, overdraft_limit):\n",
    "        super().__init__(account_number, balance)\n",
    "        self.overdraft_limit = overdraft_limit\n",
    "\n",
    "    # Override withdraw method to allow overdraft\n",
    "    def withdraw(self, amount):\n",
    "        if amount <= self.balance + self.overdraft_limit:\n",
    "            self.balance -= amount\n",
    "            print(f\"Withdrew: {amount}. New balance: {self.balance}\")\n",
    "        else:\n",
    "            print(\"Exceeded the overdraft limit.\")\n",
    "\n",
    "# Create objects\n",
    "saving = SavingAccount(\"SAV055555\", 100000, 5)\n",
    "current = CurrentAccount(\"CUR059888\", 50000, 10000)  # overdraft_limit was set to 10, changed to 10000 for realism\n",
    "\n",
    "# Test methods\n",
    "saving.display_balance()\n",
    "saving.add_interest()\n",
    "saving.withdraw(20000)\n",
    "print(\"LB___________________________\")\n",
    "\n",
    "current.display_balance()\n",
    "current.withdraw(70000)\n",
    "current.withdraw(45000)"
   ]
  }
 ],
 "metadata": {
  "kernelspec": {
   "display_name": "Python [conda env:base] *",
   "language": "python",
   "name": "conda-base-py"
  },
  "language_info": {
   "codemirror_mode": {
    "name": "ipython",
    "version": 3
   },
   "file_extension": ".py",
   "mimetype": "text/x-python",
   "name": "python",
   "nbconvert_exporter": "python",
   "pygments_lexer": "ipython3",
   "version": "3.12.7"
  }
 },
 "nbformat": 4,
 "nbformat_minor": 5
}
