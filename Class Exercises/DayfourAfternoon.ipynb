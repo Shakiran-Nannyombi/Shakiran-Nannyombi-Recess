{
 "cells": [
  {
   "cell_type": "code",
   "execution_count": 22,
   "id": "b4b11a52-fbb6-435f-a84c-73122defc856",
   "metadata": {},
   "outputs": [
    {
     "name": "stdout",
     "output_type": "stream",
     "text": [
      "6\n"
     ]
    }
   ],
   "source": [
    "# We deal with methods\n",
    "# Methods carry parameters\n",
    "# Method overloading: We had two or more methods with the same name but different kinds of parameters.\n",
    "# Python doesn't support method overloading by default\n",
    "\n",
    "def sum(w,r):\n",
    "    s = w + r\n",
    "    print(s)\n",
    "\n",
    "def sum (w,r,x):\n",
    "    s = w + r + x\n",
    "    print(s)\n",
    "\n",
    "sum(1,2,3)"
   ]
  },
  {
   "cell_type": "code",
   "execution_count": 24,
   "id": "a429c119-f1f3-46b3-9ba8-ddeb3d6e7b87",
   "metadata": {},
   "outputs": [
    {
     "ename": "TypeError",
     "evalue": "product() missing 1 required positional argument: 'x'",
     "output_type": "error",
     "traceback": [
      "\u001b[1;31m---------------------------------------------------------------------------\u001b[0m",
      "\u001b[1;31mTypeError\u001b[0m                                 Traceback (most recent call last)",
      "Cell \u001b[1;32mIn[24], line 12\u001b[0m\n\u001b[0;32m      9\u001b[0m     a \u001b[38;5;241m=\u001b[39m w \u001b[38;5;241m*\u001b[39m r \u001b[38;5;241m*\u001b[39m x\n\u001b[0;32m     10\u001b[0m     \u001b[38;5;28mprint\u001b[39m(\u001b[38;5;124m\"\u001b[39m\u001b[38;5;124mProduct2: \u001b[39m\u001b[38;5;124m\"\u001b[39m, a)\n\u001b[1;32m---> 12\u001b[0m product(\u001b[38;5;241m4\u001b[39m,\u001b[38;5;241m5\u001b[39m)\n\u001b[0;32m     13\u001b[0m product(\u001b[38;5;241m1\u001b[39m,\u001b[38;5;241m5\u001b[39m,\u001b[38;5;241m7\u001b[39m)\n",
      "\u001b[1;31mTypeError\u001b[0m: product() missing 1 required positional argument: 'x'"
     ]
    }
   ],
   "source": [
    "# Method Overloading\n",
    "\n",
    "def product(w,r):\n",
    "    s = w * r\n",
    "    print(\"Product1: \", s)\n",
    "\n",
    "\n",
    "def product (w,r,x):\n",
    "    a = w * r * x\n",
    "    print(\"Product2: \", a)\n",
    "\n",
    "product(4,5)\n",
    "product(1,5,7)"
   ]
  },
  {
   "cell_type": "code",
   "execution_count": 28,
   "id": "8698a588-3831-4fc0-9c29-6131c98558a2",
   "metadata": {},
   "outputs": [
    {
     "name": "stdout",
     "output_type": "stream",
     "text": [
      "9\n",
      "8.600000000000001\n"
     ]
    }
   ],
   "source": [
    "# pip refers to preferred installer program\n",
    "# pip helps you install packages\n",
    "# This is a standard package manager for python \n",
    "# To use Pip, first prerequiste already achieved which was installing \n",
    "\n",
    "#using the Most effiecient method of Overloading\n",
    "# focus on dispatch\n",
    "\n",
    "from multipledispatch import dispatch\n",
    "\n",
    "@dispatch (int, int, int)\n",
    "def sum(a,b,c):\n",
    "    result = a + b + c\n",
    "    print(result)\n",
    "\n",
    "@dispatch (float, float, float)\n",
    "def sum(w,r,t):\n",
    "    result = w + r + t\n",
    "    print(result)\n",
    "\n",
    "sum(2,3,4)\n",
    "sum(3.1, 2.2, 3.3)"
   ]
  },
  {
   "cell_type": "code",
   "execution_count": 36,
   "id": "c550d1e9-d0ea-48ed-875b-0f54d3b63013",
   "metadata": {},
   "outputs": [
    {
     "name": "stdout",
     "output_type": "stream",
     "text": [
      "Product: 20\n",
      "Product: 35\n",
      "This is a MethodOverloading example in Python.\n"
     ]
    }
   ],
   "source": [
    "# Method Overloading\n",
    "\n",
    "from multipledispatch import dispatch\n",
    "\n",
    "@dispatch(int, int)\n",
    "def product(w,r):\n",
    "    return w * r\n",
    "\n",
    "@dispatch(int, int, int)\n",
    "def product(w,r,x):\n",
    "    return w * r * x\n",
    "\n",
    "@dispatch(str, str, str)\n",
    "def product(a, b, c):\n",
    "    word = a + b + c\n",
    "    print(word)\n",
    "\n",
    "print (f\"Product: {product(4,5)}\")\n",
    "print (f\"Product: {product(1,5,7)}\")\n",
    "product(\"This is \", \"a MethodOverloading example \", \"in Python.\")"
   ]
  },
  {
   "cell_type": "code",
   "execution_count": null,
   "id": "13ba82c2-9aeb-4d99-a852-737eeb738b85",
   "metadata": {},
   "outputs": [],
   "source": []
  }
 ],
 "metadata": {
  "kernelspec": {
   "display_name": "Python [conda env:base] *",
   "language": "python",
   "name": "conda-base-py"
  },
  "language_info": {
   "codemirror_mode": {
    "name": "ipython",
    "version": 3
   },
   "file_extension": ".py",
   "mimetype": "text/x-python",
   "name": "python",
   "nbconvert_exporter": "python",
   "pygments_lexer": "ipython3",
   "version": "3.12.7"
  }
 },
 "nbformat": 4,
 "nbformat_minor": 5
}
