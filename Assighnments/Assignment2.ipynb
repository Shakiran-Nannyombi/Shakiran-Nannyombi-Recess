{
 "cells": [
  {
   "cell_type": "code",
   "execution_count": 2,
   "id": "e866eb94-24fa-489f-b5a2-483429d8b434",
   "metadata": {},
   "outputs": [
    {
     "name": "stdout",
     "output_type": "stream",
     "text": [
      "\n",
      "Inventory Management System\n",
      "1. Display Inventory\n",
      "2. Update Item Quantity\n",
      "3. Add New Item\n",
      "4. Exit\n"
     ]
    },
    {
     "name": "stdin",
     "output_type": "stream",
     "text": [
      "Enter your choice:  1\n"
     ]
    },
    {
     "name": "stdout",
     "output_type": "stream",
     "text": [
      "\n",
      "Current Inventory:\n",
      "Apples: 50 units\n",
      "Bananas: 30 units\n",
      "Oranges: 20 units\n",
      "Mangoes: 10 units\n",
      "\n",
      "Inventory Management System\n",
      "1. Display Inventory\n",
      "2. Update Item Quantity\n",
      "3. Add New Item\n",
      "4. Exit\n"
     ]
    },
    {
     "name": "stdin",
     "output_type": "stream",
     "text": [
      "Enter your choice:  2\n",
      "\n",
      "Enter the item name to update (or type 'exit' to quit):  bananas\n",
      "Enter the new quantity for Bananas:  60\n"
     ]
    },
    {
     "name": "stdout",
     "output_type": "stream",
     "text": [
      "Bananas updated to 60 units.\n"
     ]
    },
    {
     "name": "stdin",
     "output_type": "stream",
     "text": [
      "\n",
      "Enter the item name to update (or type 'exit' to quit):  exit\n"
     ]
    },
    {
     "name": "stdout",
     "output_type": "stream",
     "text": [
      "\n",
      "Inventory Management System\n",
      "1. Display Inventory\n",
      "2. Update Item Quantity\n",
      "3. Add New Item\n",
      "4. Exit\n"
     ]
    },
    {
     "name": "stdin",
     "output_type": "stream",
     "text": [
      "Enter your choice:  3\n",
      "\n",
      "Enter the name of the new item (or type 'exit' to quit):  flour\n",
      "Enter the initial quantity for Flour:  2\n"
     ]
    },
    {
     "name": "stdout",
     "output_type": "stream",
     "text": [
      "Flour added with 2 units.\n"
     ]
    },
    {
     "name": "stdin",
     "output_type": "stream",
     "text": [
      "\n",
      "Enter the name of the new item (or type 'exit' to quit):  exit\n"
     ]
    },
    {
     "name": "stdout",
     "output_type": "stream",
     "text": [
      "\n",
      "Inventory Management System\n",
      "1. Display Inventory\n",
      "2. Update Item Quantity\n",
      "3. Add New Item\n",
      "4. Exit\n"
     ]
    },
    {
     "name": "stdin",
     "output_type": "stream",
     "text": [
      "Enter your choice:  1\n"
     ]
    },
    {
     "name": "stdout",
     "output_type": "stream",
     "text": [
      "\n",
      "Current Inventory:\n",
      "Apples: 50 units\n",
      "Bananas: 60 units\n",
      "Oranges: 20 units\n",
      "Mangoes: 10 units\n",
      "Flour: 2 units\n",
      "\n",
      "Inventory Management System\n",
      "1. Display Inventory\n",
      "2. Update Item Quantity\n",
      "3. Add New Item\n",
      "4. Exit\n"
     ]
    },
    {
     "name": "stdin",
     "output_type": "stream",
     "text": [
      "Enter your choice:  4\n"
     ]
    },
    {
     "name": "stdout",
     "output_type": "stream",
     "text": [
      "Exiting Inventory Management System. Goodbye!\n"
     ]
    }
   ],
   "source": [
    "#Create and inventory management - Use loops to display or update a list of stock items\n",
    "\n",
    "# Initialize the inventory with some sample items\n",
    "inventory = {\n",
    "    \"Apples\": 50,\n",
    "    \"Bananas\": 30,\n",
    "    \"Oranges\": 20,\n",
    "    \"Mangoes\": 10\n",
    "}\n",
    "\n",
    "# Main program loop\n",
    "while True:\n",
    "    print(\"\\nInventory Management System\")\n",
    "    print(\"1. Display Inventory\")\n",
    "    print(\"2. Update Item Quantity\")\n",
    "    print(\"3. Add New Item\")\n",
    "    print(\"4. Exit\")\n",
    "    choice = input(\"Enter your choice: \")\n",
    "\n",
    "    if choice == \"1\":  # Display Inventory\n",
    "        print(\"\\nCurrent Inventory:\")\n",
    "        for item, quantity in inventory.items():\n",
    "            print(f\"{item}: {quantity} units\")\n",
    "\n",
    "    elif choice == \"2\":  # Update Item Quantity\n",
    "        while True:\n",
    "            item = input(\"\\nEnter the item name to update (or type 'exit' to quit): \").capitalize()\n",
    "            if item.lower() == 'exit':\n",
    "                break\n",
    "            if item in inventory:\n",
    "                try:\n",
    "                    quantity = int(input(f\"Enter the new quantity for {item}: \"))\n",
    "                    inventory[item] = quantity\n",
    "                    print(f\"{item} updated to {quantity} units.\")\n",
    "                except ValueError:\n",
    "                    print(\"Please enter a valid number.\")\n",
    "            else:\n",
    "                print(f\"{item} not found in inventory.\")\n",
    "\n",
    "    elif choice == \"3\":  # Add New Item\n",
    "        while True:\n",
    "            item = input(\"\\nEnter the name of the new item (or type 'exit' to quit): \").capitalize()\n",
    "            if item.lower() == 'exit':\n",
    "                break\n",
    "            if item in inventory:\n",
    "                print(f\"{item} already exists in inventory. Update its quantity using option 2.\")\n",
    "            else:\n",
    "                try:\n",
    "                    quantity = int(input(f\"Enter the initial quantity for {item}: \"))\n",
    "                    inventory[item] = quantity\n",
    "                    print(f\"{item} added with {quantity} units.\")\n",
    "                except ValueError:\n",
    "                    print(\"Please enter a valid number.\")\n",
    "\n",
    "    elif choice == \"4\":  # Exit\n",
    "        print(\"Exiting Inventory Management System. Goodbye!\")\n",
    "        break\n",
    "\n",
    "    else:\n",
    "        print(\"Invalid choice. Please select a valid option.\")\n",
    "\n"
   ]
  }
 ],
 "metadata": {
  "kernelspec": {
   "display_name": "Python [conda env:base] *",
   "language": "python",
   "name": "conda-base-py"
  },
  "language_info": {
   "codemirror_mode": {
    "name": "ipython",
    "version": 3
   },
   "file_extension": ".py",
   "mimetype": "text/x-python",
   "name": "python",
   "nbconvert_exporter": "python",
   "pygments_lexer": "ipython3",
   "version": "3.12.7"
  }
 },
 "nbformat": 4,
 "nbformat_minor": 5
}
