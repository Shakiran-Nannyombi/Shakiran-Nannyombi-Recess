{
 "cells": [
  {
   "cell_type": "code",
   "execution_count": 2,
   "id": "e04c55ac-8b3c-4456-80fa-f7d8dc002fd7",
   "metadata": {},
   "outputs": [
    {
     "name": "stdout",
     "output_type": "stream",
     "text": [
      "Mable\n"
     ]
    }
   ],
   "source": [
    "#1.Create a list with 5 items (names of people) and write a python program to output the 2nd item.\n",
    "people = [\"John\", \"Mable\", \"Kiran\", \"George\", \"Louis\"]\n",
    "print(people[1])"
   ]
  },
  {
   "cell_type": "code",
   "execution_count": 13,
   "id": "e581b9b0-9e2f-4961-96a0-f57420341353",
   "metadata": {},
   "outputs": [
    {
     "name": "stdout",
     "output_type": "stream",
     "text": [
      "['Joseph', 'Mable', 'Kiran', 'George', 'Louis']\n"
     ]
    }
   ],
   "source": [
    "#2. Write a Python program to change the value of the first item to a new value\n",
    "people = [\"John\", \"Mable\", \"Kiran\", \"George\", \"Louis\"]\n",
    "people[0] = \"Joseph\"\n",
    "print(people)"
   ]
  },
  {
   "cell_type": "code",
   "execution_count": 17,
   "id": "9a6a4af8-1e3c-43a1-b12e-d81de26ee05b",
   "metadata": {},
   "outputs": [
    {
     "name": "stdout",
     "output_type": "stream",
     "text": [
      "['John', 'Mable', 'Kiran', 'George', 'Louis', 'Julie']\n"
     ]
    }
   ],
   "source": [
    "#3. Write a Python program to add a sixth item to the list\n",
    "people = [\"John\", \"Mable\", \"Kiran\", \"George\", \"Louis\"]\n",
    "people.append(\"Julie\")\n",
    "print(people)\n",
    "\n"
   ]
  },
  {
   "cell_type": "code",
   "execution_count": 21,
   "id": "398412bb-7a69-41a6-91c8-7d06d4369528",
   "metadata": {},
   "outputs": [
    {
     "name": "stdout",
     "output_type": "stream",
     "text": [
      "['John', 'Mable', 'Bathel', 'Kiran', 'George', 'Louis']\n"
     ]
    }
   ],
   "source": [
    "#4.  Write a Python program to add “Bathel” as the 3rd item in your list\n",
    "people = [\"John\", \"Mable\", \"Kiran\", \"George\", \"Louis\"]\n",
    "people.insert(2, \"Bathel\")\n",
    "print(people)\n"
   ]
  },
  {
   "cell_type": "code",
   "execution_count": 23,
   "id": "42bb71c7-6272-4277-8b12-9e5dc8a9f19e",
   "metadata": {},
   "outputs": [
    {
     "name": "stdout",
     "output_type": "stream",
     "text": [
      "['John', 'Mable', 'Kiran', 'Louis']\n"
     ]
    }
   ],
   "source": [
    "#5. Write a Python program to remove the 4th item from the list\n",
    "people = [\"John\", \"Mable\", \"Kiran\", \"George\", \"Louis\"]\n",
    "people.remove(\"George\")\n",
    "print(people)"
   ]
  },
  {
   "cell_type": "code",
   "execution_count": 25,
   "id": "9d3b53bd-bbb4-416e-8d96-100a8628bbfa",
   "metadata": {},
   "outputs": [
    {
     "name": "stdout",
     "output_type": "stream",
     "text": [
      "Louis\n"
     ]
    }
   ],
   "source": [
    "#6. Use negative indexing to print the last item in your list\n",
    "people = [\"John\", \"Mable\", \"Kiran\", \"George\", \"Louis\"]\n",
    "print(people[-1])"
   ]
  },
  {
   "cell_type": "code",
   "execution_count": 29,
   "id": "dc1f1eb7-02c3-4624-aa6a-3ee34928e5af",
   "metadata": {},
   "outputs": [
    {
     "name": "stdout",
     "output_type": "stream",
     "text": [
      "['pot', 'glass', 'spoon']\n"
     ]
    }
   ],
   "source": [
    "#7. Create a new list with 7 items and use a range of indexes to print the 3rd, 4th, and 5th items.\n",
    "utensils = [\"cup\", \"plate\", \"pot\", \"glass\", \"spoon\", \"fork\", \"bottle\"]\n",
    "print(utensils [2:5])"
   ]
  },
  {
   "cell_type": "code",
   "execution_count": 31,
   "id": "211d1629-abaf-48b7-a485-6369ad9053dc",
   "metadata": {},
   "outputs": [
    {
     "name": "stdout",
     "output_type": "stream",
     "text": [
      "['Uganda', 'Kenya', 'South Africa', 'Cameroon', 'Rwanda', 'Congo']\n"
     ]
    }
   ],
   "source": [
    "#8. Write a list of countries and make a copy of it.\n",
    "countries = [\"Uganda\", \"Kenya\", \"South Africa\", \"Cameroon\", \"Rwanda\", \"Congo\"]\n",
    "africa = countries.copy()\n",
    "print(africa)"
   ]
  },
  {
   "cell_type": "code",
   "execution_count": 33,
   "id": "f7f5a731-b68e-4ef5-bc5c-6336a8f795c1",
   "metadata": {},
   "outputs": [
    {
     "name": "stdout",
     "output_type": "stream",
     "text": [
      "Uganda\n",
      "Kenya\n",
      "South Africa\n",
      "Cameroon\n",
      "Rwanda\n",
      "Congo\n"
     ]
    }
   ],
   "source": [
    "#9. Write a python program to loop through the list of countries\n",
    "countries = [\"Uganda\", \"Kenya\", \"South Africa\", \"Cameroon\", \"Rwanda\", \"Congo\"]\n",
    "for x in countries:\n",
    "    print(x)\n"
   ]
  },
  {
   "cell_type": "code",
   "execution_count": 41,
   "id": "3dcbfd78-e71c-43cd-8d89-d9080dd0384f",
   "metadata": {},
   "outputs": [
    {
     "name": "stdout",
     "output_type": "stream",
     "text": [
      "['ant', 'chimpanzee', 'dog', 'elephant', 'kangaroo', 'lion', 'panda', 'rhino']\n"
     ]
    }
   ],
   "source": [
    "#10. Write a list of animal names and sort them in both descending and ascending order.\n",
    "animals = [\"dog\", \"elephant\", \"lion\", \"ant\", \"rhino\",\"chimpanzee\", \"kangaroo\", \"panda\"]\n",
    "animals.sort()\n",
    "print(animals)"
   ]
  },
  {
   "cell_type": "code",
   "execution_count": 43,
   "id": "4e16057a-2c42-434c-b7cd-380e17f0ca8e",
   "metadata": {},
   "outputs": [
    {
     "name": "stdout",
     "output_type": "stream",
     "text": [
      "['rhino', 'panda', 'lion', 'kangaroo', 'elephant', 'dog', 'chimpanzee', 'ant']\n"
     ]
    }
   ],
   "source": [
    "#10. Write a list of animal names and sort them in both descending and ascending order.\n",
    "animals = [\"dog\", \"elephant\", \"lion\", \"ant\", \"rhino\", \"chimpanzee\", \"kangaroo\", \"panda\"]\n",
    "animals.sort(reverse = True)\n",
    "print(animals)"
   ]
  },
  {
   "cell_type": "code",
   "execution_count": 45,
   "id": "daf1edbf-6f74-46a2-ad9f-4bcf80bfc89b",
   "metadata": {},
   "outputs": [
    {
     "name": "stdout",
     "output_type": "stream",
     "text": [
      "['elephant', 'ant', 'chimpanzee', 'kangaroo', 'panda']\n"
     ]
    }
   ],
   "source": [
    "#11. Using the list above, write a Python program to output only animal names with the letter ‘a’ in them\n",
    "animals = [\"dog\", \"elephant\", \"lion\", \"ant\", \"rhino\",\"chimpanzee\", \"kangaroo\", \"panda\"]\n",
    "new = [ x for x in animals if \"a\" in x]\n",
    "print(new)"
   ]
  },
  {
   "cell_type": "code",
   "execution_count": 52,
   "id": "2c29849a-cc1a-4085-a3b4-b27fdcb9d016",
   "metadata": {},
   "outputs": [
    {
     "name": "stdout",
     "output_type": "stream",
     "text": [
      "['John', 'Mable', 'Kiran', 'George', 'Louis', 'Ssenyange', 'Nazziwa', 'Kobusingye', 'Kato', 'Atuhaire']\n"
     ]
    }
   ],
   "source": [
    "#12. Write two lists, one containing your first names and the other your second names. Join the two lists.\n",
    "firstNames = [\"John\", \"Mable\", \"Kiran\", \"George\", \"Louis\"]\n",
    "LastNames = [\"Ssenyange\", \"Nazziwa\", \"Kobusingye\", \"Kato\", \"Atuhaire\"]\n",
    "names = firstNames + LastNames\n",
    "print(names)"
   ]
  },
  {
   "cell_type": "code",
   "execution_count": null,
   "id": "30bb62c5-13e6-4959-9680-53addc983117",
   "metadata": {},
   "outputs": [],
   "source": []
  }
 ],
 "metadata": {
  "kernelspec": {
   "display_name": "Python [conda env:base] *",
   "language": "python",
   "name": "conda-base-py"
  },
  "language_info": {
   "codemirror_mode": {
    "name": "ipython",
    "version": 3
   },
   "file_extension": ".py",
   "mimetype": "text/x-python",
   "name": "python",
   "nbconvert_exporter": "python",
   "pygments_lexer": "ipython3",
   "version": "3.12.7"
  }
 },
 "nbformat": 4,
 "nbformat_minor": 5
}
