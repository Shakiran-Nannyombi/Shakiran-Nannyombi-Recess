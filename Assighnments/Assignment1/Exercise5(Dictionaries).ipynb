{
 "cells": [
  {
   "cell_type": "code",
   "execution_count": 4,
   "id": "d9a38709-5fcc-4ea8-8a2e-501d304364e6",
   "metadata": {},
   "outputs": [
    {
     "name": "stdout",
     "output_type": "stream",
     "text": [
      "40\n"
     ]
    }
   ],
   "source": [
    "# 1. With reference to the dictionary below, write a python program to print the value of the shoe size. \n",
    "Shoes = {\n",
    "\t\"brand\" : \"Nick\",\n",
    "\t\"color\" : \"black\",\n",
    "\t\"size\" : 40\n",
    "\t}\n",
    "print(Shoes[\"size\"])"
   ]
  },
  {
   "cell_type": "code",
   "execution_count": 6,
   "id": "d1ee5b0f-f4eb-4594-bbb8-e1a0c8167b65",
   "metadata": {},
   "outputs": [
    {
     "name": "stdout",
     "output_type": "stream",
     "text": [
      "Adidas\n"
     ]
    }
   ],
   "source": [
    "# 2. Write a python program to change the value “Nick” to “Adidas”\n",
    "Shoes = {\n",
    "\t\"brand\" : \"Nick\",\n",
    "\t\"color\" : \"black\",\n",
    "\t\"size\" : 40\n",
    "\t}\n",
    "Shoes[\"brand\"] = \"Adidas\"\n",
    "print(Shoes[\"brand\"])"
   ]
  },
  {
   "cell_type": "code",
   "execution_count": 12,
   "id": "f5ed9d30-f8c7-4b3c-a0d8-2db2ca35d1fc",
   "metadata": {},
   "outputs": [
    {
     "name": "stdout",
     "output_type": "stream",
     "text": [
      "{'brand': 'Nick', 'color': 'black', 'size': 40, 'type': 'sneakers'}\n",
      "sneakers\n"
     ]
    }
   ],
   "source": [
    "# 3. Write a python program to add a key/value pair \"type”: \"sneakers\" to the dictionary\n",
    "Shoes = {\n",
    "\t\"brand\" : \"Nick\",\n",
    "\t\"color\" : \"black\",\n",
    "\t\"size\" : 40\n",
    "\t}\n",
    "Shoes[\"type\"] = \"sneakers\"\n",
    "Shoes.update({\"type\" : \"sneakers\"})\n",
    "print(Shoes)\n",
    "print(Shoes[\"type\"])"
   ]
  },
  {
   "cell_type": "code",
   "execution_count": 14,
   "id": "79874dbd-e6a0-48e7-8f2a-58e582216063",
   "metadata": {},
   "outputs": [
    {
     "name": "stdout",
     "output_type": "stream",
     "text": [
      "brand\n",
      "color\n",
      "size\n"
     ]
    }
   ],
   "source": [
    "# 4 .Write a python program to return a list of all the keys in the dictionary above.\n",
    "Shoes = {\n",
    "\t\"brand\" : \"Nick\",\n",
    "\t\"color\" : \"black\",\n",
    "\t\"size\" : 40\n",
    "\t}\n",
    "for x in Shoes:\n",
    "    print(x)"
   ]
  },
  {
   "cell_type": "code",
   "execution_count": 16,
   "id": "14f044e4-0276-4ab5-8107-ca471b88051b",
   "metadata": {},
   "outputs": [
    {
     "name": "stdout",
     "output_type": "stream",
     "text": [
      "Nick\n",
      "black\n",
      "40\n"
     ]
    }
   ],
   "source": [
    "# 5. Write a python program to return a list of all the values in the dictionary above.\n",
    "Shoes = {\n",
    "\t\"brand\" : \"Nick\",\n",
    "\t\"color\" : \"black\",\n",
    "\t\"size\" : 40\n",
    "\t}\n",
    "for x in Shoes:\n",
    "    print(Shoes[x])"
   ]
  },
  {
   "cell_type": "code",
   "execution_count": 27,
   "id": "885544f8-fb67-48e2-8427-ae83fe9297a9",
   "metadata": {},
   "outputs": [
    {
     "name": "stdout",
     "output_type": "stream",
     "text": [
      "40\n"
     ]
    }
   ],
   "source": [
    "# 6. Check if the key “size” exists in the dictionary above.\n",
    "Shoes = {\n",
    "\t\"brand\" : \"Nick\",\n",
    "\t\"color\" : \"black\",\n",
    "\t\"size\" : 40\n",
    "\t}\n",
    "if \"size\" not in Shoes:\n",
    "    print(\"key \\\"size\\\" not in dictionary\")\n",
    "else:\n",
    "    print(Shoes[\"size\"])"
   ]
  },
  {
   "cell_type": "code",
   "execution_count": 29,
   "id": "03257c83-5259-4efc-87a3-bf263e704d4b",
   "metadata": {},
   "outputs": [
    {
     "name": "stdout",
     "output_type": "stream",
     "text": [
      "brand Nick\n",
      "color black\n",
      "size 40\n"
     ]
    }
   ],
   "source": [
    "# 7. Write a python program to loop through the dictionary above.\n",
    "Shoes = {\n",
    "\t\"brand\" : \"Nick\",\n",
    "\t\"color\" : \"black\",\n",
    "\t\"size\" : 40\n",
    "\t}\n",
    "for x,y in Shoes.items():\n",
    "    print(x,y)"
   ]
  },
  {
   "cell_type": "code",
   "execution_count": 33,
   "id": "7059578d-a68a-4e38-ae62-727edd6f3676",
   "metadata": {},
   "outputs": [
    {
     "name": "stdout",
     "output_type": "stream",
     "text": [
      "{'brand': 'Nick', 'size': 40}\n"
     ]
    }
   ],
   "source": [
    "# 8. Write a python program to remove “color” from the dictionary.\n",
    "Shoes = {\n",
    "\t\"brand\" : \"Nick\",\n",
    "\t\"color\" : \"black\",\n",
    "\t\"size\" : 40\n",
    "\t}\n",
    "Shoes.pop(\"color\")\n",
    "print(Shoes)"
   ]
  },
  {
   "cell_type": "code",
   "execution_count": 35,
   "id": "6cce5ef8-ae72-4c98-89a5-39e80e5f80fc",
   "metadata": {},
   "outputs": [
    {
     "name": "stdout",
     "output_type": "stream",
     "text": [
      "{}\n"
     ]
    }
   ],
   "source": [
    "# 9. Write a python program to empty the dictionary above.\n",
    "Shoes = {\n",
    "\t\"brand\" : \"Nick\",\n",
    "\t\"color\" : \"black\",\n",
    "\t\"size\" : 40\n",
    "\t}\n",
    "Shoes.clear()\n",
    "print(Shoes)"
   ]
  },
  {
   "cell_type": "code",
   "execution_count": 37,
   "id": "d18fc0b1-067f-4545-9fd6-c51a23ca63aa",
   "metadata": {},
   "outputs": [
    {
     "name": "stdout",
     "output_type": "stream",
     "text": [
      "{'brand': 'Ford', 'model': 'Mustang', 'year': 1964}\n"
     ]
    }
   ],
   "source": [
    "# 10. Write a dictionary of your choice and make a copy of it.\n",
    "car = {\n",
    "  \"brand\": \"Ford\",\n",
    "  \"model\": \"Mustang\",\n",
    "  \"year\": 1964\n",
    "}\n",
    "x = car.copy()\n",
    "print(x)"
   ]
  },
  {
   "cell_type": "code",
   "execution_count": 41,
   "id": "a61f6162-8ea0-49c4-af3a-16d824e740b0",
   "metadata": {},
   "outputs": [
    {
     "name": "stdout",
     "output_type": "stream",
     "text": [
      "{'car': {'brand': 'Ford', 'model': 'Mustang', 'year': 1964}, 'Shoes': {'brand': 'Nick', 'color': 'black', 'size': 40}}\n"
     ]
    }
   ],
   "source": [
    "# 11. Write a python program to show nested dictionaries\n",
    "types = {\n",
    "    \"car\" : {\n",
    "  \"brand\": \"Ford\",\n",
    "  \"model\": \"Mustang\",\n",
    "  \"year\": 1964\n",
    "},\n",
    "    \"Shoes\" : {\n",
    "\t\"brand\" : \"Nick\",\n",
    "\t\"color\" : \"black\",\n",
    "\t\"size\" : 40\n",
    "\t}\n",
    "}\n",
    "print(types)\n"
   ]
  }
 ],
 "metadata": {
  "kernelspec": {
   "display_name": "Python [conda env:base] *",
   "language": "python",
   "name": "conda-base-py"
  },
  "language_info": {
   "codemirror_mode": {
    "name": "ipython",
    "version": 3
   },
   "file_extension": ".py",
   "mimetype": "text/x-python",
   "name": "python",
   "nbconvert_exporter": "python",
   "pygments_lexer": "ipython3",
   "version": "3.12.7"
  }
 },
 "nbformat": 4,
 "nbformat_minor": 5
}
