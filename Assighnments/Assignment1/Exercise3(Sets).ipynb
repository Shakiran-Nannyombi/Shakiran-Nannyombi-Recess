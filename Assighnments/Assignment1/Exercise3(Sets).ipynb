{
 "cells": [
  {
   "cell_type": "code",
   "execution_count": 2,
   "id": "6be4288d-8bc0-49d1-97da-c20d2003f7b1",
   "metadata": {},
   "outputs": [
    {
     "name": "stdout",
     "output_type": "stream",
     "text": [
      "{'cocktail', 'Lemonade', 'icedAmericano'}\n"
     ]
    }
   ],
   "source": [
    "# 1. Use the set() constructor to create a set of 3 of your favorite beverages.\n",
    "beverages = {\"cocktail\", \"Lemonade\", \"icedAmericano\" }\n",
    "print(beverages)"
   ]
  },
  {
   "cell_type": "code",
   "execution_count": 8,
   "id": "9f591838-9a03-4248-b400-8c1cd436a86d",
   "metadata": {},
   "outputs": [
    {
     "name": "stdout",
     "output_type": "stream",
     "text": [
      "{'mocktail', 'Lemonade', 'icedAmericano', 'sprite', 'cocktail'}\n"
     ]
    }
   ],
   "source": [
    "#2.  Use the correct method to add 2 more items to the beverages set.\n",
    "beverages = {\"cocktail\", \"Lemonade\", \"icedAmericano\" }\n",
    "beverages.add(\"sprite\")\n",
    "beverages.add( \"mocktail\")\n",
    "print(beverages)"
   ]
  },
  {
   "cell_type": "code",
   "execution_count": 12,
   "id": "3d03f53f-15d0-46a7-a585-1b22b2ac14e0",
   "metadata": {},
   "outputs": [
    {
     "name": "stdout",
     "output_type": "stream",
     "text": [
      "True\n"
     ]
    }
   ],
   "source": [
    "# 3.Given the set below; Check if microwave is present in the set.\n",
    "mySet = {\"oven\", \"kettle\", \"microwave\", \"refrigerator\"}\n",
    "print(\"microwave\" in mySet)\n"
   ]
  },
  {
   "cell_type": "code",
   "execution_count": 14,
   "id": "f47b6f94-ac18-48e1-83ac-cd752673dc47",
   "metadata": {},
   "outputs": [
    {
     "name": "stdout",
     "output_type": "stream",
     "text": [
      "{'microwave', 'refrigerator', 'oven'}\n"
     ]
    }
   ],
   "source": [
    "# 4. Write a Python program to remove “kettle” from the set above.\n",
    "mySet = {\"oven\", \"kettle\", \"microwave\", \"refrigerator\"}\n",
    "mySet.remove(\"kettle\")\n",
    "print(mySet)"
   ]
  },
  {
   "cell_type": "code",
   "execution_count": 16,
   "id": "2f8a98db-d0ef-4b58-987d-2a137ef60b04",
   "metadata": {},
   "outputs": [
    {
     "name": "stdout",
     "output_type": "stream",
     "text": [
      "microwave\n",
      "refrigerator\n",
      "kettle\n",
      "oven\n"
     ]
    }
   ],
   "source": [
    "# 5. Write a python program to loop through the set above.\n",
    "mySet = {\"oven\", \"kettle\", \"microwave\", \"refrigerator\"}\n",
    "for x in mySet:\n",
    "    print(x)"
   ]
  },
  {
   "cell_type": "code",
   "execution_count": 22,
   "id": "fbcacad3-761e-44eb-a592-4641a07badb3",
   "metadata": {},
   "outputs": [
    {
     "name": "stdout",
     "output_type": "stream",
     "text": [
      "{'refrigerator', 'kettle', 'oven', 'microwave', 'cocktail', 'Lemonade'}\n"
     ]
    }
   ],
   "source": [
    "# 6. Write a set of 4 items and a list of two items. Write a Python program to add elements in the list to elements in the set.\n",
    "mySet = {\"oven\", \"kettle\", \"microwave\", \"refrigerator\"}\n",
    "beverages = [\"cocktail\", \"Lemonade\"]\n",
    "mySet.update(beverages)\n",
    "print(new)"
   ]
  },
  {
   "cell_type": "code",
   "execution_count": 24,
   "id": "7192772d-6bcd-42fd-8548-fe6d552d1055",
   "metadata": {},
   "outputs": [
    {
     "name": "stdout",
     "output_type": "stream",
     "text": [
      "{'Louis', 'John', 'Mable', 'Kiran', 19, 20, 'George', 21, 25, 28}\n"
     ]
    }
   ],
   "source": [
    "#7. Write two sets, one containing your ages and the other your first names. Join the two sets.\n",
    "firstNames = {\"John\", \"Mable\", \"Kiran\", \"George\", \"Louis\"}\n",
    "ages = {20, 21, 25, 28, 19}\n",
    "new = firstNames.union(ages)\n",
    "print(new)"
   ]
  }
 ],
 "metadata": {
  "kernelspec": {
   "display_name": "Python [conda env:base] *",
   "language": "python",
   "name": "conda-base-py"
  },
  "language_info": {
   "codemirror_mode": {
    "name": "ipython",
    "version": 3
   },
   "file_extension": ".py",
   "mimetype": "text/x-python",
   "name": "python",
   "nbconvert_exporter": "python",
   "pygments_lexer": "ipython3",
   "version": "3.12.7"
  }
 },
 "nbformat": 4,
 "nbformat_minor": 5
}
