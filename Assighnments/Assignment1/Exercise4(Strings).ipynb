{
 "cells": [
  {
   "cell_type": "code",
   "execution_count": 2,
   "id": "3f61e960-efc0-4bf2-9769-c7af8d700bbd",
   "metadata": {},
   "outputs": [
    {
     "name": "stdout",
     "output_type": "stream",
     "text": [
      "10 Hello World\n"
     ]
    }
   ],
   "source": [
    "# 1. Declare two variables, an integer and a string and use the correct method to concatenate the two variables.\n",
    "x = 10\n",
    "y = \"Hello World\"\n",
    "print (x,y)"
   ]
  },
  {
   "cell_type": "code",
   "execution_count": 6,
   "id": "d803e5f4-5b15-4152-a4aa-45cca74bd25d",
   "metadata": {},
   "outputs": [
    {
     "name": "stdout",
     "output_type": "stream",
     "text": [
      "Hello,       Uganda!\n"
     ]
    }
   ],
   "source": [
    "# 2. Consider the example below;  Output the string without spaces at the beginning, in the middle and at the end.\n",
    "txt = \"      Hello,       Uganda!       \"\n",
    "print(txt.strip())"
   ]
  },
  {
   "cell_type": "code",
   "execution_count": 8,
   "id": "5a070992-32a6-4425-95fa-10978ea7865d",
   "metadata": {},
   "outputs": [
    {
     "name": "stdout",
     "output_type": "stream",
     "text": [
      "      HELLO,       UGANDA!       \n"
     ]
    }
   ],
   "source": [
    "# 3. Write a python program to convert the value of ‘txt’ to uppercase.\n",
    "txt = \"      Hello,       Uganda!       \"\n",
    "print(txt.upper())"
   ]
  },
  {
   "cell_type": "code",
   "execution_count": 10,
   "id": "c03387dd-bc21-4006-86d2-ccdc56ec7d37",
   "metadata": {},
   "outputs": [
    {
     "name": "stdout",
     "output_type": "stream",
     "text": [
      "      Hello,       Vganda!       \n"
     ]
    }
   ],
   "source": [
    "# 4. Write a Python program to replace character ‘U’ with ‘V’ in the string above.\n",
    "txt = \"      Hello,       Uganda!       \"\n",
    "print(txt.replace(\"U\" , \"V\"))"
   ]
  },
  {
   "cell_type": "code",
   "execution_count": 16,
   "id": "4b25ae9e-c0d3-4193-aa1c-347a588b23a1",
   "metadata": {},
   "outputs": [
    {
     "name": "stdout",
     "output_type": "stream",
     "text": [
      " am \n"
     ]
    }
   ],
   "source": [
    "# 5.Using the code below, write a python program to return a range of characters in the 2nd, 3rd and 4th position.\n",
    "y = \"I am proudly Ugandan\"\n",
    "print(y[1:5])"
   ]
  },
  {
   "cell_type": "code",
   "execution_count": 25,
   "id": "4d2d2ac7-9c95-4c01-8832-cefe14bbc24f",
   "metadata": {},
   "outputs": [
    {
     "name": "stdout",
     "output_type": "stream",
     "text": [
      "All \"Data Scientists\" are cool!\n"
     ]
    }
   ],
   "source": [
    "# 6. The piece of code below will give an error when output; Write a python program to correct it.\n",
    "x = \"All \\\"Data Scientists\\\" are cool!\" \n",
    "print(x)"
   ]
  }
 ],
 "metadata": {
  "kernelspec": {
   "display_name": "Python [conda env:base] *",
   "language": "python",
   "name": "conda-base-py"
  },
  "language_info": {
   "codemirror_mode": {
    "name": "ipython",
    "version": 3
   },
   "file_extension": ".py",
   "mimetype": "text/x-python",
   "name": "python",
   "nbconvert_exporter": "python",
   "pygments_lexer": "ipython3",
   "version": "3.12.7"
  }
 },
 "nbformat": 4,
 "nbformat_minor": 5
}
