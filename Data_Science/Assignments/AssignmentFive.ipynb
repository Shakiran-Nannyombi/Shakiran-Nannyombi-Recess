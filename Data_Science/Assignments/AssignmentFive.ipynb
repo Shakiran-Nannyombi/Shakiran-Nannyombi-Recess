{
 "cells": [
  {
   "cell_type": "markdown",
   "id": "0e75825c",
   "metadata": {},
   "source": [
    "## AgriSmart AI data analysis of climate action\n",
    "\n",
    "### objectives\n",
    "1. Fill in missing values\n",
    "2. Correct wrong data formats\n",
    "3. Remove duplicate values \n",
    "4. Clean the data and print cleaned work\n",
    "\n",
    "Will start by exploring my dataset to have an outlook of it"
   ]
  },
  {
   "cell_type": "code",
   "execution_count": 263,
   "id": "cf2385b4",
   "metadata": {},
   "outputs": [],
   "source": [
    "# import libraries\n",
    "import pandas as pd\n",
    "import numpy as np\n",
    "import matplotlib.pyplot as plt\n",
    "import seaborn as sns\n"
   ]
  },
  {
   "cell_type": "code",
   "execution_count": 264,
   "id": "c0a45eef",
   "metadata": {},
   "outputs": [
    {
     "name": "stdout",
     "output_type": "stream",
     "text": [
      "  Sensor_ID        Date Soil_Moisture(%) Soil_pH Temperature(C) Humidity(%)  \\\n",
      "0  SEN-1000  2025-01-01            36.22    6.98           21.3        50.4   \n",
      "1  SEN-1001  2025-01-02            76.55    5.03           23.5        34.3   \n",
      "2  SEN-1002  2025-01-03            61.24    6.52           21.9        54.6   \n",
      "3  SEN-1003  2025-01-04            51.91    6.62           24.0        48.7   \n",
      "4  SEN-1004  2025-01-05            20.92    5.98           19.2        70.6   \n",
      "\n",
      "  Crop_Type Fertilizer_Recommended(kg/ha) Irrigation_Recommended(mm)  \\\n",
      "0  Tomatoes                          67.6                       26.6   \n",
      "1     Wheat                         130.4                        8.3   \n",
      "2  Tomatoes                          36.0                       29.4   \n",
      "3     Maize                          85.8                       19.6   \n",
      "4     Wheat                          75.6                       29.9   \n",
      "\n",
      "  Drone_Image_ID  \n",
      "0       IMG-2000  \n",
      "1       IMG-2001  \n",
      "2       IMG-2002  \n",
      "3       IMG-2003  \n",
      "4       IMG-2004  \n"
     ]
    }
   ],
   "source": [
    "# Load the dataset\n",
    "df = pd.read_csv('files/climate_action_data.csv')\n",
    "print(df.head())"
   ]
  },
  {
   "cell_type": "code",
   "execution_count": 265,
   "id": "25b8e862",
   "metadata": {},
   "outputs": [
    {
     "name": "stdout",
     "output_type": "stream",
     "text": [
      "<class 'pandas.core.frame.DataFrame'>\n",
      "RangeIndex: 913 entries, 0 to 912\n",
      "Data columns (total 10 columns):\n",
      " #   Column                         Non-Null Count  Dtype \n",
      "---  ------                         --------------  ----- \n",
      " 0   Sensor_ID                      913 non-null    object\n",
      " 1   Date                           909 non-null    object\n",
      " 2   Soil_Moisture(%)               913 non-null    object\n",
      " 3   Soil_pH                        913 non-null    object\n",
      " 4   Temperature(C)                 913 non-null    object\n",
      " 5   Humidity(%)                    913 non-null    object\n",
      " 6   Crop_Type                      909 non-null    object\n",
      " 7   Fertilizer_Recommended(kg/ha)  913 non-null    object\n",
      " 8   Irrigation_Recommended(mm)     913 non-null    object\n",
      " 9   Drone_Image_ID                 913 non-null    object\n",
      "dtypes: object(10)\n",
      "memory usage: 71.5+ KB\n"
     ]
    }
   ],
   "source": [
    "df.info()"
   ]
  },
  {
   "cell_type": "code",
   "execution_count": 266,
   "id": "17cafaf4",
   "metadata": {},
   "outputs": [
    {
     "data": {
      "text/html": [
       "<div>\n",
       "<style scoped>\n",
       "    .dataframe tbody tr th:only-of-type {\n",
       "        vertical-align: middle;\n",
       "    }\n",
       "\n",
       "    .dataframe tbody tr th {\n",
       "        vertical-align: top;\n",
       "    }\n",
       "\n",
       "    .dataframe thead th {\n",
       "        text-align: right;\n",
       "    }\n",
       "</style>\n",
       "<table border=\"1\" class=\"dataframe\">\n",
       "  <thead>\n",
       "    <tr style=\"text-align: right;\">\n",
       "      <th></th>\n",
       "      <th>Sensor_ID</th>\n",
       "      <th>Date</th>\n",
       "      <th>Soil_Moisture(%)</th>\n",
       "      <th>Soil_pH</th>\n",
       "      <th>Temperature(C)</th>\n",
       "      <th>Humidity(%)</th>\n",
       "      <th>Crop_Type</th>\n",
       "      <th>Fertilizer_Recommended(kg/ha)</th>\n",
       "      <th>Irrigation_Recommended(mm)</th>\n",
       "      <th>Drone_Image_ID</th>\n",
       "    </tr>\n",
       "  </thead>\n",
       "  <tbody>\n",
       "    <tr>\n",
       "      <th>count</th>\n",
       "      <td>913</td>\n",
       "      <td>909</td>\n",
       "      <td>913</td>\n",
       "      <td>913</td>\n",
       "      <td>913</td>\n",
       "      <td>913</td>\n",
       "      <td>909</td>\n",
       "      <td>913</td>\n",
       "      <td>913</td>\n",
       "      <td>913</td>\n",
       "    </tr>\n",
       "    <tr>\n",
       "      <th>unique</th>\n",
       "      <td>800</td>\n",
       "      <td>798</td>\n",
       "      <td>750</td>\n",
       "      <td>313</td>\n",
       "      <td>170</td>\n",
       "      <td>448</td>\n",
       "      <td>5</td>\n",
       "      <td>595</td>\n",
       "      <td>243</td>\n",
       "      <td>800</td>\n",
       "    </tr>\n",
       "    <tr>\n",
       "      <th>top</th>\n",
       "      <td>SEN-1056</td>\n",
       "      <td>2025-02-26</td>\n",
       "      <td>error</td>\n",
       "      <td>7.54</td>\n",
       "      <td>19.1</td>\n",
       "      <td>56.0</td>\n",
       "      <td>Wheat</td>\n",
       "      <td>66.9</td>\n",
       "      <td>8.0</td>\n",
       "      <td>IMG-2056</td>\n",
       "    </tr>\n",
       "    <tr>\n",
       "      <th>freq</th>\n",
       "      <td>2</td>\n",
       "      <td>2</td>\n",
       "      <td>5</td>\n",
       "      <td>11</td>\n",
       "      <td>13</td>\n",
       "      <td>8</td>\n",
       "      <td>203</td>\n",
       "      <td>8</td>\n",
       "      <td>11</td>\n",
       "      <td>2</td>\n",
       "    </tr>\n",
       "  </tbody>\n",
       "</table>\n",
       "</div>"
      ],
      "text/plain": [
       "       Sensor_ID        Date Soil_Moisture(%) Soil_pH Temperature(C)  \\\n",
       "count        913         909              913     913            913   \n",
       "unique       800         798              750     313            170   \n",
       "top     SEN-1056  2025-02-26            error    7.54           19.1   \n",
       "freq           2           2                5      11             13   \n",
       "\n",
       "       Humidity(%) Crop_Type Fertilizer_Recommended(kg/ha)  \\\n",
       "count          913       909                           913   \n",
       "unique         448         5                           595   \n",
       "top           56.0     Wheat                          66.9   \n",
       "freq             8       203                             8   \n",
       "\n",
       "       Irrigation_Recommended(mm) Drone_Image_ID  \n",
       "count                         913            913  \n",
       "unique                        243            800  \n",
       "top                           8.0       IMG-2056  \n",
       "freq                           11              2  "
      ]
     },
     "execution_count": 266,
     "metadata": {},
     "output_type": "execute_result"
    }
   ],
   "source": [
    "# data exploration\n",
    "df.describe()"
   ]
  },
  {
   "cell_type": "code",
   "execution_count": 267,
   "id": "ea388e33",
   "metadata": {},
   "outputs": [
    {
     "name": "stdout",
     "output_type": "stream",
     "text": [
      "(913, 10)\n",
      "Sensor_ID                        object\n",
      "Date                             object\n",
      "Soil_Moisture(%)                 object\n",
      "Soil_pH                          object\n",
      "Temperature(C)                   object\n",
      "Humidity(%)                      object\n",
      "Crop_Type                        object\n",
      "Fertilizer_Recommended(kg/ha)    object\n",
      "Irrigation_Recommended(mm)       object\n",
      "Drone_Image_ID                   object\n",
      "dtype: object\n"
     ]
    }
   ],
   "source": [
    "print(df.shape)\n",
    "print(df.dtypes)"
   ]
  },
  {
   "cell_type": "markdown",
   "id": "250cab16",
   "metadata": {},
   "source": [
    "Solving misssing values issue"
   ]
  },
  {
   "cell_type": "code",
   "execution_count": 268,
   "id": "72cfba11",
   "metadata": {},
   "outputs": [
    {
     "name": "stdout",
     "output_type": "stream",
     "text": [
      "Sensor_ID                        0\n",
      "Date                             4\n",
      "Soil_Moisture(%)                 0\n",
      "Soil_pH                          0\n",
      "Temperature(C)                   0\n",
      "Humidity(%)                      0\n",
      "Crop_Type                        4\n",
      "Fertilizer_Recommended(kg/ha)    0\n",
      "Irrigation_Recommended(mm)       0\n",
      "Drone_Image_ID                   0\n",
      "dtype: int64\n"
     ]
    }
   ],
   "source": [
    "#check for missing values\n",
    "print(df.isnull().sum())"
   ]
  },
  {
   "cell_type": "code",
   "execution_count": 269,
   "id": "e137b675",
   "metadata": {},
   "outputs": [
    {
     "name": "stdout",
     "output_type": "stream",
     "text": [
      "Sensor_ID                        0\n",
      "Date                             4\n",
      "Soil_Moisture(%)                 0\n",
      "Soil_pH                          0\n",
      "Temperature(C)                   0\n",
      "Humidity(%)                      0\n",
      "Crop_Type                        4\n",
      "Fertilizer_Recommended(kg/ha)    0\n",
      "Irrigation_Recommended(mm)       0\n",
      "Drone_Image_ID                   0\n",
      "dtype: int64\n",
      "0\n"
     ]
    }
   ],
   "source": [
    " # Fixing dates on Date column\n",
    "from datetime import datetime\n",
    " \n",
    "# Convert 'Date' column to datetime format, coercing errors to NaT\n",
    "df['Date'] = pd.to_datetime(df['Date'], errors='coerce')\n",
    "print(df.isnull().sum())\n",
    "\n",
    "# looking at my dataset again my dates are increamting in days \n",
    "# fill in NaT values by incramenting by 1 day to the previous date\n",
    "if df['Date'].isnull().any():\n",
    "    # Get the index of the first NaT value\n",
    "    first_nat_index = df['Date'].isnull().idxmax()\n",
    "    \n",
    "    # Fill NaT values by incrementing the previous date by 1 day\n",
    "    for i in range(first_nat_index, len(df)):\n",
    "        if pd.isnull(df.loc[i, 'Date']):\n",
    "            df.loc[i, 'Date'] = df.loc[i - 1, 'Date'] + pd.Timedelta(days=1)\n",
    "            \n",
    "# Check if there are still any NaT values\n",
    "print(df['Date'].isnull().sum())\n"
   ]
  },
  {
   "cell_type": "code",
   "execution_count": 270,
   "id": "a905f0ca",
   "metadata": {},
   "outputs": [
    {
     "name": "stdout",
     "output_type": "stream",
     "text": [
      "0\n"
     ]
    }
   ],
   "source": [
    "# Filling in missing values in Crop_Type column using mode since its non-numeric\n",
    "df['Crop_Type'] = df['Crop_Type'].fillna(df['Crop_Type'].mode()[0])\n",
    "# Check if there are still any missing values\n",
    "print(df['Crop_Type'].isnull().sum())"
   ]
  },
  {
   "cell_type": "code",
   "execution_count": 271,
   "id": "56f9ce55",
   "metadata": {},
   "outputs": [
    {
     "name": "stdout",
     "output_type": "stream",
     "text": [
      "Sensor_ID                        0\n",
      "Date                             0\n",
      "Soil_Moisture(%)                 0\n",
      "Soil_pH                          0\n",
      "Temperature(C)                   0\n",
      "Humidity(%)                      0\n",
      "Crop_Type                        0\n",
      "Fertilizer_Recommended(kg/ha)    0\n",
      "Irrigation_Recommended(mm)       0\n",
      "Drone_Image_ID                   0\n",
      "dtype: int64\n",
      "(913, 10)\n"
     ]
    }
   ],
   "source": [
    "print(df.isnull().sum())\n",
    "print(df.shape)"
   ]
  },
  {
   "cell_type": "markdown",
   "id": "7ff7eacc",
   "metadata": {},
   "source": [
    "Removing Duplicate values "
   ]
  },
  {
   "cell_type": "code",
   "execution_count": 272,
   "id": "d6191ef9",
   "metadata": {},
   "outputs": [
    {
     "name": "stdout",
     "output_type": "stream",
     "text": [
      "112\n"
     ]
    }
   ],
   "source": [
    "# Check for duplicate values \n",
    "print(df.duplicated().sum())\n"
   ]
  },
  {
   "cell_type": "code",
   "execution_count": 273,
   "id": "4ffcf149",
   "metadata": {},
   "outputs": [
    {
     "name": "stdout",
     "output_type": "stream",
     "text": [
      "0\n",
      "(801, 10)\n"
     ]
    }
   ],
   "source": [
    "# Removing Duplicate values\n",
    "df = df.drop_duplicates()\n",
    "\n",
    "print(df.duplicated().sum())\n",
    "print(df.shape)"
   ]
  },
  {
   "cell_type": "markdown",
   "id": "a2797f09",
   "metadata": {},
   "source": [
    "Removing incorrect data formats"
   ]
  },
  {
   "cell_type": "code",
   "execution_count": 274,
   "id": "061351a2",
   "metadata": {},
   "outputs": [
    {
     "name": "stdout",
     "output_type": "stream",
     "text": [
      "Erroneous entries:\n",
      "    Sensor_ID       Date Soil_Moisture(%) Soil_pH Temperature(C) Humidity(%)  \\\n",
      "107  SEN-1107 2025-04-18            error   error          error       error   \n",
      "118  SEN-1118 2025-04-29            error   error          error       error   \n",
      "244  SEN-1244 2025-09-02            error   error          error       error   \n",
      "459  SEN-1459 2026-04-05            error   error          error       error   \n",
      "683  SEN-1683 2026-11-15            error   error          error       error   \n",
      "\n",
      "    Crop_Type Fertilizer_Recommended(kg/ha) Irrigation_Recommended(mm)  \\\n",
      "107  Tomatoes                         error                      error   \n",
      "118     Beans                         error                      error   \n",
      "244     Wheat                         error                      error   \n",
      "459   Lettuce                         error                      error   \n",
      "683     Maize                         error                      error   \n",
      "\n",
      "    Drone_Image_ID  \n",
      "107       IMG-2107  \n",
      "118       IMG-2118  \n",
      "244       IMG-2244  \n",
      "459       IMG-2459  \n",
      "683       IMG-2683  \n"
     ]
    }
   ],
   "source": [
    "# checking erroneous entries with 'error' in all columns\n",
    "error_entries = df[df.apply(lambda x: x.astype(str).str.contains('error', case=False, na=False).any(), axis=1)]\n",
    "# Display the erroneous entries\n",
    "print(\"Erroneous entries:\")\n",
    "print(error_entries)"
   ]
  },
  {
   "cell_type": "code",
   "execution_count": 275,
   "id": "d14657fd",
   "metadata": {},
   "outputs": [
    {
     "name": "stdout",
     "output_type": "stream",
     "text": [
      "0\n",
      "Sensor_ID                        0\n",
      "Date                             0\n",
      "Soil_Moisture(%)                 5\n",
      "Soil_pH                          5\n",
      "Temperature(C)                   5\n",
      "Humidity(%)                      5\n",
      "Crop_Type                        0\n",
      "Fertilizer_Recommended(kg/ha)    5\n",
      "Irrigation_Recommended(mm)       5\n",
      "Drone_Image_ID                   0\n",
      "dtype: int64\n"
     ]
    }
   ],
   "source": [
    "# Replacing erroneous entries with NaN\n",
    "df.replace(to_replace='error', value=np.nan, inplace=True)\n",
    "# Check if there are still any erroneous entries\n",
    "print(df.isin(['error']).sum().sum())\n",
    "\n",
    "print(df.isnull().sum())"
   ]
  },
  {
   "cell_type": "code",
   "execution_count": 276,
   "id": "584f34c3",
   "metadata": {},
   "outputs": [
    {
     "name": "stdout",
     "output_type": "stream",
     "text": [
      "Sensor_ID                        0\n",
      "Date                             0\n",
      "Soil_Moisture(%)                 0\n",
      "Soil_pH                          0\n",
      "Temperature(C)                   0\n",
      "Humidity(%)                      0\n",
      "Crop_Type                        0\n",
      "Fertilizer_Recommended(kg/ha)    0\n",
      "Irrigation_Recommended(mm)       0\n",
      "Drone_Image_ID                   0\n",
      "dtype: int64\n",
      "(801, 10)\n"
     ]
    }
   ],
   "source": [
    "# Since only numeric columns had erroneous entries, we can fill NaN values with the mean of each column\n",
    "# Specifying the columns to fill NaN values with their mean\n",
    "numeric_columns = [\n",
    "    'Soil_Moisture(%)',\n",
    "    'Soil_pH',\n",
    "    'Temperature(C)',\n",
    "    'Humidity(%)',\n",
    "    'Fertilizer_Recommended(kg/ha)',\n",
    "    'Irrigation_Recommended(mm)'\n",
    "]\n",
    "\n",
    "# Convert specified columns to numeric (if not already), coercing errors to NaN\n",
    "df[numeric_columns] = df[numeric_columns].apply(pd.to_numeric, errors='coerce')\n",
    "\n",
    "# Fill NaN values in these columns with their mean\n",
    "df[numeric_columns] = df[numeric_columns].fillna(df[numeric_columns].mean())\n",
    "\n",
    "#check for any remaining NaN values\n",
    "print(df.isnull().sum())\n",
    "print(df.shape)\n"
   ]
  },
  {
   "cell_type": "markdown",
   "id": "cd2d5e98",
   "metadata": {},
   "source": [
    "Descriptive statistics"
   ]
  },
  {
   "cell_type": "code",
   "execution_count": 277,
   "id": "a449dbdc",
   "metadata": {},
   "outputs": [
    {
     "data": {
      "text/html": [
       "<div>\n",
       "<style scoped>\n",
       "    .dataframe tbody tr th:only-of-type {\n",
       "        vertical-align: middle;\n",
       "    }\n",
       "\n",
       "    .dataframe tbody tr th {\n",
       "        vertical-align: top;\n",
       "    }\n",
       "\n",
       "    .dataframe thead th {\n",
       "        text-align: right;\n",
       "    }\n",
       "</style>\n",
       "<table border=\"1\" class=\"dataframe\">\n",
       "  <thead>\n",
       "    <tr style=\"text-align: right;\">\n",
       "      <th></th>\n",
       "      <th>Date</th>\n",
       "      <th>Soil_Moisture(%)</th>\n",
       "      <th>Soil_pH</th>\n",
       "      <th>Temperature(C)</th>\n",
       "      <th>Humidity(%)</th>\n",
       "      <th>Fertilizer_Recommended(kg/ha)</th>\n",
       "      <th>Irrigation_Recommended(mm)</th>\n",
       "    </tr>\n",
       "  </thead>\n",
       "  <tbody>\n",
       "    <tr>\n",
       "      <th>count</th>\n",
       "      <td>801</td>\n",
       "      <td>801.000000</td>\n",
       "      <td>801.000000</td>\n",
       "      <td>801.000000</td>\n",
       "      <td>801.000000</td>\n",
       "      <td>801.000000</td>\n",
       "      <td>801.000000</td>\n",
       "    </tr>\n",
       "    <tr>\n",
       "      <th>mean</th>\n",
       "      <td>2026-02-04 00:17:58.651685632</td>\n",
       "      <td>44.800050</td>\n",
       "      <td>6.248279</td>\n",
       "      <td>26.469472</td>\n",
       "      <td>60.047990</td>\n",
       "      <td>87.487186</td>\n",
       "      <td>17.384171</td>\n",
       "    </tr>\n",
       "    <tr>\n",
       "      <th>min</th>\n",
       "      <td>2025-01-01 00:00:00</td>\n",
       "      <td>10.350000</td>\n",
       "      <td>4.520000</td>\n",
       "      <td>18.000000</td>\n",
       "      <td>30.000000</td>\n",
       "      <td>30.000000</td>\n",
       "      <td>5.000000</td>\n",
       "    </tr>\n",
       "    <tr>\n",
       "      <th>25%</th>\n",
       "      <td>2025-07-19 00:00:00</td>\n",
       "      <td>26.970000</td>\n",
       "      <td>5.330000</td>\n",
       "      <td>22.300000</td>\n",
       "      <td>46.000000</td>\n",
       "      <td>57.900000</td>\n",
       "      <td>11.300000</td>\n",
       "    </tr>\n",
       "    <tr>\n",
       "      <th>50%</th>\n",
       "      <td>2026-02-04 00:00:00</td>\n",
       "      <td>45.240000</td>\n",
       "      <td>6.248279</td>\n",
       "      <td>26.600000</td>\n",
       "      <td>59.900000</td>\n",
       "      <td>86.000000</td>\n",
       "      <td>17.384171</td>\n",
       "    </tr>\n",
       "    <tr>\n",
       "      <th>75%</th>\n",
       "      <td>2026-08-23 00:00:00</td>\n",
       "      <td>62.560000</td>\n",
       "      <td>7.080000</td>\n",
       "      <td>30.600000</td>\n",
       "      <td>75.300000</td>\n",
       "      <td>117.700000</td>\n",
       "      <td>23.700000</td>\n",
       "    </tr>\n",
       "    <tr>\n",
       "      <th>max</th>\n",
       "      <td>2027-03-11 00:00:00</td>\n",
       "      <td>79.980000</td>\n",
       "      <td>8.000000</td>\n",
       "      <td>35.000000</td>\n",
       "      <td>89.900000</td>\n",
       "      <td>149.700000</td>\n",
       "      <td>29.900000</td>\n",
       "    </tr>\n",
       "    <tr>\n",
       "      <th>std</th>\n",
       "      <td>NaN</td>\n",
       "      <td>20.447882</td>\n",
       "      <td>1.022107</td>\n",
       "      <td>4.859914</td>\n",
       "      <td>17.424253</td>\n",
       "      <td>34.782903</td>\n",
       "      <td>7.140991</td>\n",
       "    </tr>\n",
       "  </tbody>\n",
       "</table>\n",
       "</div>"
      ],
      "text/plain": [
       "                                Date  Soil_Moisture(%)     Soil_pH  \\\n",
       "count                            801        801.000000  801.000000   \n",
       "mean   2026-02-04 00:17:58.651685632         44.800050    6.248279   \n",
       "min              2025-01-01 00:00:00         10.350000    4.520000   \n",
       "25%              2025-07-19 00:00:00         26.970000    5.330000   \n",
       "50%              2026-02-04 00:00:00         45.240000    6.248279   \n",
       "75%              2026-08-23 00:00:00         62.560000    7.080000   \n",
       "max              2027-03-11 00:00:00         79.980000    8.000000   \n",
       "std                              NaN         20.447882    1.022107   \n",
       "\n",
       "       Temperature(C)  Humidity(%)  Fertilizer_Recommended(kg/ha)  \\\n",
       "count      801.000000   801.000000                     801.000000   \n",
       "mean        26.469472    60.047990                      87.487186   \n",
       "min         18.000000    30.000000                      30.000000   \n",
       "25%         22.300000    46.000000                      57.900000   \n",
       "50%         26.600000    59.900000                      86.000000   \n",
       "75%         30.600000    75.300000                     117.700000   \n",
       "max         35.000000    89.900000                     149.700000   \n",
       "std          4.859914    17.424253                      34.782903   \n",
       "\n",
       "       Irrigation_Recommended(mm)  \n",
       "count                  801.000000  \n",
       "mean                    17.384171  \n",
       "min                      5.000000  \n",
       "25%                     11.300000  \n",
       "50%                     17.384171  \n",
       "75%                     23.700000  \n",
       "max                     29.900000  \n",
       "std                      7.140991  "
      ]
     },
     "execution_count": 277,
     "metadata": {},
     "output_type": "execute_result"
    }
   ],
   "source": [
    "\n",
    "df.describe()"
   ]
  },
  {
   "cell_type": "markdown",
   "id": "e22799d1",
   "metadata": {},
   "source": [
    " Histograms"
   ]
  },
  {
   "cell_type": "code",
   "execution_count": 278,
   "id": "f433f02f",
   "metadata": {},
   "outputs": [
    {
     "data": {
      "image/png": "[encoded data removed]",
      "text/plain": [
       "<Figure size 1200x800 with 6 Axes>"
      ]
     },
     "metadata": {},
     "output_type": "display_data"
    }
   ],
   "source": [
    "\n",
    "#setting up the figure size\n",
    "plt.figure(figsize=(12, 8))\n",
    "\n",
    "# Plotting histograms for each numeric column\n",
    "for column in numeric_columns:\n",
    "    plt.subplot(3, 2, numeric_columns.index(column) + 1)\n",
    "    sns.histplot(df[column], bins=30, kde=True)\n",
    "    plt.title(f'Histogram of {column}')\n",
    "    plt.xlabel(column)\n",
    "    plt.ylabel('Frequency')\n",
    "plt.tight_layout()\n",
    "plt.show()"
   ]
  },
  {
   "cell_type": "markdown",
   "id": "1d056e8b",
   "metadata": {},
   "source": [
    "Correlation \n"
   ]
  },
  {
   "cell_type": "code",
   "execution_count": 279,
   "id": "8e541eb7",
   "metadata": {},
   "outputs": [
    {
     "data": {
      "image/png": "[encoded data removed]",
      "text/plain": [
       "<Figure size 1000x600 with 2 Axes>"
      ]
     },
     "metadata": {},
     "output_type": "display_data"
    }
   ],
   "source": [
    "# correlation heatmap to examine the relationships between soil and environmental variables. \n",
    "corr = df[['Soil_Moisture(%)', 'Temperature(C)', 'Humidity(%)', 'Fertilizer_Recommended(kg/ha)', 'Irrigation_Recommended(mm)']].corr()\n",
    "\n",
    "# Plotting the correlation heatmap\n",
    "plt.figure(figsize=(10, 6))\n",
    "sns.heatmap(corr, annot=True, cmap='coolwarm', square=True)\n",
    "plt.title('Correlation Heatmap')\n",
    "plt.show()\n"
   ]
  },
  {
   "cell_type": "code",
   "execution_count": 280,
   "id": "b5fb9f7f",
   "metadata": {},
   "outputs": [
    {
     "name": "stdout",
     "output_type": "stream",
     "text": [
      "Correlation with Fertilizer_Recommended(kg/ha):\n",
      "Soil_Moisture(%)             -0.003538\n",
      "Temperature(C)               -0.008015\n",
      "Humidity(%)                   0.015035\n",
      "Irrigation_Recommended(mm)   -0.013638\n",
      "Name: Fertilizer_Recommended(kg/ha), dtype: float64\n",
      "\n",
      "Most influential variable: Humidity(%) (correlation: 0.02)\n"
     ]
    }
   ],
   "source": [
    "#displaying the correlation values of each variable with Fertilizer_Recommended(kg/ha)\n",
    "fert_corr = corr['Fertilizer_Recommended(kg/ha)'].drop('Fertilizer_Recommended(kg/ha)')\n",
    "print(\"Correlation with Fertilizer_Recommended(kg/ha):\")\n",
    "print(fert_corr)\n",
    "\n",
    "# The variable with the highest absolute correlation (excluding itself) will most influence fertilizer recommendation\n",
    "most_influential = fert_corr.abs().idxmax()\n",
    "print(f\"\\nMost influential variable: {most_influential} (correlation: {fert_corr[most_influential]:.2f})\")"
   ]
  },
  {
   "cell_type": "markdown",
   "id": "871e210b",
   "metadata": {},
   "source": [
    "Determining the crop type with the highest average soil moisture"
   ]
  },
  {
   "cell_type": "code",
   "execution_count": 281,
   "id": "623d9319",
   "metadata": {},
   "outputs": [
    {
     "name": "stdout",
     "output_type": "stream",
     "text": [
      "Crop type with the highest average soil moisture: Lettuce\n"
     ]
    }
   ],
   "source": [
    "highest_moisture_crop = df.loc[df['Soil_Moisture(%)'].idxmax(), 'Crop_Type']\n",
    "print(f\"Crop type with the highest average soil moisture: {highest_moisture_crop}\")"
   ]
  },
  {
   "cell_type": "markdown",
   "id": "e136dfbf",
   "metadata": {},
   "source": [
    "Suggesting appropriate irrigation adjustments for crops experiencing average temperatures above 30°C"
   ]
  },
  {
   "cell_type": "code",
   "execution_count": 282,
   "id": "ad38bf6b",
   "metadata": {},
   "outputs": [
    {
     "name": "stdout",
     "output_type": "stream",
     "text": [
      "\n",
      "Total number of crops with average temperature above 30°C: 227\n"
     ]
    }
   ],
   "source": [
    "# suggest appropriate irrigation adjustments for crops experiencing average temperatures above 30°C\n",
    "high_temp_crops = df[df['Temperature(C)'] > 30]\n",
    "for index, row in high_temp_crops.iterrows():\n",
    "    crop = row['Crop_Type']\n",
    "    irrigation = row['Irrigation_Recommended(mm)']\n",
    "    \n",
    "    # Print the total number of crops experiencing average temperatures above 30°C\n",
    "    if index == high_temp_crops.index[-1]:\n",
    "        print(f\"\\nTotal number of crops with average temperature above 30°C: {len(high_temp_crops)}\")"
   ]
  },
  {
   "cell_type": "code",
   "execution_count": 283,
   "id": "dddeb422",
   "metadata": {},
   "outputs": [
    {
     "name": "stdout",
     "output_type": "stream",
     "text": [
      "\n",
      "Suggested irrigation adjustments for crops experiencing average temperatures above 30°C:\n",
      "Crop: Lettuce, Current Irrigation: 6.4mm, Suggested Irrigation: 7.04mm\n",
      "Crop: Maize, Current Irrigation: 9.3mm, Suggested Irrigation: 10.23mm\n",
      "Crop: Maize, Current Irrigation: 6.6mm, Suggested Irrigation: 7.26mm\n",
      "Crop: Wheat, Current Irrigation: 16.3mm, Suggested Irrigation: 17.93mm\n",
      "Crop: Maize, Current Irrigation: 15.3mm, Suggested Irrigation: 16.83mm\n",
      "Crop: Tomatoes, Current Irrigation: 6.2mm, Suggested Irrigation: 6.82mm\n",
      "Crop: Maize, Current Irrigation: 23.7mm, Suggested Irrigation: 26.07mm\n",
      "Crop: Beans, Current Irrigation: 12.8mm, Suggested Irrigation: 14.08mm\n",
      "Crop: Lettuce, Current Irrigation: 14.4mm, Suggested Irrigation: 15.84mm\n",
      "Crop: Tomatoes, Current Irrigation: 19.3mm, Suggested Irrigation: 21.23mm\n",
      "Crop: Maize, Current Irrigation: 26.6mm, Suggested Irrigation: 29.26mm\n",
      "Crop: Tomatoes, Current Irrigation: 12.0mm, Suggested Irrigation: 13.20mm\n",
      "Crop: Beans, Current Irrigation: 23.8mm, Suggested Irrigation: 26.18mm\n",
      "Crop: Maize, Current Irrigation: 23.3mm, Suggested Irrigation: 25.63mm\n",
      "Crop: Beans, Current Irrigation: 6.8mm, Suggested Irrigation: 7.48mm\n",
      "Crop: Beans, Current Irrigation: 10.8mm, Suggested Irrigation: 11.88mm\n",
      "Crop: Wheat, Current Irrigation: 11.9mm, Suggested Irrigation: 13.09mm\n",
      "Crop: Wheat, Current Irrigation: 20.6mm, Suggested Irrigation: 22.66mm\n",
      "Crop: Maize, Current Irrigation: 16.3mm, Suggested Irrigation: 17.93mm\n",
      "Crop: Beans, Current Irrigation: 22.2mm, Suggested Irrigation: 24.42mm\n",
      "Crop: Wheat, Current Irrigation: 26.9mm, Suggested Irrigation: 29.59mm\n",
      "Crop: Maize, Current Irrigation: 24.3mm, Suggested Irrigation: 26.73mm\n",
      "Crop: Maize, Current Irrigation: 21.8mm, Suggested Irrigation: 23.98mm\n",
      "Crop: Maize, Current Irrigation: 5.8mm, Suggested Irrigation: 6.38mm\n",
      "Crop: Wheat, Current Irrigation: 24.6mm, Suggested Irrigation: 27.06mm\n",
      "Crop: Beans, Current Irrigation: 15.0mm, Suggested Irrigation: 16.50mm\n",
      "Crop: Maize, Current Irrigation: 11.7mm, Suggested Irrigation: 12.87mm\n",
      "Crop: Lettuce, Current Irrigation: 18.4mm, Suggested Irrigation: 20.24mm\n",
      "Crop: Wheat, Current Irrigation: 28.9mm, Suggested Irrigation: 31.79mm\n",
      "Crop: Tomatoes, Current Irrigation: 9.6mm, Suggested Irrigation: 10.56mm\n",
      "Crop: Maize, Current Irrigation: 6.5mm, Suggested Irrigation: 7.15mm\n",
      "Crop: Wheat, Current Irrigation: 12.9mm, Suggested Irrigation: 14.19mm\n",
      "Crop: Maize, Current Irrigation: 27.9mm, Suggested Irrigation: 30.69mm\n",
      "Crop: Tomatoes, Current Irrigation: 8.5mm, Suggested Irrigation: 9.35mm\n",
      "Crop: Tomatoes, Current Irrigation: 16.0mm, Suggested Irrigation: 17.60mm\n",
      "Crop: Beans, Current Irrigation: 25.1mm, Suggested Irrigation: 27.61mm\n",
      "Crop: Maize, Current Irrigation: 28.8mm, Suggested Irrigation: 31.68mm\n",
      "Crop: Maize, Current Irrigation: 23.9mm, Suggested Irrigation: 26.29mm\n",
      "Crop: Lettuce, Current Irrigation: 16.1mm, Suggested Irrigation: 17.71mm\n",
      "Crop: Maize, Current Irrigation: 21.4mm, Suggested Irrigation: 23.54mm\n",
      "Crop: Lettuce, Current Irrigation: 10.5mm, Suggested Irrigation: 11.55mm\n",
      "Crop: Maize, Current Irrigation: 9.6mm, Suggested Irrigation: 10.56mm\n",
      "Crop: Tomatoes, Current Irrigation: 28.8mm, Suggested Irrigation: 31.68mm\n",
      "Crop: Tomatoes, Current Irrigation: 22.5mm, Suggested Irrigation: 24.75mm\n",
      "Crop: Beans, Current Irrigation: 25.7mm, Suggested Irrigation: 28.27mm\n",
      "Crop: Lettuce, Current Irrigation: 24.2mm, Suggested Irrigation: 26.62mm\n",
      "Crop: Beans, Current Irrigation: 20.7mm, Suggested Irrigation: 22.77mm\n",
      "Crop: Wheat, Current Irrigation: 20.8mm, Suggested Irrigation: 22.88mm\n",
      "Crop: Wheat, Current Irrigation: 16.3mm, Suggested Irrigation: 17.93mm\n",
      "Crop: Wheat, Current Irrigation: 28.1mm, Suggested Irrigation: 30.91mm\n",
      "Crop: Tomatoes, Current Irrigation: 19.0mm, Suggested Irrigation: 20.90mm\n",
      "Crop: Beans, Current Irrigation: 25.6mm, Suggested Irrigation: 28.16mm\n",
      "Crop: Beans, Current Irrigation: 21.4mm, Suggested Irrigation: 23.54mm\n",
      "Crop: Beans, Current Irrigation: 24.0mm, Suggested Irrigation: 26.40mm\n",
      "Crop: Tomatoes, Current Irrigation: 16.8mm, Suggested Irrigation: 18.48mm\n",
      "Crop: Tomatoes, Current Irrigation: 14.5mm, Suggested Irrigation: 15.95mm\n",
      "Crop: Lettuce, Current Irrigation: 15.3mm, Suggested Irrigation: 16.83mm\n",
      "Crop: Beans, Current Irrigation: 7.2mm, Suggested Irrigation: 7.92mm\n",
      "Crop: Beans, Current Irrigation: 18.6mm, Suggested Irrigation: 20.46mm\n",
      "Crop: Lettuce, Current Irrigation: 26.2mm, Suggested Irrigation: 28.82mm\n",
      "Crop: Wheat, Current Irrigation: 19.3mm, Suggested Irrigation: 21.23mm\n",
      "Crop: Lettuce, Current Irrigation: 16.1mm, Suggested Irrigation: 17.71mm\n",
      "Crop: Beans, Current Irrigation: 12.1mm, Suggested Irrigation: 13.31mm\n",
      "Crop: Tomatoes, Current Irrigation: 26.9mm, Suggested Irrigation: 29.59mm\n",
      "Crop: Beans, Current Irrigation: 20.0mm, Suggested Irrigation: 22.00mm\n",
      "Crop: Beans, Current Irrigation: 10.0mm, Suggested Irrigation: 11.00mm\n",
      "Crop: Tomatoes, Current Irrigation: 17.6mm, Suggested Irrigation: 19.36mm\n",
      "Crop: Tomatoes, Current Irrigation: 22.3mm, Suggested Irrigation: 24.53mm\n",
      "Crop: Wheat, Current Irrigation: 25.7mm, Suggested Irrigation: 28.27mm\n",
      "Crop: Maize, Current Irrigation: 9.8mm, Suggested Irrigation: 10.78mm\n",
      "Crop: Tomatoes, Current Irrigation: 27.9mm, Suggested Irrigation: 30.69mm\n",
      "Crop: Lettuce, Current Irrigation: 18.8mm, Suggested Irrigation: 20.68mm\n",
      "Crop: Tomatoes, Current Irrigation: 15.8mm, Suggested Irrigation: 17.38mm\n",
      "Crop: Tomatoes, Current Irrigation: 23.1mm, Suggested Irrigation: 25.41mm\n",
      "Crop: Tomatoes, Current Irrigation: 24.9mm, Suggested Irrigation: 27.39mm\n",
      "Crop: Lettuce, Current Irrigation: 25.8mm, Suggested Irrigation: 28.38mm\n",
      "Crop: Maize, Current Irrigation: 13.5mm, Suggested Irrigation: 14.85mm\n",
      "Crop: Wheat, Current Irrigation: 18.6mm, Suggested Irrigation: 20.46mm\n",
      "Crop: Tomatoes, Current Irrigation: 5.5mm, Suggested Irrigation: 6.05mm\n",
      "Crop: Wheat, Current Irrigation: 6.6mm, Suggested Irrigation: 7.26mm\n",
      "Crop: Beans, Current Irrigation: 16.6mm, Suggested Irrigation: 18.26mm\n",
      "Crop: Tomatoes, Current Irrigation: 20.5mm, Suggested Irrigation: 22.55mm\n",
      "Crop: Beans, Current Irrigation: 5.7mm, Suggested Irrigation: 6.27mm\n",
      "Crop: Wheat, Current Irrigation: 7.7mm, Suggested Irrigation: 8.47mm\n",
      "Crop: Tomatoes, Current Irrigation: 12.5mm, Suggested Irrigation: 13.75mm\n",
      "Crop: Beans, Current Irrigation: 29.1mm, Suggested Irrigation: 32.01mm\n",
      "Crop: Tomatoes, Current Irrigation: 22.0mm, Suggested Irrigation: 24.20mm\n",
      "Crop: Wheat, Current Irrigation: 15.7mm, Suggested Irrigation: 17.27mm\n",
      "Crop: Maize, Current Irrigation: 13.3mm, Suggested Irrigation: 14.63mm\n",
      "Crop: Maize, Current Irrigation: 23.5mm, Suggested Irrigation: 25.85mm\n",
      "Crop: Tomatoes, Current Irrigation: 28.5mm, Suggested Irrigation: 31.35mm\n",
      "Crop: Beans, Current Irrigation: 22.5mm, Suggested Irrigation: 24.75mm\n",
      "Crop: Lettuce, Current Irrigation: 17.9mm, Suggested Irrigation: 19.69mm\n",
      "Crop: Wheat, Current Irrigation: 17.4mm, Suggested Irrigation: 19.14mm\n",
      "Crop: Maize, Current Irrigation: 26.1mm, Suggested Irrigation: 28.71mm\n",
      "Crop: Maize, Current Irrigation: 20.4mm, Suggested Irrigation: 22.44mm\n",
      "Crop: Maize, Current Irrigation: 13.9mm, Suggested Irrigation: 15.29mm\n",
      "Crop: Lettuce, Current Irrigation: 25.9mm, Suggested Irrigation: 28.49mm\n",
      "Crop: Wheat, Current Irrigation: 28.2mm, Suggested Irrigation: 31.02mm\n",
      "Crop: Beans, Current Irrigation: 9.8mm, Suggested Irrigation: 10.78mm\n",
      "Crop: Beans, Current Irrigation: 18.3mm, Suggested Irrigation: 20.13mm\n",
      "Crop: Lettuce, Current Irrigation: 22.8mm, Suggested Irrigation: 25.08mm\n",
      "Crop: Tomatoes, Current Irrigation: 27.5mm, Suggested Irrigation: 30.25mm\n",
      "Crop: Wheat, Current Irrigation: 19.6mm, Suggested Irrigation: 21.56mm\n",
      "Crop: Maize, Current Irrigation: 9.6mm, Suggested Irrigation: 10.56mm\n",
      "Crop: Lettuce, Current Irrigation: 5.6mm, Suggested Irrigation: 6.16mm\n",
      "Crop: Lettuce, Current Irrigation: 14.6mm, Suggested Irrigation: 16.06mm\n",
      "Crop: Wheat, Current Irrigation: 25.1mm, Suggested Irrigation: 27.61mm\n",
      "Crop: Beans, Current Irrigation: 27.3mm, Suggested Irrigation: 30.03mm\n",
      "Crop: Beans, Current Irrigation: 14.7mm, Suggested Irrigation: 16.17mm\n",
      "Crop: Beans, Current Irrigation: 23.1mm, Suggested Irrigation: 25.41mm\n",
      "Crop: Beans, Current Irrigation: 6.0mm, Suggested Irrigation: 6.60mm\n",
      "Crop: Lettuce, Current Irrigation: 6.6mm, Suggested Irrigation: 7.26mm\n",
      "Crop: Tomatoes, Current Irrigation: 13.1mm, Suggested Irrigation: 14.41mm\n",
      "Crop: Tomatoes, Current Irrigation: 12.0mm, Suggested Irrigation: 13.20mm\n",
      "Crop: Lettuce, Current Irrigation: 16.9mm, Suggested Irrigation: 18.59mm\n",
      "Crop: Wheat, Current Irrigation: 11.4mm, Suggested Irrigation: 12.54mm\n",
      "Crop: Beans, Current Irrigation: 29.5mm, Suggested Irrigation: 32.45mm\n",
      "Crop: Beans, Current Irrigation: 24.8mm, Suggested Irrigation: 27.28mm\n",
      "Crop: Beans, Current Irrigation: 18.7mm, Suggested Irrigation: 20.57mm\n",
      "Crop: Maize, Current Irrigation: 20.4mm, Suggested Irrigation: 22.44mm\n",
      "Crop: Beans, Current Irrigation: 21.3mm, Suggested Irrigation: 23.43mm\n",
      "Crop: Beans, Current Irrigation: 20.4mm, Suggested Irrigation: 22.44mm\n",
      "Crop: Beans, Current Irrigation: 29.8mm, Suggested Irrigation: 32.78mm\n",
      "Crop: Tomatoes, Current Irrigation: 26.7mm, Suggested Irrigation: 29.37mm\n",
      "Crop: Maize, Current Irrigation: 22.1mm, Suggested Irrigation: 24.31mm\n",
      "Crop: Maize, Current Irrigation: 7.8mm, Suggested Irrigation: 8.58mm\n",
      "Crop: Lettuce, Current Irrigation: 6.6mm, Suggested Irrigation: 7.26mm\n",
      "Crop: Maize, Current Irrigation: 12.9mm, Suggested Irrigation: 14.19mm\n",
      "Crop: Maize, Current Irrigation: 26.5mm, Suggested Irrigation: 29.15mm\n",
      "Crop: Maize, Current Irrigation: 22.4mm, Suggested Irrigation: 24.64mm\n",
      "Crop: Lettuce, Current Irrigation: 9.0mm, Suggested Irrigation: 9.90mm\n",
      "Crop: Tomatoes, Current Irrigation: 23.0mm, Suggested Irrigation: 25.30mm\n",
      "Crop: Tomatoes, Current Irrigation: 21.7mm, Suggested Irrigation: 23.87mm\n",
      "Crop: Wheat, Current Irrigation: 20.6mm, Suggested Irrigation: 22.66mm\n",
      "Crop: Maize, Current Irrigation: 8.9mm, Suggested Irrigation: 9.79mm\n",
      "Crop: Tomatoes, Current Irrigation: 14.3mm, Suggested Irrigation: 15.73mm\n",
      "Crop: Tomatoes, Current Irrigation: 28.6mm, Suggested Irrigation: 31.46mm\n",
      "Crop: Lettuce, Current Irrigation: 29.9mm, Suggested Irrigation: 32.89mm\n",
      "Crop: Wheat, Current Irrigation: 26.2mm, Suggested Irrigation: 28.82mm\n",
      "Crop: Beans, Current Irrigation: 26.0mm, Suggested Irrigation: 28.60mm\n",
      "Crop: Lettuce, Current Irrigation: 12.9mm, Suggested Irrigation: 14.19mm\n",
      "Crop: Wheat, Current Irrigation: 5.2mm, Suggested Irrigation: 5.72mm\n",
      "Crop: Maize, Current Irrigation: 17.6mm, Suggested Irrigation: 19.36mm\n",
      "Crop: Wheat, Current Irrigation: 20.5mm, Suggested Irrigation: 22.55mm\n",
      "Crop: Lettuce, Current Irrigation: 29.4mm, Suggested Irrigation: 32.34mm\n",
      "Crop: Maize, Current Irrigation: 25.3mm, Suggested Irrigation: 27.83mm\n",
      "Crop: Beans, Current Irrigation: 15.7mm, Suggested Irrigation: 17.27mm\n",
      "Crop: Tomatoes, Current Irrigation: 20.7mm, Suggested Irrigation: 22.77mm\n",
      "Crop: Tomatoes, Current Irrigation: 20.7mm, Suggested Irrigation: 22.77mm\n",
      "Crop: Wheat, Current Irrigation: 10.9mm, Suggested Irrigation: 11.99mm\n",
      "Crop: Beans, Current Irrigation: 28.0mm, Suggested Irrigation: 30.80mm\n",
      "Crop: Maize, Current Irrigation: 6.2mm, Suggested Irrigation: 6.82mm\n",
      "Crop: Beans, Current Irrigation: 15.1mm, Suggested Irrigation: 16.61mm\n",
      "Crop: Beans, Current Irrigation: 20.7mm, Suggested Irrigation: 22.77mm\n",
      "Crop: Wheat, Current Irrigation: 18.6mm, Suggested Irrigation: 20.46mm\n",
      "Crop: Beans, Current Irrigation: 11.1mm, Suggested Irrigation: 12.21mm\n",
      "Crop: Lettuce, Current Irrigation: 12.3mm, Suggested Irrigation: 13.53mm\n",
      "Crop: Lettuce, Current Irrigation: 10.8mm, Suggested Irrigation: 11.88mm\n",
      "Crop: Maize, Current Irrigation: 14.2mm, Suggested Irrigation: 15.62mm\n",
      "Crop: Lettuce, Current Irrigation: 21.6mm, Suggested Irrigation: 23.76mm\n",
      "Crop: Maize, Current Irrigation: 28.8mm, Suggested Irrigation: 31.68mm\n",
      "Crop: Tomatoes, Current Irrigation: 21.9mm, Suggested Irrigation: 24.09mm\n",
      "Crop: Maize, Current Irrigation: 6.9mm, Suggested Irrigation: 7.59mm\n",
      "Crop: Maize, Current Irrigation: 11.4mm, Suggested Irrigation: 12.54mm\n",
      "Crop: Tomatoes, Current Irrigation: 28.3mm, Suggested Irrigation: 31.13mm\n",
      "Crop: Tomatoes, Current Irrigation: 17.9mm, Suggested Irrigation: 19.69mm\n",
      "Crop: Beans, Current Irrigation: 18.4mm, Suggested Irrigation: 20.24mm\n",
      "Crop: Wheat, Current Irrigation: 16.1mm, Suggested Irrigation: 17.71mm\n",
      "Crop: Tomatoes, Current Irrigation: 15.7mm, Suggested Irrigation: 17.27mm\n",
      "Crop: Tomatoes, Current Irrigation: 5.8mm, Suggested Irrigation: 6.38mm\n",
      "Crop: Lettuce, Current Irrigation: 26.0mm, Suggested Irrigation: 28.60mm\n",
      "Crop: Beans, Current Irrigation: 21.3mm, Suggested Irrigation: 23.43mm\n",
      "Crop: Wheat, Current Irrigation: 20.4mm, Suggested Irrigation: 22.44mm\n",
      "Crop: Tomatoes, Current Irrigation: 9.4mm, Suggested Irrigation: 10.34mm\n",
      "Crop: Beans, Current Irrigation: 29.3mm, Suggested Irrigation: 32.23mm\n",
      "Crop: Lettuce, Current Irrigation: 5.2mm, Suggested Irrigation: 5.72mm\n",
      "Crop: Maize, Current Irrigation: 6.3mm, Suggested Irrigation: 6.93mm\n",
      "Crop: Beans, Current Irrigation: 22.6mm, Suggested Irrigation: 24.86mm\n",
      "Crop: Lettuce, Current Irrigation: 18.0mm, Suggested Irrigation: 19.80mm\n",
      "Crop: Tomatoes, Current Irrigation: 29.0mm, Suggested Irrigation: 31.90mm\n",
      "Crop: Maize, Current Irrigation: 24.1mm, Suggested Irrigation: 26.51mm\n",
      "Crop: Beans, Current Irrigation: 7.0mm, Suggested Irrigation: 7.70mm\n",
      "Crop: Beans, Current Irrigation: 6.2mm, Suggested Irrigation: 6.82mm\n",
      "Crop: Lettuce, Current Irrigation: 9.7mm, Suggested Irrigation: 10.67mm\n",
      "Crop: Beans, Current Irrigation: 15.4mm, Suggested Irrigation: 16.94mm\n",
      "Crop: Lettuce, Current Irrigation: 16.4mm, Suggested Irrigation: 18.04mm\n",
      "Crop: Maize, Current Irrigation: 19.0mm, Suggested Irrigation: 20.90mm\n",
      "Crop: Tomatoes, Current Irrigation: 6.4mm, Suggested Irrigation: 7.04mm\n",
      "Crop: Wheat, Current Irrigation: 6.3mm, Suggested Irrigation: 6.93mm\n",
      "Crop: Tomatoes, Current Irrigation: 18.7mm, Suggested Irrigation: 20.57mm\n",
      "Crop: Maize, Current Irrigation: 16.8mm, Suggested Irrigation: 18.48mm\n",
      "Crop: Wheat, Current Irrigation: 22.7mm, Suggested Irrigation: 24.97mm\n",
      "Crop: Beans, Current Irrigation: 14.8mm, Suggested Irrigation: 16.28mm\n",
      "Crop: Beans, Current Irrigation: 16.2mm, Suggested Irrigation: 17.82mm\n",
      "Crop: Lettuce, Current Irrigation: 6.6mm, Suggested Irrigation: 7.26mm\n",
      "Crop: Tomatoes, Current Irrigation: 16.8mm, Suggested Irrigation: 18.48mm\n",
      "Crop: Wheat, Current Irrigation: 14.8mm, Suggested Irrigation: 16.28mm\n",
      "Crop: Maize, Current Irrigation: 11.5mm, Suggested Irrigation: 12.65mm\n",
      "Crop: Maize, Current Irrigation: 19.3mm, Suggested Irrigation: 21.23mm\n",
      "Crop: Wheat, Current Irrigation: 28.6mm, Suggested Irrigation: 31.46mm\n",
      "Crop: Lettuce, Current Irrigation: 6.4mm, Suggested Irrigation: 7.04mm\n",
      "Crop: Beans, Current Irrigation: 6.4mm, Suggested Irrigation: 7.04mm\n",
      "Crop: Tomatoes, Current Irrigation: 25.4mm, Suggested Irrigation: 27.94mm\n",
      "Crop: Maize, Current Irrigation: 8.6mm, Suggested Irrigation: 9.46mm\n",
      "Crop: Lettuce, Current Irrigation: 26.1mm, Suggested Irrigation: 28.71mm\n",
      "Crop: Wheat, Current Irrigation: 28.1mm, Suggested Irrigation: 30.91mm\n",
      "Crop: Maize, Current Irrigation: 8.3mm, Suggested Irrigation: 9.13mm\n",
      "Crop: Lettuce, Current Irrigation: 18.8mm, Suggested Irrigation: 20.68mm\n",
      "Crop: Maize, Current Irrigation: 17.8mm, Suggested Irrigation: 19.58mm\n",
      "Crop: Maize, Current Irrigation: 13.1mm, Suggested Irrigation: 14.41mm\n",
      "Crop: Maize, Current Irrigation: 27.2mm, Suggested Irrigation: 29.92mm\n",
      "Crop: Beans, Current Irrigation: 9.0mm, Suggested Irrigation: 9.90mm\n",
      "Crop: Wheat, Current Irrigation: 17.9mm, Suggested Irrigation: 19.69mm\n",
      "Crop: Maize, Current Irrigation: 24.7mm, Suggested Irrigation: 27.17mm\n",
      "Crop: Maize, Current Irrigation: 17.3mm, Suggested Irrigation: 19.03mm\n",
      "Crop: Beans, Current Irrigation: 12.0mm, Suggested Irrigation: 13.20mm\n",
      "Crop: Wheat, Current Irrigation: 14.9mm, Suggested Irrigation: 16.39mm\n",
      "Crop: Lettuce, Current Irrigation: 25.4mm, Suggested Irrigation: 27.94mm\n",
      "Crop: Maize, Current Irrigation: 11.8mm, Suggested Irrigation: 12.98mm\n",
      "Crop: Tomatoes, Current Irrigation: 23.1mm, Suggested Irrigation: 25.41mm\n",
      "Crop: Wheat, Current Irrigation: 15.5mm, Suggested Irrigation: 17.05mm\n",
      "Crop: Maize, Current Irrigation: 12.6mm, Suggested Irrigation: 13.86mm\n",
      "Crop: Tomatoes, Current Irrigation: 22.9mm, Suggested Irrigation: 25.19mm\n",
      "Crop: Beans, Current Irrigation: 14.0mm, Suggested Irrigation: 15.40mm\n",
      "Crop: Maize, Current Irrigation: 11.7mm, Suggested Irrigation: 12.87mm\n",
      "Crop: Lettuce, Current Irrigation: 9.4mm, Suggested Irrigation: 10.34mm\n"
     ]
    }
   ],
   "source": [
    "# Suggesting irrigation adjustments for crops experiencing average temperatures above 30°C\n",
    "\n",
    "if not high_temp_crops.empty:\n",
    "    print(\"\\nSuggested irrigation adjustments for crops experiencing average temperatures above 30°C:\")\n",
    "    for index, row in high_temp_crops.iterrows():\n",
    "        crop = row['Crop_Type']\n",
    "        irrigation = row['Irrigation_Recommended(mm)']\n",
    "        # Assuming a simple adjustment of increasing irrigation by 10% for high temperature crops\n",
    "        adjusted_irrigation = irrigation * 1.1\n",
    "        print(f\"Crop: {crop}, Current Irrigation: {irrigation}mm, Suggested Irrigation: {adjusted_irrigation:.2f}mm\")"
   ]
  },
  {
   "cell_type": "markdown",
   "id": "8ea87f71",
   "metadata": {},
   "source": [
    "Exporting clean dataset "
   ]
  },
  {
   "cell_type": "code",
   "execution_count": null,
   "id": "de4500af",
   "metadata": {},
   "outputs": [],
   "source": [
    "\n",
    "df.to_csv('files/cleaned_precision_agriculture_data.csv', index=False)"
   ]
  },
  {
   "cell_type": "markdown",
   "id": "08d649ba",
   "metadata": {},
   "source": [
    "Documenting insights and recommendations based on the analysis"
   ]
  },
  {
   "cell_type": "code",
   "execution_count": 285,
   "id": "c6dcfc44",
   "metadata": {},
   "outputs": [
    {
     "name": "stdout",
     "output_type": "stream",
     "text": [
      "Documenting insights and recommendations based on the analysis:\n",
      "1. The dataset has been cleaned and preprocessed, with missing values filled and erroneous entries replaced.\n",
      "2. Key insights from the analysis include:\n",
      "   - The crop with the highest average soil moisture is: Lettuce\n",
      "   - Crops experiencing high temperatures (>30°C) may require irrigation adjustments.\n",
      "3. Recommendations for farmers:\n",
      "   - Monitor soil moisture levels regularly.\n",
      "   - Adjust irrigation practices based on temperature and moisture data.\n",
      "4. The most influential variable for fertilizer recommendation is: Humidity(%)\n",
      "   - Consider the correlation of this variable when making fertilizer recommendations.\n",
      "5. The dataset can be used to develop predictive models for precision agriculture, optimizing crop yield and resource usage.\n",
      "6. Further analysis can be conducted to explore seasonal trends and crop performance over time.\n"
     ]
    }
   ],
   "source": [
    "# document your insights and recommendations based on the analysis\n",
    "print(\"Documenting insights and recommendations based on the analysis:\")\n",
    "print(\"1. The dataset has been cleaned and preprocessed, with missing values filled and erroneous entries replaced.\")\n",
    "print(\"2. Key insights from the analysis include:\")\n",
    "print(\"   - The crop with the highest average soil moisture is:\", highest_moisture_crop)\n",
    "print(\"   - Crops experiencing high temperatures (>30°C) may require irrigation adjustments.\")\n",
    "print(\"3. Recommendations for farmers:\")\n",
    "print(\"   - Monitor soil moisture levels regularly.\")\n",
    "print(\"   - Adjust irrigation practices based on temperature and moisture data.\")\n",
    "print(\"4. The most influential variable for fertilizer recommendation is:\", most_influential)\n",
    "print(\"   - Consider the correlation of this variable when making fertilizer recommendations.\")\n",
    "print(\"5. The dataset can be used to develop predictive models for precision agriculture, optimizing crop yield and resource usage.\")\n",
    "print(\"6. Further analysis can be conducted to explore seasonal trends and crop performance over time.\")"
   ]
  }
 ],
 "metadata": {
  "kernelspec": {
   "display_name": ".venv",
   "language": "python",
   "name": "python3"
  },
  "language_info": {
   "codemirror_mode": {
    "name": "ipython",
    "version": 3
   },
   "file_extension": ".py",
   "mimetype": "text/x-python",
   "name": "python",
   "nbconvert_exporter": "python",
   "pygments_lexer": "ipython3",
   "version": "3.13.1"
  }
 },
 "nbformat": 4,
 "nbformat_minor": 5
}
