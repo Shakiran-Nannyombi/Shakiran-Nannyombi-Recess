{
 "cells": [
  {
   "cell_type": "markdown",
   "id": "c387202c",
   "metadata": {},
   "source": [
    "Reading the csv files"
   ]
  },
  {
   "cell_type": "code",
   "execution_count": 32,
   "id": "f8abb705",
   "metadata": {},
   "outputs": [
    {
     "name": "stdout",
     "output_type": "stream",
     "text": [
      "    Duration         Date  Pulse  Maxpulse  Calories\n",
      "0         60  2023/10/01'  110.0     130.0     409.1\n",
      "1         60  2023/10/02'  117.0     145.0     479.0\n",
      "2         60  2023/10/03'  103.0     135.0     340.3\n",
      "3         45  2023/10/04'  109.0     175.0     282.4\n",
      "4         45  2023/10/05'  117.0     150.0     405.1\n",
      "5         60  2023/10/06'  103.0     125.0     300.0\n",
      "6         60  2023/10/07'  110.0     135.0     374.0\n",
      "7        400  2023/10/08'  114.0     133.0       NaN\n",
      "8         60  2023/10/09'  112.0     126.0     193.8\n",
      "9         30  2023/10/10'  102.0     147.0     234.8\n",
      "10        60  2023/10/11'  100.0     129.0     375.3\n",
      "11        60  2023/10/12'  109.0     131.0     345.6\n",
      "12        60  2023/10/13'  103.0     136.0     239.2\n",
      "13        60  2023/10/15'  120.0       NaN     240.8\n",
      "14        60  2023/10/15'  120.0     100.0     240.8\n",
      "15        60  2023/10/16'    NaN     101.0     243.8\n",
      "16        60  2023/10/17'  127.0     102.0     380.2\n",
      "17        45     20231018  142.0     103.0     241.4\n",
      "18        60  2023/10/19'  151.0     104.0       NaN\n",
      "19        60  2023/10/20'  162.0     105.0     300.9\n",
      "20        60  2023/10/21'  100.0     106.0     280.0\n",
      "21        60  2023/10/22'  103.0     107.0       NaN\n",
      "22        60          NaN  130.0     108.0     230.8\n",
      "23        60  2023/10/24'  134.0       NaN     239.7\n",
      "24        60  2023/10/25'  132.0     110.0     236.9\n",
      "25        60  2023/10/26'  135.0     118.0     278.8\n",
      "26        60  2023/10/27'  137.0     119.0     212.9\n",
      "27        60  2023/10/28'  138.0     121.0     345.9\n",
      "28        60  2023/10/29'  139.0     122.0     345.2\n",
      "29        60          NaN   92.0     125.0     380.5\n",
      "30        60  2023/10/31'   94.0     126.0       NaN\n",
      "   Order ID  Customer Name   Order Date   Product  Quantity  Unit Price  \\\n",
      "0      1001       John Doe   01/01/2024  Widget A      10.0        25.0   \n",
      "1      1002     Jane Smith   01/02/2024  Widget B       5.0        40.0   \n",
      "2      1003            NaN  2024/01/03'  Widget A       NaN        25.0   \n",
      "3      1004  Alice Johnson   04/01/2024  Widget C       3.0         NaN   \n",
      "4      1005      Bob Brown  2024/01/05'  Widget B      10.0        40.0   \n",
      "5      1006       John Doe   06/01/2024  Widget A       4.0        25.0   \n",
      "6      1001       John Doe   01/01/2024  Widget A      10.0        25.0   \n",
      "7      1007     Jane Smith   07/01/2024  Widget C      -6.0        70.0   \n",
      "\n",
      "   Total Revenue  \n",
      "0          250.0  \n",
      "1          200.0  \n",
      "2            NaN  \n",
      "3          210.0  \n",
      "4          400.0  \n",
      "5          100.0  \n",
      "6          250.0  \n",
      "7         -420.0  \n"
     ]
    }
   ],
   "source": [
    "import pandas as pd\n",
    "\n",
    "df1 = pd.read_csv('files/Mine.csv')\n",
    "df2 = pd.read_csv('files/Sales.csv')\n",
    "print(df1)\n",
    "print(df2)\n"
   ]
  },
  {
   "cell_type": "markdown",
   "id": "b01face2",
   "metadata": {},
   "source": [
    "Removing Empty cells / Missing values"
   ]
  },
  {
   "cell_type": "code",
   "execution_count": 33,
   "id": "0b38f09a",
   "metadata": {},
   "outputs": [
    {
     "name": "stdout",
     "output_type": "stream",
     "text": [
      "Duration    0\n",
      "Date        2\n",
      "Pulse       1\n",
      "Maxpulse    2\n",
      "Calories    4\n",
      "dtype: int64\n",
      "Order ID         0\n",
      "Customer Name    1\n",
      "Order Date       0\n",
      "Product          0\n",
      "Quantity         1\n",
      "Unit Price       1\n",
      "Total Revenue    1\n",
      "dtype: int64\n"
     ]
    }
   ],
   "source": [
    "df1 = pd.read_csv('files/Mine.csv')\n",
    "df2 = pd.read_csv('files/Sales.csv')\n",
    "\n",
    "# Check for null values\n",
    "print(df1.isnull().sum())\n",
    "print(df2.isnull().sum())"
   ]
  },
  {
   "cell_type": "code",
   "execution_count": 34,
   "id": "9b57ce71",
   "metadata": {},
   "outputs": [
    {
     "name": "stdout",
     "output_type": "stream",
     "text": [
      "    Duration         Date  Pulse  Maxpulse  Calories\n",
      "0         60  2023/10/01'  110.0     130.0     409.1\n",
      "1         60  2023/10/02'  117.0     145.0     479.0\n",
      "2         60  2023/10/03'  103.0     135.0     340.3\n",
      "3         45  2023/10/04'  109.0     175.0     282.4\n",
      "4         45  2023/10/05'  117.0     150.0     405.1\n",
      "5         60  2023/10/06'  103.0     125.0     300.0\n",
      "6         60  2023/10/07'  110.0     135.0     374.0\n",
      "7        400  2023/10/08'  114.0     133.0     302.9\n",
      "8         60  2023/10/09'  112.0     126.0     193.8\n",
      "9         30  2023/10/10'  102.0     147.0     234.8\n",
      "10        60  2023/10/11'  100.0     129.0     375.3\n",
      "11        60  2023/10/12'  109.0     131.0     345.6\n",
      "12        60  2023/10/13'  103.0     136.0     239.2\n",
      "13        60  2023/10/15'  120.0     125.0     240.8\n",
      "14        60  2023/10/15'  120.0     100.0     240.8\n",
      "15        60  2023/10/16'  103.0     101.0     243.8\n",
      "16        60  2023/10/17'  127.0     102.0     380.2\n",
      "17        45     20231018  142.0     103.0     241.4\n",
      "18        60  2023/10/19'  151.0     104.0     302.9\n",
      "19        60  2023/10/20'  162.0     105.0     300.9\n",
      "20        60  2023/10/21'  100.0     106.0     280.0\n",
      "21        60  2023/10/22'  103.0     107.0     302.9\n",
      "22        60  2023-10-23'  130.0     108.0     230.8\n",
      "23        60  2023/10/24'  134.0     125.0     239.7\n",
      "24        60  2023/10/25'  132.0     110.0     236.9\n",
      "25        60  2023/10/26'  135.0     118.0     278.8\n",
      "26        60  2023/10/27'  137.0     119.0     212.9\n",
      "27        60  2023/10/28'  138.0     121.0     345.9\n",
      "28        60  2023/10/29'  139.0     122.0     345.2\n",
      "29        60  2023-10-30'   92.0     125.0     380.5\n",
      "30        60  2023/10/31'   94.0     126.0     302.9\n",
      "   Order ID  Customer Name   Order Date   Product  Quantity  Unit Price  Total Revenue\n",
      "0      1001       John Doe   01/01/2024  Widget A      10.0        25.0          250.0\n",
      "1      1002     Jane Smith   01/02/2024  Widget B       5.0        40.0          200.0\n",
      "2      1003       John Doe  2024/01/03'  Widget A       5.0        25.0          141.4\n",
      "3      1004  Alice Johnson   04/01/2024  Widget C       3.0        25.0          210.0\n",
      "4      1005      Bob Brown  2024/01/05'  Widget B      10.0        40.0          400.0\n",
      "5      1006       John Doe   06/01/2024  Widget A       4.0        25.0          100.0\n",
      "6      1001       John Doe   01/01/2024  Widget A      10.0        25.0          250.0\n",
      "7      1007     Jane Smith   07/01/2024  Widget C      -6.0        70.0         -420.0\n"
     ]
    }
   ],
   "source": [
    "import numpy as np\n",
    "from pandas.tseries.offsets import Day\n",
    "\n",
    "df1 = pd.read_csv('files/Mine.csv')\n",
    "df2 = pd.read_csv('files/Sales.csv')\n",
    "\n",
    "# Fill NaN values with mode for Pulse, median for Maxpulse, and mean for Calories in Mine.csv\n",
    "df1 = df1.copy()\n",
    "df1['Pulse'] = df1['Pulse'].fillna(df1['Pulse'].mode()[0])\n",
    "df1['Maxpulse'] = df1['Maxpulse'].fillna(df1['Maxpulse'].median())\n",
    "df1['Calories'] = df1['Calories'].fillna(df1['Calories'].mean())\n",
    "\n",
    "# Only fill missing dates (NaN) in 'Date' column by adding one day to the previous valid date\n",
    "for i in range(1, len(df1)):\n",
    "    if pd.isna(df1.loc[i, 'Date']):\n",
    "        prev_idx = i - 1\n",
    "        while prev_idx >= 0 and pd.isna(df1.loc[prev_idx, 'Date']):\n",
    "            prev_idx -= 1\n",
    "        if prev_idx >= 0:\n",
    "            df1.loc[i, 'Date'] = (pd.to_datetime(df1.loc[prev_idx, 'Date']) + Day(1)).strftime('%Y-%m-%d') + \"'\"\n",
    "\n",
    "# Fill Customer Name with NaN with 'John Doe' in Sales.csv\n",
    "df2.fillna({'Customer Name': 'John Doe'}, inplace=True)\n",
    "\n",
    "# Fill Quantity with median, Unit Price with mode, and Total Revenue with mean in Sales.csv\n",
    "df2['Quantity'] = df2['Quantity'].fillna(df2['Quantity'].median())\n",
    "df2['Unit Price'] = df2['Unit Price'].fillna(df2['Unit Price'].mode()[0])\n",
    "df2['Total Revenue'] = df2['Total Revenue'].fillna(df2['Total Revenue'].mean())\n",
    "\n",
    "# Display the dataframes with formatted float values\n",
    "print(df1.to_string(float_format='{:,.1f}'.format))\n",
    "print(df2.to_string(float_format='{:,.1f}'.format))\n"
   ]
  },
  {
   "cell_type": "code",
   "execution_count": 35,
   "id": "7ba90e3b",
   "metadata": {},
   "outputs": [
    {
     "name": "stdout",
     "output_type": "stream",
     "text": [
      "Duration    0\n",
      "Date        0\n",
      "Pulse       0\n",
      "Maxpulse    0\n",
      "Calories    0\n",
      "dtype: int64\n",
      "Order ID         0\n",
      "Customer Name    0\n",
      "Order Date       0\n",
      "Product          0\n",
      "Quantity         0\n",
      "Unit Price       0\n",
      "Total Revenue    0\n",
      "dtype: int64\n"
     ]
    }
   ],
   "source": [
    "# Recheck for null values after filling\n",
    "print(df1.isnull().sum())\n",
    "print(df2.isnull().sum())"
   ]
  },
  {
   "cell_type": "markdown",
   "id": "eaaaf84e",
   "metadata": {},
   "source": [
    " Removing inconsistent data Formats\n"
   ]
  },
  {
   "cell_type": "code",
   "execution_count": 36,
   "id": "20ab6ca1",
   "metadata": {},
   "outputs": [
    {
     "name": "stdout",
     "output_type": "stream",
     "text": [
      "    Duration       Date  Pulse  Maxpulse  Calories\n",
      "0         60 2023-10-01  110.0     130.0     409.1\n",
      "1         60 2023-10-02  117.0     145.0     479.0\n",
      "2         60 2023-10-03  103.0     135.0     340.3\n",
      "3         45 2023-10-04  109.0     175.0     282.4\n",
      "4         45 2023-10-05  117.0     150.0     405.1\n",
      "5         60 2023-10-06  103.0     125.0     300.0\n",
      "6         60 2023-10-07  110.0     135.0     374.0\n",
      "7        400 2023-10-08  114.0     133.0     302.9\n",
      "8         60 2023-10-09  112.0     126.0     193.8\n",
      "9         30 2023-10-10  102.0     147.0     234.8\n",
      "10        60 2023-10-11  100.0     129.0     375.3\n",
      "11        60 2023-10-12  109.0     131.0     345.6\n",
      "12        60 2023-10-13  103.0     136.0     239.2\n",
      "13        60 2023-10-15  120.0     125.0     240.8\n",
      "14        60 2023-10-15  120.0     100.0     240.8\n",
      "15        60 2023-10-16  103.0     101.0     243.8\n",
      "16        60 2023-10-17  127.0     102.0     380.2\n",
      "17        45 2023-10-18  142.0     103.0     241.4\n",
      "18        60 2023-10-19  151.0     104.0     302.9\n",
      "19        60 2023-10-20  162.0     105.0     300.9\n",
      "20        60 2023-10-21  100.0     106.0     280.0\n",
      "21        60 2023-10-22  103.0     107.0     302.9\n",
      "22        60 2023-10-23  130.0     108.0     230.8\n",
      "23        60 2023-10-24  134.0     125.0     239.7\n",
      "24        60 2023-10-25  132.0     110.0     236.9\n",
      "25        60 2023-10-26  135.0     118.0     278.8\n",
      "26        60 2023-10-27  137.0     119.0     212.9\n",
      "27        60 2023-10-28  138.0     121.0     345.9\n",
      "28        60 2023-10-29  139.0     122.0     345.2\n",
      "29        60 2023-10-30   92.0     125.0     380.5\n",
      "30        60 2023-10-31   94.0     126.0     302.9\n",
      "   Order ID  Customer Name Order Date   Product  Quantity  Unit Price  Total Revenue\n",
      "0      1001       John Doe 2024-01-01  Widget A      10.0        25.0          250.0\n",
      "1      1002     Jane Smith 2024-01-02  Widget B       5.0        40.0          200.0\n",
      "2      1003       John Doe 2024-01-03  Widget A       5.0        25.0          141.4\n",
      "3      1004  Alice Johnson 2024-04-01  Widget C       3.0        25.0          210.0\n",
      "4      1005      Bob Brown 2024-01-05  Widget B      10.0        40.0          400.0\n",
      "5      1006       John Doe 2024-06-01  Widget A       4.0        25.0          100.0\n",
      "6      1001       John Doe 2024-01-01  Widget A      10.0        25.0          250.0\n",
      "7      1007     Jane Smith 2024-07-01  Widget C      -6.0        70.0         -420.0\n"
     ]
    }
   ],
   "source": [
    "# Wrong formats on 'Date' column in both dataframes\n",
    "# in Mine.csv: on row 17 with 20231018 \n",
    "# in Sales.csv: on row 4 with 2024/01/05'\n",
    "\n",
    "# firstly im going to convert the 'Date' column in df1 and 'Order Date' column in df2 to datetime format\n",
    "df1['Date'] = pd.to_datetime(df1['Date'], format= 'mixed')\n",
    "df2['Order Date'] = pd.to_datetime(df2['Order Date'], format= 'mixed',errors='coerce')\n",
    "\n",
    "# Display the dataframes with formatted float values\n",
    "print(df1.to_string(float_format='{:,.1f}'.format))\n",
    "print(df2.to_string(float_format='{:,.1f}'.format))"
   ]
  },
  {
   "cell_type": "markdown",
   "id": "3ee48cd8",
   "metadata": {},
   "source": [
    "Removing duplicate rows"
   ]
  },
  {
   "cell_type": "code",
   "execution_count": 37,
   "id": "4d4af171",
   "metadata": {},
   "outputs": [
    {
     "name": "stdout",
     "output_type": "stream",
     "text": [
      "    Duration       Date  Pulse  Maxpulse  Calories\n",
      "0         60 2023-10-01  110.0     130.0     409.1\n",
      "1         60 2023-10-02  117.0     145.0     479.0\n",
      "2         60 2023-10-03  103.0     135.0     340.3\n",
      "3         45 2023-10-04  109.0     175.0     282.4\n",
      "4         45 2023-10-05  117.0     150.0     405.1\n",
      "5         60 2023-10-06  103.0     125.0     300.0\n",
      "6         60 2023-10-07  110.0     135.0     374.0\n",
      "7        400 2023-10-08  114.0     133.0     302.9\n",
      "8         60 2023-10-09  112.0     126.0     193.8\n",
      "9         30 2023-10-10  102.0     147.0     234.8\n",
      "10        60 2023-10-11  100.0     129.0     375.3\n",
      "11        60 2023-10-12  109.0     131.0     345.6\n",
      "12        60 2023-10-13  103.0     136.0     239.2\n",
      "13        60 2023-10-15  120.0     125.0     240.8\n",
      "14        60 2023-10-15  120.0     100.0     240.8\n",
      "15        60 2023-10-16  103.0     101.0     243.8\n",
      "16        60 2023-10-17  127.0     102.0     380.2\n",
      "17        45 2023-10-18  142.0     103.0     241.4\n",
      "18        60 2023-10-19  151.0     104.0     302.9\n",
      "19        60 2023-10-20  162.0     105.0     300.9\n",
      "20        60 2023-10-21  100.0     106.0     280.0\n",
      "21        60 2023-10-22  103.0     107.0     302.9\n",
      "22        60 2023-10-23  130.0     108.0     230.8\n",
      "23        60 2023-10-24  134.0     125.0     239.7\n",
      "24        60 2023-10-25  132.0     110.0     236.9\n",
      "25        60 2023-10-26  135.0     118.0     278.8\n",
      "26        60 2023-10-27  137.0     119.0     212.9\n",
      "27        60 2023-10-28  138.0     121.0     345.9\n",
      "28        60 2023-10-29  139.0     122.0     345.2\n",
      "29        60 2023-10-30   92.0     125.0     380.5\n",
      "30        60 2023-10-31   94.0     126.0     302.9\n",
      "   Order ID  Customer Name Order Date   Product  Quantity  Unit Price  Total Revenue\n",
      "0      1001       John Doe 2024-01-01  Widget A      10.0        25.0          250.0\n",
      "1      1002     Jane Smith 2024-01-02  Widget B       5.0        40.0          200.0\n",
      "2      1003       John Doe 2024-01-03  Widget A       5.0        25.0          141.4\n",
      "3      1004  Alice Johnson 2024-04-01  Widget C       3.0        25.0          210.0\n",
      "4      1005      Bob Brown 2024-01-05  Widget B      10.0        40.0          400.0\n",
      "5      1006       John Doe 2024-06-01  Widget A       4.0        25.0          100.0\n",
      "7      1007     Jane Smith 2024-07-01  Widget C      -6.0        70.0         -420.0\n"
     ]
    }
   ],
   "source": [
    "# Removing duplicate rows\n",
    "# in Sales.csv on rows 0 and 6\n",
    "# in Mine.csv there are no duplicate rows\n",
    "\n",
    "# Remove duplicate rows\n",
    "df1.drop_duplicates(inplace=True)\n",
    "df2.drop_duplicates(inplace=True)\n",
    "\n",
    "# Display the dataframes with formatted float values\n",
    "print(df1.to_string(float_format='{:,.1f}'.format))\n",
    "print(df2.to_string(float_format='{:,.1f}'.format))\n"
   ]
  },
  {
   "cell_type": "markdown",
   "id": "d3473bb3",
   "metadata": {},
   "source": [
    "Removing wrong data"
   ]
  },
  {
   "cell_type": "code",
   "execution_count": 38,
   "id": "cb1207e8",
   "metadata": {},
   "outputs": [
    {
     "name": "stdout",
     "output_type": "stream",
     "text": [
      "    Duration       Date  Pulse  Maxpulse  Calories\n",
      "0         60 2023-10-01  110.0     130.0     409.1\n",
      "1         60 2023-10-02  117.0     145.0     479.0\n",
      "2         60 2023-10-03  103.0     135.0     340.3\n",
      "3         45 2023-10-04  109.0     175.0     282.4\n",
      "4         45 2023-10-05  117.0     150.0     405.1\n",
      "5         60 2023-10-06  103.0     125.0     300.0\n",
      "6         60 2023-10-07  110.0     135.0     374.0\n",
      "7         40 2023-10-08  114.0     133.0     302.9\n",
      "8         60 2023-10-09  112.0     126.0     193.8\n",
      "9         30 2023-10-10  102.0     147.0     234.8\n",
      "10        60 2023-10-11  100.0     129.0     375.3\n",
      "11        60 2023-10-12  109.0     131.0     345.6\n",
      "12        60 2023-10-13  103.0     136.0     239.2\n",
      "13        60 2023-10-15  120.0     125.0     240.8\n",
      "14        60 2023-10-15  120.0     100.0     240.8\n",
      "15        60 2023-10-16  103.0     101.0     243.8\n",
      "16        60 2023-10-17  127.0     102.0     380.2\n",
      "17        45 2023-10-18  142.0     103.0     241.4\n",
      "18        60 2023-10-19  151.0     104.0     302.9\n",
      "19        60 2023-10-20  162.0     105.0     300.9\n",
      "20        60 2023-10-21  100.0     106.0     280.0\n",
      "21        60 2023-10-22  103.0     107.0     302.9\n",
      "22        60 2023-10-23  130.0     108.0     230.8\n",
      "23        60 2023-10-24  134.0     125.0     239.7\n",
      "24        60 2023-10-25  132.0     110.0     236.9\n",
      "25        60 2023-10-26  135.0     118.0     278.8\n",
      "26        60 2023-10-27  137.0     119.0     212.9\n",
      "27        60 2023-10-28  138.0     121.0     345.9\n",
      "28        60 2023-10-29  139.0     122.0     345.2\n",
      "29        60 2023-10-30   92.0     125.0     380.5\n",
      "30        60 2023-10-31   94.0     126.0     302.9\n",
      "   Order ID  Customer Name Order Date   Product  Quantity  Unit Price  Total Revenue\n",
      "0      1001       John Doe 2024-01-01  Widget A      10.0        25.0          250.0\n",
      "1      1002     Jane Smith 2024-01-02  Widget B       5.0        40.0          200.0\n",
      "2      1003       John Doe 2024-01-03  Widget A       5.0        25.0          141.4\n",
      "3      1004  Alice Johnson 2024-04-01  Widget C       3.0        25.0          210.0\n",
      "4      1005      Bob Brown 2024-01-05  Widget B      10.0        40.0          400.0\n",
      "5      1006       John Doe 2024-06-01  Widget A       4.0        25.0          100.0\n",
      "7      1007     Jane Smith 2024-07-01  Widget C       6.0        70.0          420.0\n"
     ]
    }
   ],
   "source": [
    "# removing wrong data\n",
    "# in Mine.csv: on row 7 with 400\n",
    "# in Sales.csv: on row 7 with negative value in 'Quantity'and 'Total Revenue' columns\n",
    "\n",
    "# Since we have durations of 30,60,and 45 and going to assume 400 as 40 in 'Duration' column of Mine.csv\n",
    "df1.loc[7, 'Duration'] = 40\n",
    "\n",
    "# Replacing negative values in Sales.csv with positive versions of them using absolute values\n",
    "df2.loc[7, 'Quantity'] = abs(df2.loc[7, 'Quantity'])\n",
    "df2.loc[7, 'Total Revenue'] = abs(df2.loc[7, 'Total Revenue'])\n",
    "\n",
    "# Display the dataframes with formatted float values\n",
    "print(df1.to_string(float_format='{:,.1f}'.format))\n",
    "print(df2.to_string(float_format='{:,.1f}'.format))"
   ]
  },
  {
   "cell_type": "markdown",
   "id": "4f9826fb",
   "metadata": {},
   "source": [
    "Removing Unnecessary columns that are no relevant to the analysis"
   ]
  },
  {
   "cell_type": "code",
   "execution_count": 41,
   "id": "4a6ebbdf",
   "metadata": {},
   "outputs": [
    {
     "name": "stdout",
     "output_type": "stream",
     "text": [
      " Duration       Date  Pulse  Maxpulse  Calories\n",
      "       60 2023-10-01  110.0     130.0     409.1\n",
      "       60 2023-10-02  117.0     145.0     479.0\n",
      "       60 2023-10-03  103.0     135.0     340.3\n",
      "       45 2023-10-04  109.0     175.0     282.4\n",
      "       45 2023-10-05  117.0     150.0     405.1\n",
      "       60 2023-10-06  103.0     125.0     300.0\n",
      "       60 2023-10-07  110.0     135.0     374.0\n",
      "       40 2023-10-08  114.0     133.0     302.9\n",
      "       60 2023-10-09  112.0     126.0     193.8\n",
      "       30 2023-10-10  102.0     147.0     234.8\n",
      "       60 2023-10-11  100.0     129.0     375.3\n",
      "       60 2023-10-12  109.0     131.0     345.6\n",
      "       60 2023-10-13  103.0     136.0     239.2\n",
      "       60 2023-10-15  120.0     125.0     240.8\n",
      "       60 2023-10-15  120.0     100.0     240.8\n",
      "       60 2023-10-16  103.0     101.0     243.8\n",
      "       60 2023-10-17  127.0     102.0     380.2\n",
      "       45 2023-10-18  142.0     103.0     241.4\n",
      "       60 2023-10-19  151.0     104.0     302.9\n",
      "       60 2023-10-20  162.0     105.0     300.9\n",
      "       60 2023-10-21  100.0     106.0     280.0\n",
      "       60 2023-10-22  103.0     107.0     302.9\n",
      "       60 2023-10-23  130.0     108.0     230.8\n",
      "       60 2023-10-24  134.0     125.0     239.7\n",
      "       60 2023-10-25  132.0     110.0     236.9\n",
      "       60 2023-10-26  135.0     118.0     278.8\n",
      "       60 2023-10-27  137.0     119.0     212.9\n",
      "       60 2023-10-28  138.0     121.0     345.9\n",
      "       60 2023-10-29  139.0     122.0     345.2\n",
      "       60 2023-10-30   92.0     125.0     380.5\n",
      "       60 2023-10-31   94.0     126.0     302.9\n",
      " Order ID Customer Name Order Date  Product  Quantity  Unit Price  Total Revenue\n",
      "     1001      John Doe 2024-01-01 Widget A      10.0        25.0          250.0\n",
      "     1002    Jane Smith 2024-01-02 Widget B       5.0        40.0          200.0\n",
      "     1003      John Doe 2024-01-03 Widget A       5.0        25.0          141.4\n",
      "     1004 Alice Johnson 2024-04-01 Widget C       3.0        25.0          210.0\n",
      "     1005     Bob Brown 2024-01-05 Widget B      10.0        40.0          400.0\n",
      "     1006      John Doe 2024-06-01 Widget A       4.0        25.0          100.0\n",
      "     1007    Jane Smith 2024-07-01 Widget C       6.0        70.0          420.0\n"
     ]
    }
   ],
   "source": [
    "# Displaying the final cleaned dataframes without default index \n",
    "print(df1.to_string(index=False, float_format='{:,.1f}'.format))\n",
    "print(df2.to_string(index=False, float_format='{:,.1f}'.format))\n",
    "\n",
    "# Saving the cleaned dataframes to new CSV files\n",
    "df1.to_csv('files/Cleaned_Mine.csv', index=False)\n",
    "df2.to_csv('files/Cleaned_Sales.csv', index=False)"
   ]
  }
 ],
 "metadata": {
  "kernelspec": {
   "display_name": ".venv",
   "language": "python",
   "name": "python3"
  },
  "language_info": {
   "codemirror_mode": {
    "name": "ipython",
    "version": 3
   },
   "file_extension": ".py",
   "mimetype": "text/x-python",
   "name": "python",
   "nbconvert_exporter": "python",
   "pygments_lexer": "ipython3",
   "version": "3.13.1"
  }
 },
 "nbformat": 4,
 "nbformat_minor": 5
}
