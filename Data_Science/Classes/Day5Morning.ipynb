{
 "cells": [
  {
   "cell_type": "code",
   "execution_count": 15,
   "id": "da5cf608",
   "metadata": {},
   "outputs": [],
   "source": [
    "# Reading and writing files\n",
    "# opening a file in read mode\n",
    "# You can use a relative path if your notebook's working directory is set appropriately.\n",
    "# For example, if the file is in a subfolder \"files\" relative to your notebook:\n",
    "file = open(\"files/kiran.txt\", \"r\")"
   ]
  },
  {
   "cell_type": "code",
   "execution_count": 16,
   "id": "5d9d2864",
   "metadata": {},
   "outputs": [
    {
     "name": "stdout",
     "output_type": "stream",
     "text": [
      "what is data Science?\n",
      "\n",
      "Data Science is an interdisciplinary field that uses scientific methods, processes, algorithms, and \n",
      "systems to extract knowledge and insights from structured and unstructured data. It combines techniques\n",
      " from statistics, computer science, and domain expertise to analyze and interpret complex data sets. \n",
      "\n",
      " \n"
     ]
    }
   ],
   "source": [
    "# Reading the Content of file\n",
    "content = file.read()\n",
    "# printing the content\n",
    "print(content)"
   ]
  },
  {
   "cell_type": "code",
   "execution_count": 18,
   "id": "af431f33",
   "metadata": {},
   "outputs": [],
   "source": [
    "#writing to a file\n",
    "with open(\"files/kiran.txt\", \"w\") as file:\n",
    "    # Writing String to file\n",
    "    file.write(\"This is my data science file.\\n\")\n",
    "    # Writing another line to the file\n",
    "    file.write(\"I love data science.\\n\")"
   ]
  },
  {
   "cell_type": "code",
   "execution_count": 19,
   "id": "9f516ea3",
   "metadata": {},
   "outputs": [
    {
     "name": "stdout",
     "output_type": "stream",
     "text": [
      "This is my data science file.\n",
      "I love data science.\n",
      "This is an appended line.\n",
      "\n"
     ]
    }
   ],
   "source": [
    "# Appending to a file\n",
    "with open(\"files/kiran.txt\", \"a\") as file:\n",
    "    # Appending a new line to the file\n",
    "    file.write(\"This is an appended line.\\n\")\n",
    "    \n",
    "# Reading the file again to see the changes\n",
    "with open(\"files/kiran.txt\", \"r\") as file:\n",
    "    # Reading the updated content\n",
    "    updated_content = file.read()\n",
    "    print(updated_content)"
   ]
  }
 ],
 "metadata": {
  "kernelspec": {
   "display_name": ".venv",
   "language": "python",
   "name": "python3"
  },
  "language_info": {
   "codemirror_mode": {
    "name": "ipython",
    "version": 3
   },
   "file_extension": ".py",
   "mimetype": "text/x-python",
   "name": "python",
   "nbconvert_exporter": "python",
   "pygments_lexer": "ipython3",
   "version": "3.13.1"
  }
 },
 "nbformat": 4,
 "nbformat_minor": 5
}
