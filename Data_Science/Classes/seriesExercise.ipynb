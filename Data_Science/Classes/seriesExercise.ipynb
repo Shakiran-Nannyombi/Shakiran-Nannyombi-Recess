{
 "cells": [
  {
   "cell_type": "code",
   "execution_count": 8,
   "id": "74321c9e",
   "metadata": {},
   "outputs": [
    {
     "name": "stdout",
     "output_type": "stream",
     "text": [
      "0    False\n",
      "1     True\n",
      "2     True\n",
      "3    False\n",
      "4    False\n",
      "dtype: bool\n",
      "0     True\n",
      "1    False\n",
      "2    False\n",
      "3     True\n",
      "4    False\n",
      "dtype: bool\n",
      "0    False\n",
      "1    False\n",
      "2    False\n",
      "3    False\n",
      "4     True\n",
      "dtype: bool\n"
     ]
    }
   ],
   "source": [
    "import pandas as pd\n",
    "\n",
    "# 1.Write a Pandas program to compare the elements of two Pandas series. \n",
    "# Sample Series [4,65,436,3,9], [7,0,3,897,9]\n",
    "\n",
    "series1 = pd.Series([4, 65, 436, 3, 9])\n",
    "series2 = pd.Series([7, 0, 3, 897, 9])\n",
    "\n",
    "# Comparing the elements\n",
    "comparison1 = series1 > series2\n",
    "print(comparison1)\n",
    "\n",
    "comparison2 = series1 < series2\n",
    "print(comparison2)\n",
    "\n",
    "comparison3 = series1 == series2\n",
    "print(comparison3)\n"
   ]
  },
  {
   "cell_type": "code",
   "execution_count": 9,
   "id": "ef84eabf",
   "metadata": {},
   "outputs": [
    {
     "name": "stdout",
     "output_type": "stream",
     "text": [
      "Addition:\n",
      " 0     3\n",
      "1     7\n",
      "2    11\n",
      "3    15\n",
      "4    23\n",
      "dtype: int64\n",
      "Subtraction:\n",
      " 0    1\n",
      "1    1\n",
      "2    1\n",
      "3    1\n",
      "4    5\n",
      "dtype: int64\n",
      "Multiplication:\n",
      " 0      2\n",
      "1     12\n",
      "2     30\n",
      "3     56\n",
      "4    126\n",
      "dtype: int64\n",
      "Division:\n",
      " 0    2.000000\n",
      "1    1.333333\n",
      "2    1.200000\n",
      "3    1.142857\n",
      "4    1.555556\n",
      "dtype: float64\n"
     ]
    }
   ],
   "source": [
    "# 2.Write a Pandas program to add, subtract, multiply and divide two Pandas series. \n",
    "# Sample Series: [2,4,6,8,14], [1,3,5,7,9]\n",
    "\n",
    "series1 = pd.Series([2, 4, 6, 8, 14])\n",
    "series2 = pd.Series([1, 3, 5, 7, 9])\n",
    "\n",
    "# Perform arithmetic operations\n",
    "addition = series1 + series2\n",
    "subtraction = series1 - series2\n",
    "multiplication = series1 * series2\n",
    "division = series1 / series2\n",
    "\n",
    "# Display the results\n",
    "print(\"Addition:\\n\", addition)\n",
    "print(\"Subtraction:\\n\", subtraction)\n",
    "print(\"Multiplication:\\n\", multiplication)\n",
    "print(\"Division:\\n\", division)\n"
   ]
  },
  {
   "cell_type": "code",
   "execution_count": 10,
   "id": "efc0afb7",
   "metadata": {},
   "outputs": [
    {
     "name": "stdout",
     "output_type": "stream",
     "text": [
      "DataFrame with column names 'Name' and 'Age':\n",
      "       Name  Age\n",
      "0     Josh   24\n",
      "1      Sam   36\n",
      "2    Peace   19\n",
      "3  Charles   65\n",
      "4      Tom   44\n"
     ]
    }
   ],
   "source": [
    "# 3.Write a Pandas program to convert a dictionary to a Pandas series. \n",
    "# Sample dictionary: dictionary1 = {‘Josh’: 24, ‘Sam’: 36, ‘Peace’: 19, ‘Charles’: 65, ‘Tom’: 44}\n",
    "\n",
    "series_dict = pd.Series({'Josh': 24, 'Sam': 36, 'Peace': 19, 'Charles': 65, 'Tom': 44})\n",
    "\n",
    "# Convert the Series to a DataFrame and set column names\n",
    "df = series_dict.rename_axis('Name').reset_index(name='Age')\n",
    "print(\"DataFrame with column names 'Name' and 'Age':\\n\", df)\n",
    "\n"
   ]
  },
  {
   "cell_type": "code",
   "execution_count": 11,
   "id": "38a70340",
   "metadata": {},
   "outputs": [
    {
     "name": "stdout",
     "output_type": "stream",
     "text": [
      "NumPy Array:\n",
      " ['Love' 800 'Joy' 789.9 'Peace' True]\n"
     ]
    }
   ],
   "source": [
    "# 4.Write a Pandas program to convert a given series to an array.\n",
    "# Sample series: [‘Love’, 800, ‘Joy’, 789.9, ‘Peace’, True]\n",
    "\n",
    "import numpy as np\n",
    "\n",
    "series = pd.Series(['Love', 800, 'Joy', 789.9, 'Peace', True])\n",
    "# Convert the Series to a NumPy array\n",
    "array = series.to_numpy()\n",
    "print(\"NumPy Array:\\n\", array)"
   ]
  },
  {
   "cell_type": "code",
   "execution_count": 12,
   "id": "40285037",
   "metadata": {},
   "outputs": [
    {
     "name": "stdout",
     "output_type": "stream",
     "text": [
      "Most Frequent Value:\n",
      " A\n",
      "Series after Replacement:\n",
      " 0        A\n",
      "1    Other\n",
      "2        A\n",
      "3    Other\n",
      "4    Other\n",
      "5        A\n",
      "6    Other\n",
      "7    Other\n",
      "dtype: object\n"
     ]
    }
   ],
   "source": [
    "# 5.Write a Pandas program to display the most frequent value in the given series and replace everything else as ‘Other’ in the series. \n",
    "# (Use the ‘HomeTeamGoals’ column in the dataset provided)\n",
    "\n",
    "series = pd.Series(['A', 'B', 'A', 'C', 'B', 'A', 'D', 'C'])\n",
    "most_frequent = series.mode()[0]\n",
    "print(\"Most Frequent Value:\\n\", most_frequent)\n",
    "series_replaced = series.where(series == most_frequent, other='Other')\n",
    "print(\"Series after Replacement:\\n\", series_replaced)"
   ]
  }
 ],
 "metadata": {
  "kernelspec": {
   "display_name": ".venv",
   "language": "python",
   "name": "python3"
  },
  "language_info": {
   "codemirror_mode": {
    "name": "ipython",
    "version": 3
   },
   "file_extension": ".py",
   "mimetype": "text/x-python",
   "name": "python",
   "nbconvert_exporter": "python",
   "pygments_lexer": "ipython3",
   "version": "3.12.0"
  }
 },
 "nbformat": 4,
 "nbformat_minor": 5
}
