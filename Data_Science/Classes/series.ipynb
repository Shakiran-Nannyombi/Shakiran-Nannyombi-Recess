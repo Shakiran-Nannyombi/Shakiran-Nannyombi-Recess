{
 "cells": [
  {
   "cell_type": "markdown",
   "id": "df40863b",
   "metadata": {},
   "source": [
    "Pandas Series is a like a single column of data \n",
    "More like one dimensional array\n",
    "Can hold data of different data types\n",
    "Each value in a series is associated with an index\n",
    "An empty series when outputted carries data of datatype float64\n",
    "\n"
   ]
  },
  {
   "cell_type": "code",
   "execution_count": 22,
   "id": "559d2e40",
   "metadata": {},
   "outputs": [
    {
     "name": "stdout",
     "output_type": "stream",
     "text": [
      "Series([], dtype: object)\n",
      "<class 'pandas.core.series.Series'>\n"
     ]
    }
   ],
   "source": [
    "import pandas as pd\n",
    "\n",
    "ser = pd.Series()\n",
    "print(ser)\n",
    "print(type(ser))"
   ]
  },
  {
   "cell_type": "code",
   "execution_count": 23,
   "id": "a79be639",
   "metadata": {},
   "outputs": [
    {
     "name": "stdout",
     "output_type": "stream",
     "text": [
      "0    a\n",
      "1    b\n",
      "2    c\n",
      "3    d\n",
      "4    e\n",
      "5    f\n",
      "dtype: object\n"
     ]
    }
   ],
   "source": [
    "import numpy as np\n",
    "\n",
    "# Creating a Series with numpy array\n",
    "data = np.array(['a', 'b', 'c', 'd', 'e', 'f'])\n",
    "ser = pd.Series(data)\n",
    "print(ser)"
   ]
  },
  {
   "cell_type": "code",
   "execution_count": 24,
   "id": "f84a703d",
   "metadata": {},
   "outputs": [
    {
     "name": "stdout",
     "output_type": "stream",
     "text": [
      "0      Agnes\n",
      "1        Bob\n",
      "2    Charlie\n",
      "3      David\n",
      "4        Eve\n",
      "dtype: object\n"
     ]
    }
   ],
   "source": [
    "# Creating a Series with a list\n",
    "data1 = ['Agnes', 'Bob', 'Charlie', 'David', 'Eve']\n",
    "ser1 = pd.Series(data1)\n",
    "print(ser1)"
   ]
  },
  {
   "cell_type": "code",
   "execution_count": 25,
   "id": "f6ac75db",
   "metadata": {},
   "outputs": [
    {
     "name": "stdout",
     "output_type": "stream",
     "text": [
      "Age                         [25, 30, 35, 40, 45]\n",
      "Name           [Alice, Bob, Charlie, David, Eve]\n",
      "country    [USA, Canada, UK, Australia, Germany]\n",
      "dtype: object\n"
     ]
    }
   ],
   "source": [
    "# Creating a series with a dictionary\n",
    "data2 = { 'Age': [25, 30, 35, 40, 45],\n",
    "           'Name': ['Alice', 'Bob', 'Charlie', 'David', 'Eve'],\n",
    "           'country': ['USA', 'Canada', 'UK', 'Australia', 'Germany']\n",
    "}\n",
    "ser2 = pd.Series(data2)\n",
    "print(ser2)"
   ]
  },
  {
   "cell_type": "code",
   "execution_count": 26,
   "id": "4a3d5891",
   "metadata": {},
   "outputs": [
    {
     "name": "stdout",
     "output_type": "stream",
     "text": [
      "0     5\n",
      "1     6\n",
      "2     7\n",
      "3     8\n",
      "4     9\n",
      "5    10\n",
      "6    11\n",
      "7    12\n",
      "8    13\n",
      "9    14\n",
      "dtype: int64\n"
     ]
    }
   ],
   "source": [
    "# Some functions to explore Series\n",
    "# Range() function\n",
    "\n",
    "ser3 = pd.Series(range(5,15))\n",
    "print(ser3)\n"
   ]
  },
  {
   "cell_type": "code",
   "execution_count": 36,
   "id": "239b13bd",
   "metadata": {},
   "outputs": [
    {
     "name": "stdout",
     "output_type": "stream",
     "text": [
      "0     1.00\n",
      "1     3.25\n",
      "2     5.50\n",
      "3     7.75\n",
      "4    10.00\n",
      "dtype: float64\n",
      "0    1.0\n",
      "1    2.8\n",
      "2    4.6\n",
      "3    6.4\n",
      "4    8.2\n",
      "dtype: float64\n"
     ]
    }
   ],
   "source": [
    "# numpy.linespace() function\n",
    "\n",
    "# np.linspace(1, 10, 5) generates 5 evenly spaced numbers between 1 and 10 (inclusive).\n",
    "# pd.Series(...) converts this numpy array into a pandas Series.\n",
    "ser4 = pd.Series(np.linspace(1, 10, 5))\n",
    "print(ser4)\n",
    "\n",
    "Ser4 = pd.Series(np.linspace(1, 10, 5, endpoint=False))\n",
    "print(Ser4)"
   ]
  }
 ],
 "metadata": {
  "kernelspec": {
   "display_name": ".venv",
   "language": "python",
   "name": "python3"
  },
  "language_info": {
   "codemirror_mode": {
    "name": "ipython",
    "version": 3
   },
   "file_extension": ".py",
   "mimetype": "text/x-python",
   "name": "python",
   "nbconvert_exporter": "python",
   "pygments_lexer": "ipython3",
   "version": "3.12.3"
  }
 },
 "nbformat": 4,
 "nbformat_minor": 5
}
