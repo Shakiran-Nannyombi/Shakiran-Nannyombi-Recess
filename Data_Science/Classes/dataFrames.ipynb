{
 "cells": [
  {
   "cell_type": "code",
   "execution_count": 15,
   "id": "85e2e46c",
   "metadata": {},
   "outputs": [
    {
     "name": "stdout",
     "output_type": "stream",
     "text": [
      "              Year  HomeTeamGoals  AwayTeamGoals     Attendance\n",
      "count   622.000000     618.000000     618.000000     522.000000\n",
      "mean   1995.604502       1.576052       0.889968   22393.683908\n",
      "std      16.186748       1.245365       1.059432   22424.787471\n",
      "min    1957.000000       0.000000       0.000000     180.000000\n",
      "25%    1982.000000       1.000000       0.000000    6000.000000\n",
      "50%    1998.000000       1.000000       1.000000   14875.000000\n",
      "75%    2008.000000       2.000000       1.000000   31917.500000\n",
      "max    2019.000000       6.000000      11.000000  120000.000000\n"
     ]
    }
   ],
   "source": [
    "import pandas as pd\n",
    "import numpy as np\n",
    "\n",
    "df = pd.read_csv('files/AfricaCupofNationsMatches.csv')\n",
    "print(df.describe())"
   ]
  },
  {
   "cell_type": "code",
   "execution_count": 16,
   "id": "166b1fad",
   "metadata": {},
   "outputs": [
    {
     "name": "stdout",
     "output_type": "stream",
     "text": [
      "   Year      Date  Time    HomeTeam       AwayTeam  HomeTeamGoals  \\\n",
      "0  1957  10-Feb-57   NaN     Sudan           Egypt            1.0   \n",
      "1  1957  10-Feb-57   NaN  Ethiopia    South Africa            NaN   \n",
      "2  1957  16-Feb-57   NaN     Egypt        Ethiopia            4.0   \n",
      "3  1959  22-May-59   NaN      Egypt       Ethiopia            4.0   \n",
      "4  1959  25-May-59   NaN     Sudan        Ethiopia            1.0   \n",
      "5  1959  29-May-59   NaN      Egypt          Sudan            2.0   \n",
      "6  1962  14-Jan-62   NaN  Ethiopia         Tunisia            4.0   \n",
      "\n",
      "   AwayTeamGoals             Stage  \\\n",
      "0            2.0        Semifinals   \n",
      "1            NaN        Semifinals   \n",
      "2            0.0             Final   \n",
      "3            0.0  Final Tournament   \n",
      "4            0.0  Final Tournament   \n",
      "5            1.0  Final Tournament   \n",
      "6            2.0        Semifinals   \n",
      "\n",
      "                                SpecialWinConditions                 Stadium  \\\n",
      "0                                                NaN       Municipal Stadium   \n",
      "1  Ethiopia  wins due to disqualification of othe...                     NaN   \n",
      "2                                                NaN       Municipal Stadium   \n",
      "3                                                NaN   Prince Farouk Stadium   \n",
      "4                                                NaN   Prince Farouk Stadium   \n",
      "5                                                NaN   Prince Farouk Stadium   \n",
      "6                                                NaN  Hailé Sélassié Stadium   \n",
      "\n",
      "           City  Attendance  \n",
      "0      Khartoum     30000.0  \n",
      "1           NaN         NaN  \n",
      "2      Khartoum     30000.0  \n",
      "3         Cairo     30000.0  \n",
      "4         Cairo     20000.0  \n",
      "5         Cairo     30000.0  \n",
      "6   Addis Ababa     30000.0  \n"
     ]
    }
   ],
   "source": [
    "print(df.head(7))"
   ]
  },
  {
   "cell_type": "code",
   "execution_count": 17,
   "id": "fcc6e60f",
   "metadata": {},
   "outputs": [
    {
     "name": "stdout",
     "output_type": "stream",
     "text": [
      "    HomeTeam       AwayTeam  HomeTeamGoals  AwayTeamGoals\n",
      "0     Sudan           Egypt            1.0            2.0\n",
      "1  Ethiopia    South Africa            NaN            NaN\n",
      "2     Egypt        Ethiopia            4.0            0.0\n",
      "3      Egypt       Ethiopia            4.0            0.0\n",
      "4     Sudan        Ethiopia            1.0            0.0\n"
     ]
    }
   ],
   "source": [
    "#3.Write a Pandas program to select the ‘HomeTeam’, ‘AwayTeam’, ‘HomeTeamGoals’ and ‘AwayTeamGoals’ columns from your data frame.\n",
    "selected_columns = df[['HomeTeam', 'AwayTeam', 'HomeTeamGoals', 'AwayTeamGoals']]\n",
    "print(selected_columns.head())"
   ]
  },
  {
   "cell_type": "code",
   "execution_count": 18,
   "id": "b55288e3",
   "metadata": {},
   "outputs": [
    {
     "name": "stdout",
     "output_type": "stream",
     "text": [
      "    Year      Date  Time    HomeTeam   AwayTeam  HomeTeamGoals  AwayTeamGoals  \\\n",
      "3   1959  22-May-59   NaN      Egypt   Ethiopia            4.0            0.0   \n",
      "5   1959  29-May-59   NaN      Egypt      Sudan            2.0            1.0   \n",
      "7   1962  18-Jan-62   NaN      Egypt     Uganda            2.0            1.0   \n",
      "9   1962  21-Jan-62   NaN  Ethiopia       Egypt            4.0            2.0   \n",
      "13  1963  24-Nov-63   NaN      Egypt    Nigeria            6.0            3.0   \n",
      "14  1963  26-Nov-63   NaN      Egypt      Sudan            2.0            2.0   \n",
      "16  1963  30-Nov-63   NaN      Egypt   Ethiopia            3.0            0.0   \n",
      "\n",
      "                Stage    SpecialWinConditions                 Stadium  \\\n",
      "3    Final Tournament                     NaN   Prince Farouk Stadium   \n",
      "5    Final Tournament                     NaN   Prince Farouk Stadium   \n",
      "7          Semifinals                     NaN  Hailé Sélassié Stadium   \n",
      "9               Final   win after extra time   Hailé Sélassié Stadium   \n",
      "13            Group B                     NaN   Kumasi Sports Stadium   \n",
      "14            Group B                     NaN   Kumasi Sports Stadium   \n",
      "16  Third place match                     NaN    Accra Sports Stadium   \n",
      "\n",
      "            City  Attendance  \n",
      "3          Cairo     30000.0  \n",
      "5          Cairo     30000.0  \n",
      "7    Addis Ababa     30000.0  \n",
      "9    Addis Ababa         NaN  \n",
      "13        Kumasi         NaN  \n",
      "14        Kumasi         NaN  \n",
      "16         Accra         NaN  \n"
     ]
    }
   ],
   "source": [
    "#4.Write a Pandas program to select the rows where Egypt appears.\n",
    "egypt_matches = df[(df['HomeTeam'] == 'Egypt') | (df['AwayTeam'] == 'Egypt')]\n",
    "print(egypt_matches)"
   ]
  },
  {
   "cell_type": "code",
   "execution_count": 21,
   "id": "cc82ba6f",
   "metadata": {},
   "outputs": [
    {
     "name": "stdout",
     "output_type": "stream",
     "text": [
      "Number of rows: 622\n",
      "Number of columns: 12\n"
     ]
    }
   ],
   "source": [
    "# 5.Write a Pandas program to count the number of rows and columns of your data frame.\n",
    "rows, columns = df.shape\n",
    "print(\"Number of rows:\", rows)\n",
    "print(\"Number of columns:\", columns)"
   ]
  },
  {
   "cell_type": "code",
   "execution_count": 22,
   "id": "472aa5b0",
   "metadata": {},
   "outputs": [
    {
     "name": "stdout",
     "output_type": "stream",
     "text": [
      "     Year Date  Time  HomeTeam AwayTeam  HomeTeamGoals  AwayTeamGoals Stage  \\\n",
      "622   NaN   NaN   NaN   Team A   Team C            1.0            0.0   NaN   \n",
      "623   NaN   NaN   NaN   Team B   Team D            2.0            1.0   NaN   \n",
      "\n",
      "    SpecialWinConditions Stadium City  Attendance  \n",
      "622                  NaN     NaN  NaN         NaN  \n",
      "623                  NaN     NaN  NaN         NaN  \n"
     ]
    }
   ],
   "source": [
    "# 12.Write a Pandas program to add 2 rows to your DataFrame.\n",
    "new_rows = pd.DataFrame({\n",
    "    'HomeTeam': ['Team A', 'Team B'],\n",
    "    'AwayTeam': ['Team C', 'Team D'],\n",
    "    'HomeTeamGoals': [1, 2],\n",
    "    'AwayTeamGoals': [0, 1]\n",
    "})\n",
    "df = pd.concat([df, new_rows], ignore_index=True)\n",
    "print(df.tail(2))"
   ]
  }
 ],
 "metadata": {
  "kernelspec": {
   "display_name": ".venv",
   "language": "python",
   "name": "python3"
  },
  "language_info": {
   "codemirror_mode": {
    "name": "ipython",
    "version": 3
   },
   "file_extension": ".py",
   "mimetype": "text/x-python",
   "name": "python",
   "nbconvert_exporter": "python",
   "pygments_lexer": "ipython3",
   "version": "3.13.1"
  }
 },
 "nbformat": 4,
 "nbformat_minor": 5
}
