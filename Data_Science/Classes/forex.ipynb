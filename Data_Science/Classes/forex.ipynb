{
 "cells": [
  {
   "cell_type": "markdown",
   "id": "e5e3a90a",
   "metadata": {},
   "source": [
    "## Forex Predictions Data Analysis\n",
    "'''\n",
    "Objective\n",
    "The objective of this analysis is to:\n",
    "\n",
    "- Clean and preprocess the forex prediction dataset to handle missing, incorrect, and duplicate data\n",
    "\n",
    "- Analyze the relationship between actual and predicted forex prices\n",
    "\n",
    "- Evaluate the performance of trading signals (Buy/Sell/Hold) based on prediction accuracy\n",
    "\n",
    "- Identify patterns and correlations in the EUR/USD exchange rate movements\n",
    "\n",
    "'''"
   ]
  },
  {
   "cell_type": "code",
   "execution_count": 59,
   "id": "d01a0303",
   "metadata": {},
   "outputs": [],
   "source": [
    "# Importing Libraries\n",
    "import pandas as pd\n",
    "import numpy as np\n",
    "import matplotlib.pyplot as plt\n",
    "import seaborn as sns\n",
    "from datetime import datetime"
   ]
  },
  {
   "cell_type": "code",
   "execution_count": 60,
   "id": "50d52185",
   "metadata": {},
   "outputs": [
    {
     "name": "stdout",
     "output_type": "stream",
     "text": [
      "         Date     Open     High      Low    Close Volume  Predicted_Close  \\\n",
      "0  2024-01-01  1.18727  1.92461  0.85312  1.18154   2201          1.22984   \n",
      "1  2024-01-02  1.47536  1.82881  0.54067  1.32296  error          1.03797   \n",
      "2  2024-01-03  1.36600  1.78415  0.54242  1.28539   4420          1.03888   \n",
      "3  2024-01-04  1.29933  1.54684  0.99332  1.17805   4079          1.00117   \n",
      "4  2024-01-05  1.07801  1.68386  0.68714      NaN   1832          1.48385   \n",
      "\n",
      "  Currency_Pair Signal  Confidence  \n",
      "0       EUR/USD   Hold        0.90  \n",
      "1       EUR/USD   Sell         NaN  \n",
      "2       EUR/USD   Sell         NaN  \n",
      "3       EUR/USD   Sell        0.64  \n",
      "4       EUR/USD   Sell        0.68  \n"
     ]
    }
   ],
   "source": [
    "# Data Preprocessing\n",
    "# Loading and Inspecting the Dataset\n",
    "# Load the dataset\n",
    "df = pd.read_csv('files/forex_predictions_data.csv')\n",
    "\n",
    "# Initial inspection\n",
    "\n",
    "print(df.head(5))\n"
   ]
  },
  {
   "cell_type": "code",
   "execution_count": 61,
   "id": "573760d7",
   "metadata": {},
   "outputs": [
    {
     "name": "stdout",
     "output_type": "stream",
     "text": [
      "<class 'pandas.core.frame.DataFrame'>\n",
      "RangeIndex: 229 entries, 0 to 228\n",
      "Data columns (total 10 columns):\n",
      " #   Column           Non-Null Count  Dtype  \n",
      "---  ------           --------------  -----  \n",
      " 0   Date             226 non-null    object \n",
      " 1   Open             224 non-null    float64\n",
      " 2   High             220 non-null    float64\n",
      " 3   Low              225 non-null    float64\n",
      " 4   Close            212 non-null    float64\n",
      " 5   Volume           226 non-null    object \n",
      " 6   Predicted_Close  222 non-null    float64\n",
      " 7   Currency_Pair    229 non-null    object \n",
      " 8   Signal           227 non-null    object \n",
      " 9   Confidence       218 non-null    float64\n",
      "dtypes: float64(6), object(4)\n",
      "memory usage: 18.0+ KB\n"
     ]
    }
   ],
   "source": [
    "df.info()"
   ]
  },
  {
   "cell_type": "code",
   "execution_count": 62,
   "id": "5e0e55ab",
   "metadata": {},
   "outputs": [
    {
     "data": {
      "text/html": [
       "<div>\n",
       "<style scoped>\n",
       "    .dataframe tbody tr th:only-of-type {\n",
       "        vertical-align: middle;\n",
       "    }\n",
       "\n",
       "    .dataframe tbody tr th {\n",
       "        vertical-align: top;\n",
       "    }\n",
       "\n",
       "    .dataframe thead th {\n",
       "        text-align: right;\n",
       "    }\n",
       "</style>\n",
       "<table border=\"1\" class=\"dataframe\">\n",
       "  <thead>\n",
       "    <tr style=\"text-align: right;\">\n",
       "      <th></th>\n",
       "      <th>Open</th>\n",
       "      <th>High</th>\n",
       "      <th>Low</th>\n",
       "      <th>Close</th>\n",
       "      <th>Predicted_Close</th>\n",
       "      <th>Confidence</th>\n",
       "    </tr>\n",
       "  </thead>\n",
       "  <tbody>\n",
       "    <tr>\n",
       "      <th>count</th>\n",
       "      <td>224.000000</td>\n",
       "      <td>220.000000</td>\n",
       "      <td>225.000000</td>\n",
       "      <td>212.000000</td>\n",
       "      <td>222.000000</td>\n",
       "      <td>218.000000</td>\n",
       "    </tr>\n",
       "    <tr>\n",
       "      <th>mean</th>\n",
       "      <td>1.239946</td>\n",
       "      <td>1.753113</td>\n",
       "      <td>0.750030</td>\n",
       "      <td>1.245072</td>\n",
       "      <td>1.250415</td>\n",
       "      <td>0.756468</td>\n",
       "    </tr>\n",
       "    <tr>\n",
       "      <th>std</th>\n",
       "      <td>0.148956</td>\n",
       "      <td>0.147816</td>\n",
       "      <td>0.150434</td>\n",
       "      <td>0.140594</td>\n",
       "      <td>0.156102</td>\n",
       "      <td>0.135125</td>\n",
       "    </tr>\n",
       "    <tr>\n",
       "      <th>min</th>\n",
       "      <td>1.002530</td>\n",
       "      <td>1.505420</td>\n",
       "      <td>0.505680</td>\n",
       "      <td>1.002320</td>\n",
       "      <td>1.000120</td>\n",
       "      <td>0.500000</td>\n",
       "    </tr>\n",
       "    <tr>\n",
       "      <th>25%</th>\n",
       "      <td>1.111860</td>\n",
       "      <td>1.638832</td>\n",
       "      <td>0.614320</td>\n",
       "      <td>1.122535</td>\n",
       "      <td>1.115280</td>\n",
       "      <td>0.652500</td>\n",
       "    </tr>\n",
       "    <tr>\n",
       "      <th>50%</th>\n",
       "      <td>1.248105</td>\n",
       "      <td>1.763400</td>\n",
       "      <td>0.746310</td>\n",
       "      <td>1.235910</td>\n",
       "      <td>1.259605</td>\n",
       "      <td>0.760000</td>\n",
       "    </tr>\n",
       "    <tr>\n",
       "      <th>75%</th>\n",
       "      <td>1.365100</td>\n",
       "      <td>1.877682</td>\n",
       "      <td>0.877570</td>\n",
       "      <td>1.368805</td>\n",
       "      <td>1.392158</td>\n",
       "      <td>0.870000</td>\n",
       "    </tr>\n",
       "    <tr>\n",
       "      <th>max</th>\n",
       "      <td>1.493440</td>\n",
       "      <td>1.995250</td>\n",
       "      <td>0.999860</td>\n",
       "      <td>1.498440</td>\n",
       "      <td>1.499680</td>\n",
       "      <td>1.000000</td>\n",
       "    </tr>\n",
       "  </tbody>\n",
       "</table>\n",
       "</div>"
      ],
      "text/plain": [
       "             Open        High         Low       Close  Predicted_Close  \\\n",
       "count  224.000000  220.000000  225.000000  212.000000       222.000000   \n",
       "mean     1.239946    1.753113    0.750030    1.245072         1.250415   \n",
       "std      0.148956    0.147816    0.150434    0.140594         0.156102   \n",
       "min      1.002530    1.505420    0.505680    1.002320         1.000120   \n",
       "25%      1.111860    1.638832    0.614320    1.122535         1.115280   \n",
       "50%      1.248105    1.763400    0.746310    1.235910         1.259605   \n",
       "75%      1.365100    1.877682    0.877570    1.368805         1.392158   \n",
       "max      1.493440    1.995250    0.999860    1.498440         1.499680   \n",
       "\n",
       "       Confidence  \n",
       "count  218.000000  \n",
       "mean     0.756468  \n",
       "std      0.135125  \n",
       "min      0.500000  \n",
       "25%      0.652500  \n",
       "50%      0.760000  \n",
       "75%      0.870000  \n",
       "max      1.000000  "
      ]
     },
     "execution_count": 62,
     "metadata": {},
     "output_type": "execute_result"
    }
   ],
   "source": [
    "# Descriptive statistics \n",
    "df.describe()"
   ]
  },
  {
   "cell_type": "code",
   "execution_count": 63,
   "id": "9518156c",
   "metadata": {},
   "outputs": [
    {
     "name": "stdout",
     "output_type": "stream",
     "text": [
      "Date                3\n",
      "Open                5\n",
      "High                9\n",
      "Low                 4\n",
      "Close              17\n",
      "Volume              3\n",
      "Predicted_Close     7\n",
      "Currency_Pair       0\n",
      "Signal              2\n",
      "Confidence         11\n",
      "dtype: int64\n"
     ]
    }
   ],
   "source": [
    "# Check for empty values\n",
    "print(df.isnull().sum())"
   ]
  },
  {
   "cell_type": "code",
   "execution_count": 64,
   "id": "498e20b2",
   "metadata": {},
   "outputs": [],
   "source": [
    "# Handle missing values\n",
    "# For numerical columns, fill with mean or median\n",
    "numeric_cols = ['Open', 'High', 'Low', 'Close', 'Volume', 'Predicted_Close', 'Confidence']\n",
    "for col in numeric_cols:\n",
    "    if col in df.columns:\n",
    "        df[col] = pd.to_numeric(df[col], errors='coerce')  # Convert to numeric, coerce errors to NaN\n",
    "        df[col] = df[col].fillna(df[col].median())\n",
    "\n",
    "# For categorical columns, fill with mode\n",
    "categorical_cols = ['Signal']\n",
    "for col in categorical_cols:\n",
    "    if col in df.columns:\n",
    "        df[col] = df[col].fillna(df[col].mode()[0])\n"
   ]
  },
  {
   "cell_type": "code",
   "execution_count": 65,
   "id": "2097f0f1",
   "metadata": {},
   "outputs": [
    {
     "name": "stdout",
     "output_type": "stream",
     "text": [
      "Date               3\n",
      "Open               0\n",
      "High               0\n",
      "Low                0\n",
      "Close              0\n",
      "Volume             0\n",
      "Predicted_Close    0\n",
      "Currency_Pair      0\n",
      "Signal             0\n",
      "Confidence         0\n",
      "dtype: int64\n"
     ]
    }
   ],
   "source": [
    "# Check for missing values\n",
    "print(df.isnull().sum())"
   ]
  },
  {
   "cell_type": "code",
   "execution_count": 66,
   "id": "b56198a7",
   "metadata": {},
   "outputs": [],
   "source": [
    "# Data in Wrong Format\n",
    "# Convert Date to datetime\n",
    "df['Date'] = pd.to_datetime(df['Date'], format='fixed', errors='coerce')\n",
    "\n",
    "# Drop rows where Date could not be converted (still NaT)\n",
    "df = df.dropna(subset=['Date'])\n",
    "\n",
    "# Handle Volume column with 'error' values\n",
    "df['Volume'] = pd.to_numeric(df['Volume'], errors='coerce')\n",
    "df['Volume'] = df['Volume'].fillna(df['Volume'].median())\n",
    "\n",
    "# Clean Confidence column\n",
    "df['Confidence'] = pd.to_numeric(df['Confidence'], errors='coerce')\n",
    "df['Confidence'] = df['Confidence'].fillna(df['Confidence'].median())"
   ]
  },
  {
   "cell_type": "code",
   "execution_count": 67,
   "id": "d4e9eb17",
   "metadata": {},
   "outputs": [
    {
     "name": "stdout",
     "output_type": "stream",
     "text": [
      "Date               0\n",
      "Open               0\n",
      "High               0\n",
      "Low                0\n",
      "Close              0\n",
      "Volume             0\n",
      "Predicted_Close    0\n",
      "Currency_Pair      0\n",
      "Signal             0\n",
      "Confidence         0\n",
      "dtype: int64\n"
     ]
    }
   ],
   "source": [
    "# Check for missing values\n",
    "print(df.isnull().sum())"
   ]
  },
  {
   "cell_type": "code",
   "execution_count": 68,
   "id": "eb6d2d83",
   "metadata": {},
   "outputs": [
    {
     "name": "stdout",
     "output_type": "stream",
     "text": [
      "Number of duplicates: 0\n",
      "Duplicate dates: 0\n"
     ]
    }
   ],
   "source": [
    "# Duplicates\n",
    "# Check for duplicate rows\n",
    "print(f\"Number of duplicates: {df.duplicated().sum()}\")\n",
    "\n",
    "# Remove duplicates\n",
    "df = df.drop_duplicates()\n",
    "\n",
    "# Check for duplicate dates (should be unique)\n",
    "print(f\"Duplicate dates: {df['Date'].duplicated().sum()}\")\n",
    "df = df.drop_duplicates(subset=['Date'], keep='first')"
   ]
  },
  {
   "cell_type": "code",
   "execution_count": 69,
   "id": "ad829148",
   "metadata": {},
   "outputs": [
    {
     "name": "stdout",
     "output_type": "stream",
     "text": [
      "<class 'pandas.core.frame.DataFrame'>\n",
      "Index: 0 entries\n",
      "Data columns (total 10 columns):\n",
      " #   Column           Non-Null Count  Dtype         \n",
      "---  ------           --------------  -----         \n",
      " 0   Date             0 non-null      datetime64[ns]\n",
      " 1   Open             0 non-null      float64       \n",
      " 2   High             0 non-null      float64       \n",
      " 3   Low              0 non-null      float64       \n",
      " 4   Close            0 non-null      float64       \n",
      " 5   Volume           0 non-null      float64       \n",
      " 6   Predicted_Close  0 non-null      float64       \n",
      " 7   Currency_Pair    0 non-null      object        \n",
      " 8   Signal           0 non-null      object        \n",
      " 9   Confidence       0 non-null      float64       \n",
      "dtypes: datetime64[ns](1), float64(7), object(2)\n",
      "memory usage: 0.0+ bytes\n",
      "None\n",
      "Date               0\n",
      "Open               0\n",
      "High               0\n",
      "Low                0\n",
      "Close              0\n",
      "Volume             0\n",
      "Predicted_Close    0\n",
      "Currency_Pair      0\n",
      "Signal             0\n",
      "Confidence         0\n",
      "dtype: int64\n"
     ]
    }
   ],
   "source": [
    "print(df.info())\n",
    "print(df.isnull().sum())"
   ]
  },
  {
   "cell_type": "code",
   "execution_count": 71,
   "id": "13877daf",
   "metadata": {},
   "outputs": [
    {
     "name": "stderr",
     "output_type": "stream",
     "text": [
      "c:\\Users\\shaki\\Recess\\.venv\\Lib\\site-packages\\seaborn\\matrix.py:202: RuntimeWarning: All-NaN slice encountered\n",
      "  vmin = np.nanmin(calc_data)\n",
      "c:\\Users\\shaki\\Recess\\.venv\\Lib\\site-packages\\seaborn\\matrix.py:207: RuntimeWarning: All-NaN slice encountered\n",
      "  vmax = np.nanmax(calc_data)\n"
     ]
    },
    {
     "data": {
      "image/png": "[encoded data removed]",
      "text/plain": [
       "<Figure size 1000x800 with 2 Axes>"
      ]
     },
     "metadata": {},
     "output_type": "display_data"
    }
   ],
   "source": [
    "# Analysis.venv/Lib/site-packages/seaborn/matrix.py:202\n",
    "# Correlation Analysis\n",
    "# Calculate correlations\n",
    "corr_matrix = df[['Open', 'High', 'Low', 'Close', 'Predicted_Close', 'Volume', 'Confidence']].corr()\n",
    "\n",
    "# Plot correlation heatmap\n",
    "plt.figure(figsize=(10, 8))\n",
    "sns.heatmap(corr_matrix, annot=True, cmap='coolwarm', center=0)\n",
    "plt.title('Correlation Matrix')\n",
    "plt.show()"
   ]
  }
 ],
 "metadata": {
  "kernelspec": {
   "display_name": ".venv",
   "language": "python",
   "name": "python3"
  },
  "language_info": {
   "codemirror_mode": {
    "name": "ipython",
    "version": 3
   },
   "file_extension": ".py",
   "mimetype": "text/x-python",
   "name": "python",
   "nbconvert_exporter": "python",
   "pygments_lexer": "ipython3",
   "version": "3.13.1"
  }
 },
 "nbformat": 4,
 "nbformat_minor": 5
}
