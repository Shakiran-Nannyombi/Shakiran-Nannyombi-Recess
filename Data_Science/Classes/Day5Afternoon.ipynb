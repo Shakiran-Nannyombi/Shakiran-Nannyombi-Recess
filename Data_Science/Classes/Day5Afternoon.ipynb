{
 "cells": [
  {
   "cell_type": "code",
   "execution_count": 1,
   "id": "0bf5665d",
   "metadata": {},
   "outputs": [
    {
     "name": "stdout",
     "output_type": "stream",
     "text": [
      "Matplotlib version: 3.10.3\n"
     ]
    }
   ],
   "source": [
    "import matplotlib as plt\n",
    "\n",
    "print(\"Matplotlib version:\", plt.__version__)"
   ]
  },
  {
   "cell_type": "markdown",
   "id": "0e415928",
   "metadata": {},
   "source": [
    "## python libraries\n",
    "\n",
    "we pandas, numpy, and matplotlib\n",
    "Pandas is a library used for working with data sets.\n",
    "NumPy is a library used for numerical computations.\n",
    "Matplotlib is a library used for data visualization (graphs, plotting).\n",
    "\n",
    "Datasets store data using different formats like .csv, .json, .xlsx,......"
   ]
  },
  {
   "cell_type": "code",
   "execution_count": null,
   "id": "29457ef7",
   "metadata": {},
   "outputs": [
    {
     "name": "stdout",
     "output_type": "stream",
     "text": [
      "   Duration  Pulse  Maxpulse  Calories\n",
      "0        60    110       130     409.1\n",
      "1        60    117       145     479.0\n",
      "2        60    103       135     340.0\n",
      "3        45    109       175     282.4\n"
     ]
    }
   ],
   "source": [
    "import pandas as pd\n",
    "\n",
    "df = pd.read_csv(\"files/data.csv\")\n",
    "print(df.head(4))"
   ]
  }
 ],
 "metadata": {
  "kernelspec": {
   "display_name": ".venv",
   "language": "python",
   "name": "python3"
  },
  "language_info": {
   "codemirror_mode": {
    "name": "ipython",
    "version": 3
   },
   "file_extension": ".py",
   "mimetype": "text/x-python",
   "name": "python",
   "nbconvert_exporter": "python",
   "pygments_lexer": "ipython3",
   "version": "3.12.0"
  }
 },
 "nbformat": 4,
 "nbformat_minor": 5
}
