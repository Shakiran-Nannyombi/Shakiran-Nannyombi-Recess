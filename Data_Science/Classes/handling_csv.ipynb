{
 "cells": [
  {
   "cell_type": "code",
   "execution_count": null,
   "id": "e26dc0ae",
   "metadata": {},
   "outputs": [],
   "source": [
    "# Handling CSV files with Python's built-in csv module\n",
    "# what is a CSV file?\n",
    "# CSV stands for Comma Separated Values"
   ]
  },
  {
   "cell_type": "code",
   "execution_count": null,
   "id": "506dbfef",
   "metadata": {},
   "outputs": [],
   "source": [
    "# read CSV file\n",
    "# pandas\n",
    "# Numpy\n"
   ]
  },
  {
   "cell_type": "code",
   "execution_count": 2,
   "id": "92fcf0cc",
   "metadata": {},
   "outputs": [
    {
     "name": "stdout",
     "output_type": "stream",
     "text": [
      "   Duration  Pulse  Maxpulse  Calories\n",
      "0        60    110       130     409.1\n",
      "1        60    117       145     479.0\n",
      "2        60    103       135     340.0\n",
      "3        45    109       175     282.4\n",
      "4        45    117       148     406.0\n"
     ]
    }
   ],
   "source": [
    "import pandas as pd\n",
    "\n",
    "# read CSV file using pandas\n",
    "df = pd.read_csv('files/data.csv')\n",
    "# print the first 5 rows of the dataframe\n",
    "print(df.head())"
   ]
  }
 ],
 "metadata": {
  "kernelspec": {
   "display_name": ".venv",
   "language": "python",
   "name": "python3"
  },
  "language_info": {
   "codemirror_mode": {
    "name": "ipython",
    "version": 3
   },
   "file_extension": ".py",
   "mimetype": "text/x-python",
   "name": "python",
   "nbconvert_exporter": "python",
   "pygments_lexer": "ipython3",
   "version": "3.13.1"
  }
 },
 "nbformat": 4,
 "nbformat_minor": 5
}
