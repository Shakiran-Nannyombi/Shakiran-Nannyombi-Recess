{
 "cells": [
  {
   "cell_type": "markdown",
   "id": "e81a165b",
   "metadata": {},
   "source": [
    "train a RL agent to navigate to cross the road with action right, left, right"
   ]
  }
 ],
 "metadata": {
  "language_info": {
   "name": "python"
  }
 },
 "nbformat": 4,
 "nbformat_minor": 5
}
