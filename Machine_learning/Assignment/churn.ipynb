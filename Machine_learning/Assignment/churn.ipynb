{
 "cells": [
  {
   "cell_type": "markdown",
   "id": "f48a3279",
   "metadata": {},
   "source": [
    "### Data cleaning\n",
    "\n",
    "Objectives\n",
    "1. To clean and preprocess the customer churn dataset for analysis and modeling.\n",
    "2. To identify and handle missing values, duplicates, and inconsistent data.\n",
    "3. To encode categorical variables for machine learning algorithms.\n",
    "4. To explore the distribution of key features related to customer churn."
   ]
  },
  {
   "cell_type": "code",
   "execution_count": 78,
   "id": "b2456935",
   "metadata": {},
   "outputs": [],
   "source": [
    "import pandas as pd \n",
    "from sklearn.preprocessing import LabelEncoder\n",
    "import matplotlib.pyplot as plt\n"
   ]
  },
  {
   "cell_type": "code",
   "execution_count": 79,
   "id": "c312ebd5",
   "metadata": {},
   "outputs": [
    {
     "name": "stdout",
     "output_type": "stream",
     "text": [
      "  Customer ID  Gender  Senior Citizen Partner Dependents  tenure  \\\n",
      "0  7590-VHVEA  Female               0     Yes         No       1   \n",
      "1  7590-VHVEG  Female               0     Yes         No       1   \n",
      "2  5575-GNVDE    Male               0      No         No      34   \n",
      "3  3668-QPYBK    Male               0      No         No       2   \n",
      "4  7795-CFOCW    Male               0      No         No      45   \n",
      "\n",
      "  Phone Service    Multiple Lines Internet Service Online Security  ...  \\\n",
      "0            No  No phone service              DSL              No  ...   \n",
      "1            No  No phone service              DSL              No  ...   \n",
      "2           Yes                No              DSL             Yes  ...   \n",
      "3           Yes                No              DSL             Yes  ...   \n",
      "4            No  No phone service              DSL             Yes  ...   \n",
      "\n",
      "  Device Protection Tech Support Streaming TV Streaming Movies  \\\n",
      "0                No           No           No               No   \n",
      "1                No           No           No               No   \n",
      "2               Yes           No           No               No   \n",
      "3                No           No           No               No   \n",
      "4               Yes          Yes           No               No   \n",
      "\n",
      "         Contract Paperless Billing             Payment Method  \\\n",
      "0  Month-to-month               Yes           Electronic check   \n",
      "1  Month-to-month               Yes           Electronic check   \n",
      "2        One year                No               Mailed check   \n",
      "3  Month-to-month               Yes               Mailed check   \n",
      "4        One year                No  Bank transfer (automatic)   \n",
      "\n",
      "  Monthly Charges  Total Charges Churn  \n",
      "0           29.85          29.85    No  \n",
      "1           29.85          29.85    No  \n",
      "2           56.95         1889.5    No  \n",
      "3           53.85         108.15   Yes  \n",
      "4           42.30        1840.75    No  \n",
      "\n",
      "[5 rows x 21 columns]\n"
     ]
    }
   ],
   "source": [
    "df = pd.read_csv('../files/Churn.csv')\n",
    "print(df.head(5))"
   ]
  },
  {
   "cell_type": "code",
   "execution_count": 80,
   "id": "f817d81b",
   "metadata": {},
   "outputs": [
    {
     "data": {
      "text/html": [
       "<div>\n",
       "<style scoped>\n",
       "    .dataframe tbody tr th:only-of-type {\n",
       "        vertical-align: middle;\n",
       "    }\n",
       "\n",
       "    .dataframe tbody tr th {\n",
       "        vertical-align: top;\n",
       "    }\n",
       "\n",
       "    .dataframe thead th {\n",
       "        text-align: right;\n",
       "    }\n",
       "</style>\n",
       "<table border=\"1\" class=\"dataframe\">\n",
       "  <thead>\n",
       "    <tr style=\"text-align: right;\">\n",
       "      <th></th>\n",
       "      <th>count</th>\n",
       "      <th>mean</th>\n",
       "      <th>std</th>\n",
       "      <th>min</th>\n",
       "      <th>25%</th>\n",
       "      <th>50%</th>\n",
       "      <th>75%</th>\n",
       "      <th>max</th>\n",
       "    </tr>\n",
       "  </thead>\n",
       "  <tbody>\n",
       "    <tr>\n",
       "      <th>Senior Citizen</th>\n",
       "      <td>7044.0</td>\n",
       "      <td>0.162124</td>\n",
       "      <td>0.368590</td>\n",
       "      <td>0.00</td>\n",
       "      <td>0.0</td>\n",
       "      <td>0.00</td>\n",
       "      <td>0.00</td>\n",
       "      <td>1.00</td>\n",
       "    </tr>\n",
       "    <tr>\n",
       "      <th>tenure</th>\n",
       "      <td>7044.0</td>\n",
       "      <td>32.366695</td>\n",
       "      <td>24.560582</td>\n",
       "      <td>0.00</td>\n",
       "      <td>9.0</td>\n",
       "      <td>29.00</td>\n",
       "      <td>55.00</td>\n",
       "      <td>72.00</td>\n",
       "    </tr>\n",
       "    <tr>\n",
       "      <th>Monthly Charges</th>\n",
       "      <td>7044.0</td>\n",
       "      <td>64.756736</td>\n",
       "      <td>30.090786</td>\n",
       "      <td>18.25</td>\n",
       "      <td>35.5</td>\n",
       "      <td>70.35</td>\n",
       "      <td>89.85</td>\n",
       "      <td>118.75</td>\n",
       "    </tr>\n",
       "  </tbody>\n",
       "</table>\n",
       "</div>"
      ],
      "text/plain": [
       "                  count       mean        std    min   25%    50%    75%  \\\n",
       "Senior Citizen   7044.0   0.162124   0.368590   0.00   0.0   0.00   0.00   \n",
       "tenure           7044.0  32.366695  24.560582   0.00   9.0  29.00  55.00   \n",
       "Monthly Charges  7044.0  64.756736  30.090786  18.25  35.5  70.35  89.85   \n",
       "\n",
       "                    max  \n",
       "Senior Citizen     1.00  \n",
       "tenure            72.00  \n",
       "Monthly Charges  118.75  "
      ]
     },
     "execution_count": 80,
     "metadata": {},
     "output_type": "execute_result"
    }
   ],
   "source": [
    "df.describe().T"
   ]
  },
  {
   "cell_type": "code",
   "execution_count": 81,
   "id": "f1a4d115",
   "metadata": {},
   "outputs": [
    {
     "data": {
      "text/plain": [
       "(7044, 21)"
      ]
     },
     "execution_count": 81,
     "metadata": {},
     "output_type": "execute_result"
    }
   ],
   "source": [
    "df.shape"
   ]
  },
  {
   "cell_type": "code",
   "execution_count": 82,
   "id": "8ab01f25",
   "metadata": {},
   "outputs": [
    {
     "name": "stdout",
     "output_type": "stream",
     "text": [
      "Customer ID          0\n",
      "Gender               0\n",
      "Senior Citizen       0\n",
      "Partner              0\n",
      "Dependents           0\n",
      "tenure               0\n",
      "Phone Service        0\n",
      "Multiple Lines       0\n",
      "Internet Service     0\n",
      "Online Security      0\n",
      "Online Backup        0\n",
      "Device Protection    0\n",
      "Tech Support         0\n",
      "Streaming TV         0\n",
      "Streaming Movies     0\n",
      "Contract             0\n",
      "Paperless Billing    0\n",
      "Payment Method       0\n",
      "Monthly Charges      0\n",
      "Total Charges        0\n",
      "Churn                0\n",
      "dtype: int64\n",
      "Percentage of null values in each column:\n"
     ]
    },
    {
     "data": {
      "text/plain": [
       "Customer ID          0.0\n",
       "Gender               0.0\n",
       "Senior Citizen       0.0\n",
       "Partner              0.0\n",
       "Dependents           0.0\n",
       "tenure               0.0\n",
       "Phone Service        0.0\n",
       "Multiple Lines       0.0\n",
       "Internet Service     0.0\n",
       "Online Security      0.0\n",
       "Online Backup        0.0\n",
       "Device Protection    0.0\n",
       "Tech Support         0.0\n",
       "Streaming TV         0.0\n",
       "Streaming Movies     0.0\n",
       "Contract             0.0\n",
       "Paperless Billing    0.0\n",
       "Payment Method       0.0\n",
       "Monthly Charges      0.0\n",
       "Total Charges        0.0\n",
       "Churn                0.0\n",
       "dtype: float64"
      ]
     },
     "execution_count": 82,
     "metadata": {},
     "output_type": "execute_result"
    }
   ],
   "source": [
    "# checking for null values \n",
    "print(df.isnull().sum())\n",
    "\n",
    "# Removing null values by calculating the percentage of null values in each column\n",
    "# dividing by shape means the number of rows\n",
    "print(\"Percentage of null values in each column:\")\n",
    "df.isnull().mean()*100 / df.shape[0]"
   ]
  },
  {
   "cell_type": "code",
   "execution_count": 83,
   "id": "44f8d1ee",
   "metadata": {},
   "outputs": [
    {
     "name": "stdout",
     "output_type": "stream",
     "text": [
      "Number of duplicates: 0\n"
     ]
    }
   ],
   "source": [
    "# Check for duplicate rows\n",
    "print(f\"Number of duplicates: {df.duplicated().sum()}\")"
   ]
  },
  {
   "cell_type": "code",
   "execution_count": 84,
   "id": "53bb10c6",
   "metadata": {},
   "outputs": [
    {
     "name": "stdout",
     "output_type": "stream",
     "text": [
      "Customer ID          0\n",
      "Gender               0\n",
      "Senior Citizen       0\n",
      "Partner              0\n",
      "Dependents           0\n",
      "tenure               0\n",
      "Phone Service        0\n",
      "Multiple Lines       0\n",
      "Internet Service     0\n",
      "Online Security      0\n",
      "Online Backup        0\n",
      "Device Protection    0\n",
      "Tech Support         0\n",
      "Streaming TV         0\n",
      "Streaming Movies     0\n",
      "Contract             0\n",
      "Paperless Billing    0\n",
      "Payment Method       0\n",
      "Monthly Charges      0\n",
      "Total Charges        0\n",
      "Churn                0\n",
      "dtype: int64\n"
     ]
    }
   ],
   "source": [
    "# Check for missing values\n",
    "print(df.isnull().sum())\n"
   ]
  },
  {
   "cell_type": "code",
   "execution_count": 85,
   "id": "ab5f30dd",
   "metadata": {},
   "outputs": [
    {
     "name": "stdout",
     "output_type": "stream",
     "text": [
      "Customer ID: ['7590-VHVEA' '7590-VHVEG' '5575-GNVDE' ... '4801-JZAZL' '8361-LTMKD'\n",
      " '3186-AJIEK']\n",
      "Gender: ['Female' 'Male']\n",
      "Partner: ['Yes' 'No']\n",
      "Dependents: ['No' 'Yes']\n",
      "Phone Service: ['No' 'Yes']\n",
      "Multiple Lines: ['No phone service' 'No' 'Yes']\n",
      "Internet Service: ['DSL' 'Fiber optic' 'No']\n",
      "Online Security: ['No' 'Yes' 'No internet service']\n",
      "Online Backup: ['Yes' 'No' 'No internet service']\n",
      "Device Protection: ['No' 'Yes' 'No internet service']\n",
      "Tech Support: ['No' 'Yes' 'No internet service']\n",
      "Streaming TV: ['No' 'Yes' 'No internet service']\n",
      "Streaming Movies: ['No' 'Yes' 'No internet service']\n",
      "Contract: ['Month-to-month' 'One year' 'Two year']\n",
      "Paperless Billing: ['Yes' 'No']\n",
      "Payment Method: ['Electronic check' 'Mailed check' 'Bank transfer (automatic)'\n",
      " 'Credit card (automatic)']\n",
      "Total Charges: ['29.85' '1889.5' '108.15' ... '346.45' '306.6' '6844.5']\n",
      "Churn: ['No' 'Yes']\n"
     ]
    }
   ],
   "source": [
    "# List categorical columns\n",
    "cat_cols = df.select_dtypes(include=['object']).columns\n",
    "\n",
    "# Check unique values in each categorical column\n",
    "for col in cat_cols:\n",
    "    print(f\"{col}: {df[col].unique()}\")"
   ]
  },
  {
   "cell_type": "code",
   "execution_count": 86,
   "id": "ff2dbada",
   "metadata": {},
   "outputs": [],
   "source": [
    "# Drop CustomerID (not useful for modeling)\n",
    "df = df.drop('Customer ID', axis=1)"
   ]
  },
  {
   "cell_type": "code",
   "execution_count": 87,
   "id": "475928d5",
   "metadata": {},
   "outputs": [],
   "source": [
    "# Convert Total Charges to numeric (coerce errors to NaN, then fill with 0 or median)\n",
    "df['Total Charges'] = pd.to_numeric(df['Total Charges'], errors='coerce')\n",
    "df['Total Charges'] = df['Total Charges'].fillna(0)"
   ]
  },
  {
   "cell_type": "code",
   "execution_count": 88,
   "id": "f4f2d4be",
   "metadata": {},
   "outputs": [],
   "source": [
    "# Replace 'No internet service' and 'No phone service' with 'No' in relevant columns\n",
    "replace_cols = [\n",
    "    'Multiple Lines', 'Online Security', 'Online Backup',\n",
    "    'Device Protection', 'Tech Support', 'Streaming TV', 'Streaming Movies'\n",
    "]\n",
    "for col in replace_cols:\n",
    "    df[col] = df[col].replace({'No internet service': 'No', 'No phone service': 'No'})"
   ]
  },
  {
   "cell_type": "code",
   "execution_count": 89,
   "id": "c4408ab8",
   "metadata": {},
   "outputs": [],
   "source": [
    "# Encode binary categorical columns with LabelEncoder\n",
    "le = LabelEncoder()\n",
    "binary_cols = [col for col in df.columns if df[col].nunique() == 2 and df[col].dtype == 'object']\n",
    "for col in binary_cols:\n",
    "    df[col] = le.fit_transform(df[col])"
   ]
  },
  {
   "cell_type": "code",
   "execution_count": 90,
   "id": "734c2b17",
   "metadata": {},
   "outputs": [],
   "source": [
    "# One-hot encode remaining categorical columns\n",
    "df = pd.get_dummies(df, drop_first=True) "
   ]
  },
  {
   "cell_type": "code",
   "execution_count": 91,
   "id": "7d41453e",
   "metadata": {},
   "outputs": [
    {
     "name": "stdout",
     "output_type": "stream",
     "text": [
      "   Gender  Senior Citizen  Partner  Dependents  tenure  Phone Service  \\\n",
      "0       0               0        1           0       1              0   \n",
      "1       0               0        1           0       1              0   \n",
      "2       1               0        0           0      34              1   \n",
      "3       1               0        0           0       2              1   \n",
      "4       1               0        0           0      45              0   \n",
      "\n",
      "   Multiple Lines  Online Security  Online Backup  Device Protection  ...  \\\n",
      "0               0                0              1                  0  ...   \n",
      "1               0                0              1                  0  ...   \n",
      "2               0                1              0                  1  ...   \n",
      "3               0                1              1                  0  ...   \n",
      "4               0                1              0                  1  ...   \n",
      "\n",
      "   Monthly Charges  Total Charges  Churn  Internet Service_Fiber optic  \\\n",
      "0            29.85          29.85      0                         False   \n",
      "1            29.85          29.85      0                         False   \n",
      "2            56.95        1889.50      0                         False   \n",
      "3            53.85         108.15      1                         False   \n",
      "4            42.30        1840.75      0                         False   \n",
      "\n",
      "   Internet Service_No  Contract_One year  Contract_Two year  \\\n",
      "0                False              False              False   \n",
      "1                False              False              False   \n",
      "2                False               True              False   \n",
      "3                False              False              False   \n",
      "4                False               True              False   \n",
      "\n",
      "   Payment Method_Credit card (automatic)  Payment Method_Electronic check  \\\n",
      "0                                   False                             True   \n",
      "1                                   False                             True   \n",
      "2                                   False                            False   \n",
      "3                                   False                            False   \n",
      "4                                   False                            False   \n",
      "\n",
      "   Payment Method_Mailed check  \n",
      "0                        False  \n",
      "1                        False  \n",
      "2                         True  \n",
      "3                         True  \n",
      "4                        False  \n",
      "\n",
      "[5 rows x 24 columns]\n"
     ]
    }
   ],
   "source": [
    "# Now df is ready for machine learning!\n",
    "print(df.head())"
   ]
  },
  {
   "cell_type": "code",
   "execution_count": 92,
   "id": "0bfa84e3",
   "metadata": {},
   "outputs": [
    {
     "data": {
      "image/png": "[encoded data removed]",
      "text/plain": [
       "<Figure size 640x480 with 1 Axes>"
      ]
     },
     "metadata": {},
     "output_type": "display_data"
    },
    {
     "data": {
      "image/png": "[encoded data removed]",
      "text/plain": [
       "<Figure size 640x480 with 1 Axes>"
      ]
     },
     "metadata": {},
     "output_type": "display_data"
    },
    {
     "data": {
      "image/png": "[encoded data removed]",
      "text/plain": [
       "<Figure size 640x480 with 1 Axes>"
      ]
     },
     "metadata": {},
     "output_type": "display_data"
    }
   ],
   "source": [
    "\n",
    "\n",
    "# Plot distribution of Churn\n",
    "df['Churn'].value_counts().plot(kind='bar', color=['skyblue', 'salmon'])\n",
    "plt.title('Churn Distribution')\n",
    "plt.xlabel('Churn')\n",
    "plt.ylabel('Count')\n",
    "plt.show()\n",
    "\n",
    "# Plot distribution of tenure\n",
    "df['tenure'].plot(kind='hist', bins=30, color='lightgreen', edgecolor='black')\n",
    "plt.title('Distribution of Tenure')\n",
    "plt.xlabel('Tenure (months)')\n",
    "plt.ylabel('Frequency')\n",
    "plt.show()\n",
    "\n",
    "# Boxplot of Monthly Charges by Churn\n",
    "df.boxplot(column='Monthly Charges', by='Churn', grid=False)\n",
    "plt.title('Monthly Charges by Churn')\n",
    "plt.suptitle('')\n",
    "plt.xlabel('Churn')\n",
    "plt.ylabel('Monthly Charges')\n",
    "plt.show()"
   ]
  },
  {
   "cell_type": "code",
   "execution_count": 93,
   "id": "bb8da56b",
   "metadata": {},
   "outputs": [
    {
     "name": "stdout",
     "output_type": "stream",
     "text": [
      "Cleaned dataset saved to ../files/Churn_cleaned.csv\n"
     ]
    }
   ],
   "source": [
    "# Saving the cleaned dataset to the files folder\n",
    "df.to_csv('../files/Churn_cleaned.csv', index=False)\n",
    "print(\"Cleaned dataset saved to ../files/Churn_cleaned.csv\")"
   ]
  },
  {
   "cell_type": "markdown",
   "id": "6008677e",
   "metadata": {},
   "source": [
    "### Key Findings\n",
    "1. The dataset contained no missing values or duplicate rows.\n",
    "2. Categorical variables such as 'No internet service' and 'No phone service' were standardized for consistency.\n",
    "3. All categorical features were encoded using label encoding (for binary columns) and one-hot encoding (for others).\n",
    "4. The Customer ID column was dropped as it is not useful for modeling.\n",
    "5. The cleaned dataset is now fully numeric and ready for machine learning.\n",
    "6. Exploratory plots show the distribution of churn, tenure, and monthly charges, providing insights into customer behavior."
   ]
  }
 ],
 "metadata": {
  "kernelspec": {
   "display_name": ".venv",
   "language": "python",
   "name": "python3"
  },
  "language_info": {
   "codemirror_mode": {
    "name": "ipython",
    "version": 3
   },
   "file_extension": ".py",
   "mimetype": "text/x-python",
   "name": "python",
   "nbconvert_exporter": "python",
   "pygments_lexer": "ipython3",
   "version": "3.12.3"
  }
 },
 "nbformat": 4,
 "nbformat_minor": 5
}
