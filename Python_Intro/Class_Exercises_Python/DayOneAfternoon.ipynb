{
 "cells": [
  {
   "cell_type": "code",
   "execution_count": 3,
   "id": "5b06f9e9-72ff-4053-876d-715561d1a6ce",
   "metadata": {},
   "outputs": [
    {
     "name": "stdin",
     "output_type": "stream",
     "text": [
      "Enter your name:  Shakiran\n",
      "Enter your age:  24\n"
     ]
    },
    {
     "name": "stdout",
     "output_type": "stream",
     "text": [
      "Hello, Shakiran! You are 24 years old.\n"
     ]
    }
   ],
   "source": [
    "#user input \n",
    "name = input(\"Enter your name: \")  \n",
    "age = int(input(\"Enter your age: \"))  \n",
    "print(\"Hello, \" + name + \"! You are \" + str(age) + \" years old.\")  "
   ]
  },
  {
   "cell_type": "code",
   "execution_count": 7,
   "id": "3bc7995f-288e-4cea-b4bd-2d4d33dba42a",
   "metadata": {},
   "outputs": [
    {
     "name": "stdout",
     "output_type": "stream",
     "text": [
      "(For demo: The secret number is 4)\n"
     ]
    },
    {
     "name": "stdin",
     "output_type": "stream",
     "text": [
      "Guess a number between 1 and 10:  5\n"
     ]
    },
    {
     "name": "stdout",
     "output_type": "stream",
     "text": [
      "Wrong guess, try again.\n"
     ]
    },
    {
     "name": "stdin",
     "output_type": "stream",
     "text": [
      "Guess a number between 1 and 10:  4\n"
     ]
    },
    {
     "name": "stdout",
     "output_type": "stream",
     "text": [
      "Correct! Well done.\n"
     ]
    }
   ],
   "source": [
    "# Randomizing numbers\n",
    "import random\n",
    "\n",
    "# For testing/demo purposes, we will set a fixed secret number\n",
    "secret_number = 4 # is the secret number\n",
    "\n",
    "# Show the secret number (for testing/demo) \n",
    "print(f\"(For demo: The secret number is {secret_number})\")\n",
    "\n",
    "while True:\n",
    "    guess = int(input(\"Guess a number between 1 and 10: \"))\n",
    "\n",
    "    if guess == secret_number:\n",
    "        print(\"Correct! Well done.\")\n",
    "        break\n",
    "    else:\n",
    "        print(\"Wrong guess, try again.\")\n"
   ]
  },
  {
   "cell_type": "code",
   "execution_count": 9,
   "id": "457dead3-aa35-46b9-ab95-7bb6fc87d842",
   "metadata": {},
   "outputs": [
    {
     "name": "stdout",
     "output_type": "stream",
     "text": [
      "(The secret number is 3)\n"
     ]
    },
    {
     "name": "stdin",
     "output_type": "stream",
     "text": [
      "Guess a number between 1 and 10:  6\n"
     ]
    },
    {
     "name": "stdout",
     "output_type": "stream",
     "text": [
      "Wrong guess, try again.\n"
     ]
    },
    {
     "name": "stdin",
     "output_type": "stream",
     "text": [
      "Guess a number between 1 and 10:  3\n"
     ]
    },
    {
     "name": "stdout",
     "output_type": "stream",
     "text": [
      "Correct! Well done.\n"
     ]
    }
   ],
   "source": [
    "# Randomizing numbers\n",
    "import random\n",
    "\n",
    "# Store secret number\n",
    "secret_number = random.randint(1, 10) #generating a random number\n",
    "\n",
    "# Show the secret number  \n",
    "print(f\"(The secret number is {secret_number})\"\n",
    "\n",
    "while True:\n",
    "    guess = int(input(\"Guess a number between 1 and 10: \"))\n",
    "\n",
    "    if guess == secret_number:\n",
    "        print(\"Correct! Well done.\")\n",
    "        break\n",
    "    else:\n",
    "        print(\"Wrong guess, try again.\")\n"
   ]
  },
  {
   "cell_type": "code",
   "execution_count": 11,
   "id": "615d1fe0-1365-4faf-a04e-2c6c49028249",
   "metadata": {},
   "outputs": [
    {
     "name": "stdin",
     "output_type": "stream",
     "text": [
      "Guess a number between 1 and 10:  5\n"
     ]
    },
    {
     "name": "stdout",
     "output_type": "stream",
     "text": [
      "Wrong guess, try again.\n"
     ]
    },
    {
     "name": "stdin",
     "output_type": "stream",
     "text": [
      "Guess a number between 1 and 10:  4\n"
     ]
    },
    {
     "name": "stdout",
     "output_type": "stream",
     "text": [
      "Wrong guess, try again.\n"
     ]
    },
    {
     "name": "stdin",
     "output_type": "stream",
     "text": [
      "Guess a number between 1 and 10:  6\n"
     ]
    },
    {
     "name": "stdout",
     "output_type": "stream",
     "text": [
      "Wrong guess, try again.\n"
     ]
    },
    {
     "name": "stdin",
     "output_type": "stream",
     "text": [
      "Guess a number between 1 and 10:  8\n"
     ]
    },
    {
     "name": "stdout",
     "output_type": "stream",
     "text": [
      "Wrong guess, try again.\n"
     ]
    },
    {
     "name": "stdin",
     "output_type": "stream",
     "text": [
      "Guess a number between 1 and 10:  3\n"
     ]
    },
    {
     "name": "stdout",
     "output_type": "stream",
     "text": [
      "Wrong guess, try again.\n"
     ]
    },
    {
     "name": "stdin",
     "output_type": "stream",
     "text": [
      "Guess a number between 1 and 10:  9\n"
     ]
    },
    {
     "name": "stdout",
     "output_type": "stream",
     "text": [
      "Wrong guess, try again.\n"
     ]
    },
    {
     "name": "stdin",
     "output_type": "stream",
     "text": [
      "Guess a number between 1 and 10:  1\n"
     ]
    },
    {
     "name": "stdout",
     "output_type": "stream",
     "text": [
      "Wrong guess, try again.\n"
     ]
    },
    {
     "name": "stdin",
     "output_type": "stream",
     "text": [
      "Guess a number between 1 and 10:  2\n"
     ]
    },
    {
     "name": "stdout",
     "output_type": "stream",
     "text": [
      "Wrong guess, try again.\n"
     ]
    },
    {
     "name": "stdin",
     "output_type": "stream",
     "text": [
      "Guess a number between 1 and 10:  7\n"
     ]
    },
    {
     "name": "stdout",
     "output_type": "stream",
     "text": [
      "Correct! Well done.\n"
     ]
    }
   ],
   "source": [
    "# Randomizing numbers\n",
    "import random\n",
    "\n",
    "# Store secret number\n",
    "secret_number = random.randint(1, 10) #generating a random number\n",
    "\n",
    "\n",
    "while True:\n",
    "    guess = int(input(\"Guess a number between 1 and 10: \"))\n",
    "\n",
    "    if guess == secret_number:\n",
    "        print(\"Correct! Well done.\")\n",
    "        break\n",
    "    else:\n",
    "        print(\"Wrong guess, try again.\")\n"
   ]
  },
  {
   "cell_type": "code",
   "execution_count": null,
   "id": "3a54f264-d330-43a0-915e-21b2f51fc4ff",
   "metadata": {},
   "outputs": [],
   "source": []
  }
 ],
 "metadata": {
  "kernelspec": {
   "display_name": "Python [conda env:base] *",
   "language": "python",
   "name": "conda-base-py"
  },
  "language_info": {
   "codemirror_mode": {
    "name": "ipython",
    "version": 3
   },
   "file_extension": ".py",
   "mimetype": "text/x-python",
   "name": "python",
   "nbconvert_exporter": "python",
   "pygments_lexer": "ipython3",
   "version": "3.12.7"
  }
 },
 "nbformat": 4,
 "nbformat_minor": 5
}
