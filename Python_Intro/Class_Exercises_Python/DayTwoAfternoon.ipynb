{
 "cells": [
  {
   "cell_type": "code",
   "execution_count": null,
   "id": "2038f098-d619-4b4e-a2e6-3d9f50823c0e",
   "metadata": {},
   "outputs": [],
   "source": [
    "# Python Datatypes"
   ]
  },
  {
   "cell_type": "code",
   "execution_count": 6,
   "id": "c2cbedeb-7c3f-4fcb-ae5b-fb9885c3329c",
   "metadata": {},
   "outputs": [
    {
     "name": "stdout",
     "output_type": "stream",
     "text": [
      "30\n",
      "<class 'int'>\n",
      "2.5\n",
      "<class 'float'>\n"
     ]
    }
   ],
   "source": [
    "#variables\n",
    "z = 30\n",
    "t = 2.5\n",
    "print(z)\n",
    "print(type(z))\n",
    "print(t)\n",
    "print(type(t))"
   ]
  },
  {
   "cell_type": "code",
   "execution_count": 14,
   "id": "9d24f7a0-59c8-4ff2-b1f2-054b0e5fde1c",
   "metadata": {},
   "outputs": [
    {
     "name": "stdout",
     "output_type": "stream",
     "text": [
      "Livingstone\n",
      "My name is Micheal\n",
      "Afternoon session\n",
      "<class 'str'>\n"
     ]
    }
   ],
   "source": [
    "#Strings\n",
    "name = \"Livingstone\"\n",
    "name2 = \"My name is Micheal\"\n",
    "name3 = \"Afternoon session\"\n",
    "print(name)\n",
    "print(name2)\n",
    "print(name3)\n",
    "print(type(name))"
   ]
  },
  {
   "cell_type": "code",
   "execution_count": 20,
   "id": "14abdc04-aaaf-4252-9619-c359164c8b0e",
   "metadata": {},
   "outputs": [
    {
     "name": "stdout",
     "output_type": "stream",
     "text": [
      "<class 'complex'>\n",
      "<class 'complex'>\n"
     ]
    }
   ],
   "source": [
    "#Complex numbers\n",
    "# a+bi , a+bj\n",
    "# a represents the real part\n",
    "# bi and bj represent the imaginary part\n",
    "\n",
    "r = 7 + 5j\n",
    "print(type(r))\n",
    "\n",
    "y = 6j #there is a silent 0 + 6j\n",
    "print(type(y))"
   ]
  },
  {
   "cell_type": "code",
   "execution_count": 38,
   "id": "16fe7ba4-9782-44c9-9021-13ec217378ba",
   "metadata": {},
   "outputs": [
    {
     "name": "stdout",
     "output_type": "stream",
     "text": [
      "['John', 'Mable', 'Kiran', 'George', 'Louis']\n",
      "['John', 'Mable', 'Kiran', 'George', 'Joseph']\n",
      "['benz', 'kia', 'honda', 'ford']\n",
      "<class 'list'>\n",
      "['benz', 'kia', 'honda', 'ford', 'ranger']\n",
      "['benz', '5', 'kia', 'honda', 'ford', 'ranger']\n"
     ]
    }
   ],
   "source": [
    "#lists\n",
    "names = [\"John\", \"Mable\", \"Kiran\", \"George\", \"Louis\"]\n",
    "print(names)\n",
    "names[4] = \"Joseph\"\n",
    "print(names)\n",
    "\n",
    "#list constructor\n",
    "cars = list((\"benz\", \"kia\", \"honda\", \"ford\"))\n",
    "print(cars)\n",
    "print(type(cars))\n",
    "\n",
    "cars.append(\"ranger\")\n",
    "print(cars)\n",
    "cars.insert(1, \"5\")\n",
    "print(cars)"
   ]
  },
  {
   "cell_type": "code",
   "execution_count": null,
   "id": "05e122ae-f6b3-4fdb-801d-0839cd7c1047",
   "metadata": {},
   "outputs": [],
   "source": []
  }
 ],
 "metadata": {
  "kernelspec": {
   "display_name": "Python [conda env:base] *",
   "language": "python",
   "name": "conda-base-py"
  },
  "language_info": {
   "codemirror_mode": {
    "name": "ipython",
    "version": 3
   },
   "file_extension": ".py",
   "mimetype": "text/x-python",
   "name": "python",
   "nbconvert_exporter": "python",
   "pygments_lexer": "ipython3",
   "version": "3.12.7"
  }
 },
 "nbformat": 4,
 "nbformat_minor": 5
}
