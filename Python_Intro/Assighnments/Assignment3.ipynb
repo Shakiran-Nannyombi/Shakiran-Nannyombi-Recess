{
 "cells": [
  {
   "cell_type": "code",
   "execution_count": null,
   "id": "ecdf7cc4-592e-4741-bf1c-86a9d5cbd493",
   "metadata": {},
   "outputs": [],
   "source": [
    "# Functions"
   ]
  },
  {
   "cell_type": "code",
   "execution_count": 2,
   "id": "c3d6bdcc-0701-4f56-b521-bb104672089d",
   "metadata": {},
   "outputs": [
    {
     "data": {
      "text/plain": [
       "120"
      ]
     },
     "execution_count": 2,
     "metadata": {},
     "output_type": "execute_result"
    }
   ],
   "source": [
    "# Assignment one: Define factorial of a number (five)\n",
    "\n",
    "def factorial(n):\n",
    "    if n == 0:\n",
    "        return 1\n",
    "    else:\n",
    "        return n * factorial(n - 1)\n",
    "\n",
    "factorial(5)"
   ]
  },
  {
   "cell_type": "code",
   "execution_count": null,
   "id": "023322e5-9a71-45c9-bdaa-96915b1b1d33",
   "metadata": {},
   "outputs": [],
   "source": [
    "# Error Handling "
   ]
  },
  {
   "cell_type": "code",
   "execution_count": 24,
   "id": "dd826d84-ef54-402e-bfc3-e11759475ab6",
   "metadata": {},
   "outputs": [
    {
     "name": "stdin",
     "output_type": "stream",
     "text": [
      "Enter number a:  6\n",
      "Enter number b:  0\n"
     ]
    },
    {
     "name": "stdout",
     "output_type": "stream",
     "text": [
      "Number cannot be divided by zero! Please try again.\n"
     ]
    },
    {
     "name": "stdin",
     "output_type": "stream",
     "text": [
      "Enter number a:  4\n",
      "Enter number b:  2\n"
     ]
    },
    {
     "name": "stdout",
     "output_type": "stream",
     "text": [
      "Result of 4 divided by 2 is 2.0\n"
     ]
    }
   ],
   "source": [
    "# Write a program to handle errors. The program should ask for two numbers using input, and then \n",
    "# divides them. use an infinite loop to keep asking until a valid input is provided\n",
    "\n",
    "while True:\n",
    "    try:\n",
    "        a = int(input(\"Enter number a: \"))\n",
    "        b = int(input(\"Enter number b: \"))\n",
    "        \n",
    "        if b == 0:\n",
    "            print(\"Number cannot be divided by zero! Please try again.\")\n",
    "            continue \n",
    "            \n",
    "        result = a/b\n",
    "        \n",
    "    except Error:\n",
    "        print(\"Invalid number, please enter valid intergers\")\n",
    "        continue\n",
    "\n",
    "    else:\n",
    "        print(f\"Result of {a} divided by {b} is {result}\")\n",
    "        break\n",
    "\n",
    "    finally:\n",
    "        (\"Program execution Complete\")\n"
   ]
  },
  {
   "cell_type": "code",
   "execution_count": null,
   "id": "32647c85-2a29-4d96-9e63-78a72b8606eb",
   "metadata": {},
   "outputs": [],
   "source": []
  }
 ],
 "metadata": {
  "kernelspec": {
   "display_name": "Python [conda env:base] *",
   "language": "python",
   "name": "conda-base-py"
  },
  "language_info": {
   "codemirror_mode": {
    "name": "ipython",
    "version": 3
   },
   "file_extension": ".py",
   "mimetype": "text/x-python",
   "name": "python",
   "nbconvert_exporter": "python",
   "pygments_lexer": "ipython3",
   "version": "3.12.7"
  }
 },
 "nbformat": 4,
 "nbformat_minor": 5
}
