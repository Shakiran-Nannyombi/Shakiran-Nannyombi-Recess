{
 "cells": [
  {
   "cell_type": "code",
   "execution_count": 12,
   "id": "1a549123-c1d8-4541-81ee-05cb58594f8d",
   "metadata": {},
   "outputs": [
    {
     "name": "stdout",
     "output_type": "stream",
     "text": [
      "samsung\n"
     ]
    }
   ],
   "source": [
    "# 1. Write a Python program to output your favorite phone brand.\n",
    "x = (\"samsung\", \"iphone\", \"tecno\", \"redmi\")\n",
    "print(x[0])"
   ]
  },
  {
   "cell_type": "code",
   "execution_count": 14,
   "id": "cef292d8-2f88-435e-856b-53363300e08b",
   "metadata": {},
   "outputs": [
    {
     "name": "stdout",
     "output_type": "stream",
     "text": [
      "tecno\n"
     ]
    }
   ],
   "source": [
    "# 2. Use negative indexing to print the 2nd last item in your tuple\n",
    "x = (\"samsung\", \"iphone\", \"tecno\", \"redmi\")\n",
    "print(x[-2])"
   ]
  },
  {
   "cell_type": "code",
   "execution_count": 26,
   "id": "bda9913e-83ee-4073-a7e9-46f0de9b7c82",
   "metadata": {},
   "outputs": [
    {
     "name": "stdout",
     "output_type": "stream",
     "text": [
      "('samsung', 'itel', 'tecno', 'redmi')\n"
     ]
    }
   ],
   "source": [
    "# 3. Using the phones list above, write a python program to update “iphone” to “itel”\n",
    "x = (\"samsung\", \"iphone\", \"tecno\", \"redmi\")\n",
    "y = list(x)\n",
    "y[1] = \"itel\"\n",
    "x = tuple (y)\n",
    "print(x)"
   ]
  },
  {
   "cell_type": "code",
   "execution_count": 28,
   "id": "b7724e38-e737-4c81-9437-a90e52093471",
   "metadata": {},
   "outputs": [
    {
     "name": "stdout",
     "output_type": "stream",
     "text": [
      "('samsung', 'iphone', 'tecno', 'redmi', 'Huawei')\n"
     ]
    }
   ],
   "source": [
    "# 4. Write a Python program to add “Huawei” to your tuple.\n",
    "x = (\"samsung\", \"iphone\", \"tecno\", \"redmi\")\n",
    "y = list(x)\n",
    "y.append(\"Huawei\")\n",
    "x = tuple (y)\n",
    "print(x)"
   ]
  },
  {
   "cell_type": "code",
   "execution_count": 30,
   "id": "7e47a7d8-7541-45d1-ba6e-b37a2ae8df4e",
   "metadata": {},
   "outputs": [
    {
     "name": "stdout",
     "output_type": "stream",
     "text": [
      "samsung\n",
      "iphone\n",
      "tecno\n",
      "redmi\n"
     ]
    }
   ],
   "source": [
    "# 5. Write a Python program to loop through the tuple above.\n",
    "x = (\"samsung\", \"iphone\", \"tecno\", \"redmi\")\n",
    "for i in x:\n",
    "    print(i)"
   ]
  },
  {
   "cell_type": "code",
   "execution_count": 32,
   "id": "a4d991e9-6172-4dfd-8cc4-ac02fb1ca63c",
   "metadata": {},
   "outputs": [
    {
     "name": "stdout",
     "output_type": "stream",
     "text": [
      "('iphone', 'tecno', 'redmi')\n"
     ]
    }
   ],
   "source": [
    "# 6. Write a Python program to remove/delete the first item in your tuple.\n",
    "x = (\"samsung\", \"iphone\", \"tecno\", \"redmi\")\n",
    "y = list(x)\n",
    "y.pop(0)\n",
    "x = tuple (y)\n",
    "print(x)"
   ]
  },
  {
   "cell_type": "code",
   "execution_count": 34,
   "id": "c9b0c64e-d87d-48ca-bcea-099205907c0f",
   "metadata": {},
   "outputs": [
    {
     "name": "stdout",
     "output_type": "stream",
     "text": [
      "('kampala', 'lira', 'jinja', 'mbale', 'mukono', 'arua', 'kabale')\n"
     ]
    }
   ],
   "source": [
    "# 7. Using the tuple() constructor, create a tuple of the cities in Uganda.\n",
    "cities = tuple((\"kampala\", \"lira\", \"jinja\", \"mbale\", \"mukono\", \"arua\", \"kabale\"))\n",
    "print(cities)"
   ]
  },
  {
   "cell_type": "code",
   "execution_count": 36,
   "id": "28087b47-5891-4860-abe6-be82f4cbe876",
   "metadata": {},
   "outputs": [
    {
     "name": "stdout",
     "output_type": "stream",
     "text": [
      "kampala\n",
      "lira\n",
      "jinja\n",
      "mbale\n",
      "mukono\n",
      "arua\n",
      "kabale\n"
     ]
    }
   ],
   "source": [
    "# 8. Write a Python program to unpack your tuple.\n",
    "cities = tuple((\"kampala\", \"lira\", \"jinja\", \"mbale\", \"mukono\", \"arua\", \"kabale\"))\n",
    "(central, north, western, cent, center, northern, west) = cities\n",
    "print(central)\n",
    "print(north)\n",
    "print(western)\n",
    "print(cent)\n",
    "print(center)\n",
    "print(northern)\n",
    "print(west)"
   ]
  },
  {
   "cell_type": "code",
   "execution_count": 38,
   "id": "535c8b6c-2099-4ea9-a66e-0a0c71e83653",
   "metadata": {},
   "outputs": [
    {
     "name": "stdout",
     "output_type": "stream",
     "text": [
      "('lira', 'jinja', 'mbale')\n"
     ]
    }
   ],
   "source": [
    "# 9.Use a range of indexes to print the 2nd, 3rd and 4th cities in your tuple above.\n",
    "cities = tuple((\"kampala\", \"lira\", \"jinja\", \"mbale\", \"mukono\", \"arua\", \"kabale\"))\n",
    "print(cities[1:4])"
   ]
  },
  {
   "cell_type": "code",
   "execution_count": 42,
   "id": "f58f1ab8-d61c-48d6-aaa0-1f4a7fc45f32",
   "metadata": {},
   "outputs": [
    {
     "name": "stdout",
     "output_type": "stream",
     "text": [
      "('John', 'Mable', 'Kiran', 'George', 'Louis', 'Ssenyange', 'Nazziwa', 'Kobusingye', 'Kato', 'Atuhaire')\n"
     ]
    }
   ],
   "source": [
    "# 10. Write two tuples, one containing your first names and the other your second names. Join the two tuples.\n",
    "firstNames = (\"John\", \"Mable\", \"Kiran\", \"George\", \"Louis\")\n",
    "lastNames = (\"Ssenyange\", \"Nazziwa\", \"Kobusingye\", \"Kato\", \"Atuhaire\")\n",
    "names = firstNames + lastNames\n",
    "print(names)"
   ]
  },
  {
   "cell_type": "code",
   "execution_count": 44,
   "id": "c97891f7-a7c6-418b-adfc-11a9781aece3",
   "metadata": {},
   "outputs": [
    {
     "name": "stdout",
     "output_type": "stream",
     "text": [
      "('red', 'blue', 'yellow', 'pink', 'orange', 'peach', 'red', 'blue', 'yellow', 'pink', 'orange', 'peach', 'red', 'blue', 'yellow', 'pink', 'orange', 'peach')\n"
     ]
    }
   ],
   "source": [
    "# 11. Create a tuple of colors and multiply it by 3.\n",
    "colors = (\"red\", \"blue\", \"yellow\", \"pink\", \"orange\", \"peach\")\n",
    "myColors = colors *3\n",
    "print(myColors)"
   ]
  },
  {
   "cell_type": "code",
   "execution_count": 4,
   "id": "4bc57531-16cd-41b9-9a48-5147940f44e1",
   "metadata": {},
   "outputs": [
    {
     "name": "stdout",
     "output_type": "stream",
     "text": [
      "2\n"
     ]
    }
   ],
   "source": [
    "# 12. Return the number of times 8 appears in this tuple\n",
    "thistuple = (1, 3, 7, 8, 7, 5, 4, 6, 8, 5)\n",
    "thislist = list(thistuple)\n",
    "print(thislist.count(8))"
   ]
  }
 ],
 "metadata": {
  "kernelspec": {
   "display_name": "Python [conda env:base] *",
   "language": "python",
   "name": "conda-base-py"
  },
  "language_info": {
   "codemirror_mode": {
    "name": "ipython",
    "version": 3
   },
   "file_extension": ".py",
   "mimetype": "text/x-python",
   "name": "python",
   "nbconvert_exporter": "python",
   "pygments_lexer": "ipython3",
   "version": "3.12.7"
  }
 },
 "nbformat": 4,
 "nbformat_minor": 5
}
