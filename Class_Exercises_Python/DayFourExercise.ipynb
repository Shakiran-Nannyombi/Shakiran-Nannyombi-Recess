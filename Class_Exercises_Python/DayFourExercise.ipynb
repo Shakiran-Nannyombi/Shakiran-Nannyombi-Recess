{
 "cells": [
  {
   "cell_type": "code",
   "execution_count": null,
   "id": "a5c78f77-e7d9-41f1-a9ea-ec9126478485",
   "metadata": {},
   "outputs": [],
   "source": [
    "# Exercise one\n",
    "#submit method overloading, method overriding and MRO\n",
    "#MRO is method resolution order \n",
    "#real life examples of the above "
   ]
  },
  {
   "cell_type": "code",
   "execution_count": 18,
   "id": "ae2bbbd1-5fde-40b2-9582-e285f76c6723",
   "metadata": {},
   "outputs": [
    {
     "name": "stdout",
     "output_type": "stream",
     "text": [
      "10\n",
      "10.66075\n",
      "This is Methodoverloading in Python.\n"
     ]
    }
   ],
   "source": [
    "# METHOD OVERLOADING\n",
    "#Two or more methods have the same name but different numbers of parameters or different types of parameters, or both.\n",
    "# python does not support method overloading but  we can use different ways to achieve the method overloading.\n",
    "\n",
    "# the most efficient one is By Using Multiple Dispatch Decorator \n",
    "# In Backend, Dispatcher creates an object which stores different implementation and on runtime,\n",
    "# it selects the appropriate method as the type and number of parameters passed.\n",
    "\n",
    "from multipledispatch import dispatch\n",
    "\n",
    "# passing two int parameters\n",
    "@dispatch(int, int)\n",
    "def result(a, b):\n",
    "    return a * b\n",
    "\n",
    "# passing three float parameters\n",
    "@dispatch(float, float, float)\n",
    "def result(c, d, e):\n",
    "    return c + d * e\n",
    "\n",
    "# passing five string parameters\n",
    "@dispatch(str, str, str, str, str)\n",
    "def result(a, b, c, d, e):\n",
    "    sentence = a + b + c + d + e\n",
    "    print(sentence)\n",
    "\n",
    "# Calling and printing results\n",
    "print(result(5, 2)) \n",
    "print(result(2.5, 4.05, 2.015))\n",
    "result(\"This \", \"is \", \"Methodoverloading \", \"in \", \"Python.\")\n",
    "\n",
    "# In Python, if you just call a function like this: result(5, 2)\n",
    "# and don’t assign the result to a variable or print it, you won’t see anything on the screen "
   ]
  },
  {
   "cell_type": "code",
   "execution_count": 24,
   "id": "5e51747f-6b89-468a-9cbe-f79945dda852",
   "metadata": {},
   "outputs": [
    {
     "name": "stdout",
     "output_type": "stream",
     "text": [
      "Welcome to Makerere University\n"
     ]
    },
    {
     "name": "stdin",
     "output_type": "stream",
     "text": [
      "Enter student ID number for Makerere University:  1560\n",
      "Enter Full Name:  Nannyombi Shakiran \n"
     ]
    },
    {
     "name": "stdout",
     "output_type": "stream",
     "text": [
      "Nannyombi Shakiran  you're now an enrolled student in Makerere University\n",
      "Your Registration number is 23/U/1560/PS\n",
      "\n",
      "Welcome to Uganda Christian University\n"
     ]
    },
    {
     "name": "stdin",
     "output_type": "stream",
     "text": [
      "Enter student ID number for Uganda Christian University:  14580\n",
      "Enter Full Name:  Henry Sebaduka\n"
     ]
    },
    {
     "name": "stdout",
     "output_type": "stream",
     "text": [
      "Henry Sebaduka  you're now an enrolled student Uganda Christian University\n",
      "Your Registration number is 23/UCU/14580/PS\n",
      "\n",
      "You're now an enrolled student in University.\n",
      "Welcome fresher\n"
     ]
    }
   ],
   "source": [
    "# METHOD OVERRIDING\n",
    "# Method overriding is an ability of any object-oriented programming language that allows a subclass or child class to provide\n",
    "#a specific implementation of a method that is already provided by one of its super-classes or parent classes.\n",
    "\n",
    "# Super Class\n",
    "class Makerere_University:\n",
    "    def __init__(self):\n",
    "        print(\"Welcome to Makerere University\")\n",
    "\n",
    "    def info(self):\n",
    "        student_ID_NO = int(input(\"Enter student ID number for Makerere University: \"))\n",
    "        student_name = input(\"Enter Full Name: \")\n",
    "        print(f\"{student_name} you're now an enrolled student in Makerere University\")\n",
    "        print(f\"Your Registration number is 23/U/{student_ID_NO}/PS\")\n",
    "\n",
    "# Child class\n",
    "class UCU(Makerere_University):\n",
    "    def __init__(self):\n",
    "        print(\"\\nWelcome to Uganda Christian University\")\n",
    "\n",
    "    def info(self):\n",
    "        student_ID_NO = int(input(\"Enter student ID number for Uganda Christian University: \"))\n",
    "        student_name = input(\"Enter Full Name: \")\n",
    "        print(f\"{student_name}  you're now an enrolled student Uganda Christian University\")\n",
    "        print(f\"Your Registration number is 23/UCU/{student_ID_NO}/PS\")\n",
    "\n",
    "# Grandchild class \n",
    "# Enrolled inherits from UCU \n",
    "class Enrolled(UCU):\n",
    "    def __init__(self):\n",
    "        print(\"\\nYou're now an enrolled student in University.\\nWelcome fresher\")\n",
    "\n",
    "# Creating objects\n",
    "makerere = Makerere_University()\n",
    "makerere.info()  # Input info for Makerere University\n",
    "\n",
    "ucu = UCU()\n",
    "ucu.info()       # Input info for UC\n",
    "\n",
    "enrolled = Enrolled() \n"
   ]
  },
  {
   "cell_type": "code",
   "execution_count": 31,
   "id": "4c28b78a-c1ab-43d5-8c57-671fab47a1c2",
   "metadata": {},
   "outputs": [
    {
     "name": "stdout",
     "output_type": "stream",
     "text": [
      "Hello, Adam! \n",
      "Where you going?\n",
      "Hi, Betty! \n",
      "Just going to the mall. \n",
      "How about you?\n",
      "Oh hi, Adam! \n",
      "Well Betty is heading to the mall too. \n",
      "You can go together.\n",
      "\n",
      "[<class '__main__.D'>, <class '__main__.Betty'>, <class '__main__.Cyrus'>, <class '__main__.Adam'>, <class 'object'>]\n"
     ]
    }
   ],
   "source": [
    "# MRO (Method Resolution Order)\n",
    "# MRO in Python defines the order in which base classes are searched when executing a method or looking up an attribute. \n",
    "# Understanding MRO is crucial for predicting which method will be called, avoiding conflicts, and designing robust class hierarchies.\n",
    "# This is especially important in multiple inheritance scenarios.\n",
    "\n",
    "#super class\n",
    "class Adam:\n",
    "    def greeting(self):\n",
    "        print(\"Hello, Adam! \\nWhere you going?\")\n",
    "\n",
    "class Betty(Adam):\n",
    "    def greeting(self):\n",
    "        print(\"Hi, Betty! \\nJust going to the mall. \\nHow about you?\")\n",
    "\n",
    "class Cyrus(Adam):\n",
    "    def greeting(self):\n",
    "        print(\"Oh hi, Adam! \\nWell Betty is heading to the mall too. \\nYou can go together.\\n\")\n",
    "\n",
    "class Derived(Betty, Cyrus):\n",
    "    pass\n",
    "\n",
    "a = Adam()\n",
    "a.greeting()\n",
    "\n",
    "d = Derived()\n",
    "d.greeting() # outputs for Betty. Since D does not define the method, Python looks next in Betty (the first parent listed in class Derived(Betty, Cyrus)).\n",
    "\n",
    "c = Cyrus()\n",
    "c.greeting()\n",
    "\n",
    "print(D.mro())\n"
   ]
  }
 ],
 "metadata": {
  "kernelspec": {
   "display_name": "Python [conda env:base] *",
   "language": "python",
   "name": "conda-base-py"
  },
  "language_info": {
   "codemirror_mode": {
    "name": "ipython",
    "version": 3
   },
   "file_extension": ".py",
   "mimetype": "text/x-python",
   "name": "python",
   "nbconvert_exporter": "python",
   "pygments_lexer": "ipython3",
   "version": "3.12.7"
  }
 },
 "nbformat": 4,
 "nbformat_minor": 5
}
