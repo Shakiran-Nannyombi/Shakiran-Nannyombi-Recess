{
 "cells": [
  {
   "cell_type": "code",
   "execution_count": null,
   "id": "fd1e5ad4-cc3f-44a5-a8a7-1bd637304eb5",
   "metadata": {},
   "outputs": [],
   "source": [
    "# Object Orieneted programmimg in python"
   ]
  },
  {
   "cell_type": "code",
   "execution_count": 8,
   "id": "f44a3139-ce8a-40cb-a457-9702b789f1da",
   "metadata": {},
   "outputs": [
    {
     "name": "stdout",
     "output_type": "stream",
     "text": [
      "Animal makes sound\n",
      "Cat makes sound moew\n"
     ]
    }
   ],
   "source": [
    "#Example one: Inheritance\n",
    "\n",
    "#super class\n",
    "class Animal:\n",
    "    def speak(self):\n",
    "        print (\"Animal makes sound\")\n",
    "        \n",
    "# subclass/child class/ derived class\n",
    "class Cat(Animal):\n",
    "    def sound(self):\n",
    "        print (\"Cat makes sound moew\")\n",
    "\n",
    "#Create an object of cat\n",
    "cat1 = Cat()\n",
    "\n",
    "# calling the inherited method\n",
    "cat1.speak()\n",
    "\n",
    "# calling method of subclass\n",
    "cat1.sound()\n",
    "\n",
    "# The self parameter is a reference to the current instance of the class\n",
    "# and it's used to access variables that belong to the class"
   ]
  },
  {
   "cell_type": "code",
   "execution_count": 16,
   "id": "e14c4d28-a64c-47ea-9db7-0baca0be9516",
   "metadata": {},
   "outputs": [
    {
     "name": "stdout",
     "output_type": "stream",
     "text": [
      "Coding, Fishing\n",
      "Cooking, cleaning\n"
     ]
    }
   ],
   "source": [
    "#Example two: Method Overloading & multiple inheritance\n",
    "#Father Mother Skills\n",
    "\n",
    "class Father:\n",
    "    def skills(self):\n",
    "        print (\"Coding, Fishing\")\n",
    "\n",
    "class Mother:\n",
    "    def skills(self):\n",
    "        print(\"Cooking, cleaning\")\n",
    "\n",
    "class Child(Father, Mother):\n",
    "    def skills(self):\n",
    "        Father.skills(self)\n",
    "        Mother.skills(self)\n",
    "\n",
    "# calling method\n",
    "c = Child()\n",
    "c.skills()\n"
   ]
  },
  {
   "cell_type": "code",
   "execution_count": 22,
   "id": "a8c7a880-fddf-451c-b16c-215fb05cd162",
   "metadata": {},
   "outputs": [
    {
     "name": "stdout",
     "output_type": "stream",
     "text": [
      "Eagle flies at high altitude\n",
      "Sparrow flies at low altitude\n"
     ]
    }
   ],
   "source": [
    "# Polymorphism \n",
    "\n",
    "# Example three: Polymorphism with inheritance\n",
    "# superclass\n",
    "class Bird:\n",
    "    def fly(self):\n",
    "        print(\"Birds, flies in the sky\")\n",
    "\n",
    "#derived class\n",
    "class Eagle(Bird):\n",
    "    def fly(self):\n",
    "        print(\"Eagle flies at high altitude\")\n",
    "\n",
    "class Sparrow(Bird):\n",
    "    def fly(self):\n",
    "        print(\"Sparrow flies at low altitude\")\n",
    "\n",
    "# how we use polymorphism \n",
    "def flight_test(bird):\n",
    "    bird.fly() # Run class method based on an object\n",
    "\n",
    "# Creating objects\n",
    "eagle1 = Eagle()\n",
    "sparrow1 = Sparrow()\n",
    "\n",
    "# Call the flight test method with different objects \n",
    "\n",
    "flight_test(eagle1)\n",
    "flight_test(sparrow1)"
   ]
  },
  {
   "cell_type": "code",
   "execution_count": 36,
   "id": "aa332d47-5479-4b1a-aced-05e837a41068",
   "metadata": {},
   "outputs": [
    {
     "name": "stdout",
     "output_type": "stream",
     "text": [
      "Car engine starts\n",
      "Bike engine starts\n"
     ]
    }
   ],
   "source": [
    "# Abstraction \n",
    "# Abstract Class and Interfaces\n",
    "\n",
    "#Example Four\n",
    "\n",
    "from abc import ABC, abstractmethod #Abstraction Imports from abc module \n",
    "\n",
    "#Starting a car engine and bike\n",
    "\n",
    "# Define abstract class\n",
    "\n",
    "class Vehicle (ABC):\n",
    "    @abstractmethod\n",
    "    def start(self):\n",
    "        pass\n",
    "\n",
    "#child class implementing the abstract method\n",
    "class Car(Vehicle):\n",
    "    def start(self):\n",
    "        print(\"Car engine starts\")\n",
    "\n",
    "# Derived class implementing abstract method\n",
    "class Bike(Vehicle):\n",
    "     def start(self):\n",
    "        print(\"Bike engine starts\")\n",
    "\n",
    "# Accepted: Create objects of a subclass\n",
    "car1 = Car()\n",
    "bike1 = Bike()\n",
    "\n",
    "# Displaying output of the methods we would use\n",
    "#calling the start method \n",
    "car1.start()\n",
    "bike1.start()\n",
    "\n",
    "# Notes\n",
    "# We cannot create objects of an abstract class\n",
    "# demo\n",
    "#vehicle1 = vehicle() # this would raise an error"
   ]
  }
 ],
 "metadata": {
  "kernelspec": {
   "display_name": "Python [conda env:base] *",
   "language": "python",
   "name": "conda-base-py"
  },
  "language_info": {
   "codemirror_mode": {
    "name": "ipython",
    "version": 3
   },
   "file_extension": ".py",
   "mimetype": "text/x-python",
   "name": "python",
   "nbconvert_exporter": "python",
   "pygments_lexer": "ipython3",
   "version": "3.12.7"
  }
 },
 "nbformat": 4,
 "nbformat_minor": 5
}
