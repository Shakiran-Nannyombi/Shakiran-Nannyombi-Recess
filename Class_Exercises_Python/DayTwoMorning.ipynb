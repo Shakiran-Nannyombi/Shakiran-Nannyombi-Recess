{
 "cells": [
  {
   "cell_type": "code",
   "execution_count": null,
   "id": "a3844b75-eed9-430e-aa2e-285bce50913b",
   "metadata": {},
   "outputs": [],
   "source": [
    "# Conditional statements (if, elif, else)\n",
    "# Loops (for, while)\n",
    "# Comprehensions (list, dictionary\n",
    "# comprehensions)\n"
   ]
  },
  {
   "cell_type": "code",
   "execution_count": 2,
   "id": "aba5efda-b4ca-4d97-9dc5-0e9c88968f04",
   "metadata": {},
   "outputs": [
    {
     "name": "stdout",
     "output_type": "stream",
     "text": [
      "Grade A\n"
     ]
    }
   ],
   "source": [
    "# If statements\n",
    "# Exercise one: Grade Basic using if statements, elif statements, and else statement  Mark 80,  Grade A\n",
    "\n",
    "mark = 80\n",
    "if mark >= 80:\n",
    "    print(\"Grade A\")\n",
    "elif mark >= 60:\n",
    "    print(\"Grade B\")\n",
    "elif mark >= 40:\n",
    "    print(\"Grade C\")\n",
    "else:\n",
    "    print(\"Grade D\")"
   ]
  },
  {
   "cell_type": "code",
   "execution_count": 20,
   "id": "de167c7c-3c63-4f03-a033-73f646e89265",
   "metadata": {},
   "outputs": [
    {
     "name": "stdin",
     "output_type": "stream",
     "text": [
      "Enter your name:  kiran\n",
      "Enter your mark:  20\n"
     ]
    },
    {
     "name": "stdout",
     "output_type": "stream",
     "text": [
      "Hello, kiran ! Your grade is D\n"
     ]
    }
   ],
   "source": [
    "# If Statements\n",
    "\n",
    "name = input(\"Enter your name: \")\n",
    "mark = int(input(\"Enter your mark: \"))\n",
    "\n",
    "if mark >= 80:\n",
    "    grade = \"A\"\n",
    "elif mark >= 60:\n",
    "    grade = \"B\"\n",
    "elif mark >= 40:\n",
    "    grade = \"C\"\n",
    "else:\n",
    "    grade = \"D\"\n",
    "    \n",
    "print(f\"Hello, {name} ! Your grade is {grade}\")  # Display output"
   ]
  },
  {
   "cell_type": "code",
   "execution_count": 24,
   "id": "a651562b-77c0-4430-b831-190360f55232",
   "metadata": {},
   "outputs": [
    {
     "name": "stdin",
     "output_type": "stream",
     "text": [
      "Do you have a bank account? (yes/no):  yes\n"
     ]
    },
    {
     "name": "stdout",
     "output_type": "stream",
     "text": [
      "You have a bank account.\n"
     ]
    },
    {
     "name": "stdin",
     "output_type": "stream",
     "text": [
      "Enter the amount you want to withdraw:  5000\n"
     ]
    },
    {
     "name": "stdout",
     "output_type": "stream",
     "text": [
      "Insufficient balance.\n"
     ]
    }
   ],
   "source": [
    "#Nested if statements\n",
    "\n",
    "# Scenario: ATM withdrawal program\n",
    "# Rules:\n",
    "# A person must have a bank account to withdraw money.\n",
    "# If they have a bank account, check for a sufficient balance.\n",
    "# Only if they have a bank account and a sufficient balance can they withdraw money.\n",
    "\n",
    "\n",
    "account_balance = 1000\n",
    "has_account = input(\"Do you have a bank account? (yes/no): \")\n",
    "\n",
    "if has_account.lower() == \"yes\":\n",
    "    print(\"You have a bank account.\")\n",
    "    withdrawal_amount = int(input(\"Enter the amount you want to withdraw: \"))\n",
    "    if withdrawal_amount <= account_balance:\n",
    "        print(f\"Withdrawal successful! Your new balance is {account_balance - withdrawal_amount}.\")\n",
    "    else:\n",
    "        print(\"Insufficient balance.\")\n",
    "else:\n",
    "    print(\"You do not have a bank account.\")"
   ]
  },
  {
   "cell_type": "code",
   "execution_count": 26,
   "id": "4a1108b7-6bdb-442c-9fcf-180e15377564",
   "metadata": {},
   "outputs": [
    {
     "name": "stdin",
     "output_type": "stream",
     "text": [
      "Do you have a bank account? (yes/no):  no\n"
     ]
    },
    {
     "name": "stdout",
     "output_type": "stream",
     "text": [
      "You do not have a bank account.\n"
     ]
    }
   ],
   "source": [
    "account_balance = 1000\n",
    "has_account = input(\"Do you have a bank account? (yes/no): \")\n",
    "\n",
    "if has_account.lower() == \"yes\":\n",
    "    print(\"You have a bank account.\")\n",
    "    withdrawal_amount = int(input(\"Enter the amount you want to withdraw: \"))\n",
    "    if withdrawal_amount <= account_balance:\n",
    "        print(f\"Withdrawal successful! Your new balance is {account_balance - withdrawal_amount}.\")\n",
    "    else:\n",
    "        print(\"Insufficient balance.\")\n",
    "else:\n",
    "    print(\"You do not have a bank account.\")"
   ]
  },
  {
   "cell_type": "code",
   "execution_count": 28,
   "id": "238adbe3-90f0-4156-b039-1b29bf438a99",
   "metadata": {},
   "outputs": [
    {
     "name": "stdin",
     "output_type": "stream",
     "text": [
      "Do you have a bank account? (yes/no):  yes\n"
     ]
    },
    {
     "name": "stdout",
     "output_type": "stream",
     "text": [
      "You have a bank account.\n"
     ]
    },
    {
     "name": "stdin",
     "output_type": "stream",
     "text": [
      "Enter the amount you want to withdraw:  500\n"
     ]
    },
    {
     "name": "stdout",
     "output_type": "stream",
     "text": [
      "Withdrawal successful! Your new balance is 500.\n"
     ]
    }
   ],
   "source": [
    "account_balance = 1000\n",
    "has_account = input(\"Do you have a bank account? (yes/no): \")\n",
    "\n",
    "if has_account.lower() == \"yes\":\n",
    "    print(\"You have a bank account.\")\n",
    "    withdrawal_amount = int(input(\"Enter the amount you want to withdraw: \"))\n",
    "    if withdrawal_amount <= account_balance:\n",
    "        print(f\"Withdrawal successful! Your new balance is {account_balance - withdrawal_amount}.\")\n",
    "    else:\n",
    "        print(\"Insufficient balance.\")\n",
    "else:\n",
    "    print(\"You do not have a bank account.\")"
   ]
  },
  {
   "cell_type": "code",
   "execution_count": 30,
   "id": "05c2f8c6-ec60-410a-8051-41a71d83cc14",
   "metadata": {},
   "outputs": [
    {
     "name": "stdout",
     "output_type": "stream",
     "text": [
      "Toyota\n",
      "Honda\n",
      "Ford\n",
      "BMW\n",
      "Mercedes\n"
     ]
    }
   ],
   "source": [
    "# Loops in List of  cars \n",
    "# Excercise Two: Create a list of cars and print each car in the list using a loop\n",
    "\n",
    "cars = ['Toyota', 'Honda', 'Ford', 'BMW', 'Mercedes']\n",
    "for i in cars:\n",
    "    print(i)"
   ]
  },
  {
   "cell_type": "code",
   "execution_count": 36,
   "id": "d026bad0-bd63-48ea-8381-45cbc6f3e5f2",
   "metadata": {},
   "outputs": [
    {
     "name": "stdin",
     "output_type": "stream",
     "text": [
      "Guess a number between 1 and 10:  3\n"
     ]
    },
    {
     "name": "stdout",
     "output_type": "stream",
     "text": [
      "Wrong guess, try again.\n"
     ]
    },
    {
     "name": "stdin",
     "output_type": "stream",
     "text": [
      "Guess a number between 1 and 10:  7\n"
     ]
    },
    {
     "name": "stdout",
     "output_type": "stream",
     "text": [
      "Wrong guess, try again.\n"
     ]
    },
    {
     "name": "stdin",
     "output_type": "stream",
     "text": [
      "Guess a number between 1 and 10:  5\n"
     ]
    },
    {
     "name": "stdout",
     "output_type": "stream",
     "text": [
      "Correct guess congratulations!\n"
     ]
    }
   ],
   "source": [
    "# Real World Example\n",
    "# Example: Guessing Game\n",
    "# Generate a random number between 1 and 10. Keep asking the user to guess the number until they get it right.\n",
    "\n",
    "import random\n",
    "\n",
    "randomNumber = random.randint(1,10)\n",
    "\n",
    "while True:\n",
    "    guess = int(input(\"Guess a number between 1 and 10: \"))\n",
    "\n",
    "    if guess == randomNumber:\n",
    "        print(\"Correct guess congratulations!\")\n",
    "        break\n",
    "    else:\n",
    "        print(\"Wrong guess, try again.\")"
   ]
  },
  {
   "cell_type": "code",
   "execution_count": 40,
   "id": "43488ce2-6550-40cd-a5ed-deba15f63f9a",
   "metadata": {},
   "outputs": [
    {
     "name": "stdout",
     "output_type": "stream",
     "text": [
      "{1: 1, 3: 9, 5: 25, 7: 49, 9: 81}\n",
      "[0, 4, 16, 36, 64]\n"
     ]
    }
   ],
   "source": [
    "# List comprehension\n",
    "\n",
    "# Example four: List comprehension with condition printing a dictionary\n",
    "numbers = [1, 3, 5, 7, 9]\n",
    "square_dict = {x: x**2 for x in numbers}\n",
    "print(square_dict)\n",
    "\n",
    "# List comprehension with condition printing a list\n",
    "even_square = [x**2 for x in range(10) if x % 2 == 0]\n",
    "print(even_square)\n"
   ]
  },
  {
   "cell_type": "code",
   "execution_count": 42,
   "id": "7d1165d3-f544-40fd-bdf1-e4f31973210b",
   "metadata": {},
   "outputs": [
    {
     "name": "stdin",
     "output_type": "stream",
     "text": [
      "Enter the amount to withdraw:  3000\n"
     ]
    },
    {
     "name": "stdout",
     "output_type": "stream",
     "text": [
      "Withdrawal successful! Your new balance is 2000.\n"
     ]
    }
   ],
   "source": [
    "# Exercise  three: Create an ATM withdrawal program - use the if-else statement to check the account balance before allowing withdrawal\n",
    "\n",
    "account_balance = 5000\n",
    "withdrawal_amount = int(input(\"Enter the amount to withdraw: \"))\n",
    "\n",
    "if withdrawal_amount <= account_balance:\n",
    "    print(f\"Withdrawal successful! Your new balance is {account_balance - withdrawal_amount}.\")\n",
    "else:\n",
    "    print(\"Insufficient balance.\")"
   ]
  },
  {
   "cell_type": "code",
   "execution_count": 52,
   "id": "f89948cc-7c6a-4208-8573-6427ab5a8956",
   "metadata": {},
   "outputs": [
    {
     "name": "stdin",
     "output_type": "stream",
     "text": [
      "Enter the amount to withdraw:  4000\n"
     ]
    },
    {
     "name": "stdout",
     "output_type": "stream",
     "text": [
      "Withdrawal successful! Your new balance is 1000.0.\n"
     ]
    }
   ],
   "source": [
    "account_balance = 5000\n",
    "withdrawal_amount = float(input(\"Enter the amount to withdraw: \"))\n",
    "\n",
    "if withdrawal_amount <= account_balance:\n",
    "    print(f\"Withdrawal successful! Your new balance is {account_balance - withdrawal_amount}.\")\n",
    "else:\n",
    "    print(\"Insufficient balance.\")"
   ]
  },
  {
   "cell_type": "code",
   "execution_count": 54,
   "id": "492fd9c4-ab3c-470d-970a-86143a942d0b",
   "metadata": {},
   "outputs": [
    {
     "name": "stdin",
     "output_type": "stream",
     "text": [
      "Enter the amount to withdraw:  6000\n"
     ]
    },
    {
     "name": "stdout",
     "output_type": "stream",
     "text": [
      "Insufficient balance.\n"
     ]
    }
   ],
   "source": [
    "account_balance = 5000\n",
    "withdrawal_amount = float(input(\"Enter the amount to withdraw: \"))\n",
    "\n",
    "if withdrawal_amount <= account_balance:\n",
    "    print(f\"Withdrawal successful! Your new balance is {account_balance - withdrawal_amount}.\")\n",
    "else:\n",
    "    print(\"Insufficient balance.\")"
   ]
  },
  {
   "cell_type": "code",
   "execution_count": null,
   "id": "367c1a50-e8cb-49d8-b2b9-079c19ade1e0",
   "metadata": {},
   "outputs": [],
   "source": []
  }
 ],
 "metadata": {
  "kernelspec": {
   "display_name": "Python [conda env:base] *",
   "language": "python",
   "name": "conda-base-py"
  },
  "language_info": {
   "codemirror_mode": {
    "name": "ipython",
    "version": 3
   },
   "file_extension": ".py",
   "mimetype": "text/x-python",
   "name": "python",
   "nbconvert_exporter": "python",
   "pygments_lexer": "ipython3",
   "version": "3.12.7"
  }
 },
 "nbformat": 4,
 "nbformat_minor": 5
}
