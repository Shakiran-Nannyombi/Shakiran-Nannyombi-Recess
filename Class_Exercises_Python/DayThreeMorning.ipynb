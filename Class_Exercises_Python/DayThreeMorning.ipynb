{
 "cells": [
  {
   "cell_type": "code",
   "execution_count": null,
   "id": "7fb7afc6-7a2e-466b-9a45-6e259c476065",
   "metadata": {},
   "outputs": [],
   "source": [
    "# Functions"
   ]
  },
  {
   "cell_type": "code",
   "execution_count": 4,
   "id": "54bcdc5b-f70d-463c-a729-b1ca986ad7fb",
   "metadata": {},
   "outputs": [
    {
     "name": "stdout",
     "output_type": "stream",
     "text": [
      "Result:  75\n"
     ]
    }
   ],
   "source": [
    "# Write function to get product of three values\n",
    "\n",
    "def add_numbers(x,y,z):\n",
    "    result = x + y + z\n",
    "    print(f\"Result: \",result)\n",
    "\n",
    "add_numbers(10,5,60)"
   ]
  },
  {
   "cell_type": "code",
   "execution_count": null,
   "id": "ed827718-7d62-4faf-a3af-cfb8d1ec6bf3",
   "metadata": {},
   "outputs": [],
   "source": [
    "# Return values"
   ]
  },
  {
   "cell_type": "code",
   "execution_count": 6,
   "id": "df0d2d97-d2ce-4c09-901c-69a5c959daf3",
   "metadata": {},
   "outputs": [
    {
     "name": "stdout",
     "output_type": "stream",
     "text": [
      "2.0\n"
     ]
    }
   ],
   "source": [
    "#Use return to divide two values using the function\n",
    "\n",
    "def divide_number(a,b):\n",
    "    return a/b\n",
    "\n",
    "print(divide_number(6, 3))"
   ]
  },
  {
   "cell_type": "code",
   "execution_count": 10,
   "id": "df3d4391-a3ca-4074-89a9-4332218cd5ad",
   "metadata": {},
   "outputs": [
    {
     "name": "stdout",
     "output_type": "stream",
     "text": [
      "[1, 4, 9, 16]\n"
     ]
    }
   ],
   "source": [
    "# Use a lambda function to get the squares of a list map [1,2,3,4,5]\n",
    "numbers = [1, 2, 3, 4]\n",
    "squares = map(lambda x: x**2, numbers)\n",
    "print(list(squares))\n"
   ]
  },
  {
   "cell_type": "code",
   "execution_count": 24,
   "id": "13264f7f-d948-49c6-9f15-790b856fa1c3",
   "metadata": {},
   "outputs": [
    {
     "name": "stdout",
     "output_type": "stream",
     "text": [
      "Error: Number is negative!\n",
      "You've run successfully\n",
      "Number is positive, proceed\n",
      "You've run successfully\n"
     ]
    }
   ],
   "source": [
    "# Raise a custom exception that checks for positive numbers\n",
    "\n",
    "class NegativeNumberError(Exception):\n",
    "    pass\n",
    "\n",
    "def positive_NO(n):\n",
    "    try:\n",
    "        if n < 0:\n",
    "            raise NegativeNumberError(\"Number is negative!\")\n",
    "        else:\n",
    "            print(\"Number is positive, proceed\")\n",
    "    except NegativeNumberError as e:\n",
    "        print(f\"Error: {e}\")\n",
    "    finally:\n",
    "        print(\"You've run successfully\")\n",
    "\n",
    "positive_NO(-9)\n",
    "positive_NO(5)\n"
   ]
  }
 ],
 "metadata": {
  "kernelspec": {
   "display_name": "Python [conda env:base] *",
   "language": "python",
   "name": "conda-base-py"
  },
  "language_info": {
   "codemirror_mode": {
    "name": "ipython",
    "version": 3
   },
   "file_extension": ".py",
   "mimetype": "text/x-python",
   "name": "python",
   "nbconvert_exporter": "python",
   "pygments_lexer": "ipython3",
   "version": "3.12.7"
  }
 },
 "nbformat": 4,
 "nbformat_minor": 5
}
